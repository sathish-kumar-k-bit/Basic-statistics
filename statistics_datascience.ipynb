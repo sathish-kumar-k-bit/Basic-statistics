{
 "cells": [
  {
   "cell_type": "markdown",
   "id": "2cb9c214",
   "metadata": {},
   "source": [
    "# Practical statistics for data scientists\n",
    "\n",
    "https://github.com/gedeck/practical-statistics-for-data-scientists\n",
    "\n",
    "\n",
    "## Chapter 1 - Exploratory Data Analysis\n",
    "\n",
    "https://www.kaggle.com/arjunprasadsarkhel/2021-olympics-in-tokyo\n"
   ]
  },
  {
   "cell_type": "markdown",
   "id": "e9561c32",
   "metadata": {},
   "source": [
    "## Estimates of location - Measure of Centre\n"
   ]
  },
  {
   "cell_type": "code",
   "execution_count": 1,
   "id": "1ce266bf",
   "metadata": {},
   "outputs": [],
   "source": [
    "import pandas as pd\n"
   ]
  },
  {
   "cell_type": "code",
   "execution_count": 2,
   "id": "26047e55",
   "metadata": {},
   "outputs": [
    {
     "name": "stderr",
     "output_type": "stream",
     "text": [
      "C:\\ProgramData\\Anaconda3\\lib\\site-packages\\openpyxl\\styles\\stylesheet.py:226: UserWarning: Workbook contains no default style, apply openpyxl's default\n",
      "  warn(\"Workbook contains no default style, apply openpyxl's default\")\n"
     ]
    }
   ],
   "source": [
    "medal_count = pd.read_excel('C:/Users/Administrator/Documents/projects/statistics/CHAPTER 1/Medals.xlsx')"
   ]
  },
  {
   "cell_type": "code",
   "execution_count": 3,
   "id": "c5ba1a5c",
   "metadata": {},
   "outputs": [
    {
     "data": {
      "text/html": [
       "<div>\n",
       "<style scoped>\n",
       "    .dataframe tbody tr th:only-of-type {\n",
       "        vertical-align: middle;\n",
       "    }\n",
       "\n",
       "    .dataframe tbody tr th {\n",
       "        vertical-align: top;\n",
       "    }\n",
       "\n",
       "    .dataframe thead th {\n",
       "        text-align: right;\n",
       "    }\n",
       "</style>\n",
       "<table border=\"1\" class=\"dataframe\">\n",
       "  <thead>\n",
       "    <tr style=\"text-align: right;\">\n",
       "      <th></th>\n",
       "      <th>Rank</th>\n",
       "      <th>Team/NOC</th>\n",
       "      <th>Gold</th>\n",
       "      <th>Silver</th>\n",
       "      <th>Bronze</th>\n",
       "      <th>Total</th>\n",
       "      <th>Rank by Total</th>\n",
       "    </tr>\n",
       "  </thead>\n",
       "  <tbody>\n",
       "    <tr>\n",
       "      <th>0</th>\n",
       "      <td>1</td>\n",
       "      <td>United States of America</td>\n",
       "      <td>39</td>\n",
       "      <td>41</td>\n",
       "      <td>33</td>\n",
       "      <td>113</td>\n",
       "      <td>1</td>\n",
       "    </tr>\n",
       "    <tr>\n",
       "      <th>1</th>\n",
       "      <td>2</td>\n",
       "      <td>People's Republic of China</td>\n",
       "      <td>38</td>\n",
       "      <td>32</td>\n",
       "      <td>18</td>\n",
       "      <td>88</td>\n",
       "      <td>2</td>\n",
       "    </tr>\n",
       "    <tr>\n",
       "      <th>2</th>\n",
       "      <td>3</td>\n",
       "      <td>Japan</td>\n",
       "      <td>27</td>\n",
       "      <td>14</td>\n",
       "      <td>17</td>\n",
       "      <td>58</td>\n",
       "      <td>5</td>\n",
       "    </tr>\n",
       "    <tr>\n",
       "      <th>3</th>\n",
       "      <td>4</td>\n",
       "      <td>Great Britain</td>\n",
       "      <td>22</td>\n",
       "      <td>21</td>\n",
       "      <td>22</td>\n",
       "      <td>65</td>\n",
       "      <td>4</td>\n",
       "    </tr>\n",
       "    <tr>\n",
       "      <th>4</th>\n",
       "      <td>5</td>\n",
       "      <td>ROC</td>\n",
       "      <td>20</td>\n",
       "      <td>28</td>\n",
       "      <td>23</td>\n",
       "      <td>71</td>\n",
       "      <td>3</td>\n",
       "    </tr>\n",
       "    <tr>\n",
       "      <th>...</th>\n",
       "      <td>...</td>\n",
       "      <td>...</td>\n",
       "      <td>...</td>\n",
       "      <td>...</td>\n",
       "      <td>...</td>\n",
       "      <td>...</td>\n",
       "      <td>...</td>\n",
       "    </tr>\n",
       "    <tr>\n",
       "      <th>88</th>\n",
       "      <td>86</td>\n",
       "      <td>Ghana</td>\n",
       "      <td>0</td>\n",
       "      <td>0</td>\n",
       "      <td>1</td>\n",
       "      <td>1</td>\n",
       "      <td>77</td>\n",
       "    </tr>\n",
       "    <tr>\n",
       "      <th>89</th>\n",
       "      <td>86</td>\n",
       "      <td>Grenada</td>\n",
       "      <td>0</td>\n",
       "      <td>0</td>\n",
       "      <td>1</td>\n",
       "      <td>1</td>\n",
       "      <td>77</td>\n",
       "    </tr>\n",
       "    <tr>\n",
       "      <th>90</th>\n",
       "      <td>86</td>\n",
       "      <td>Kuwait</td>\n",
       "      <td>0</td>\n",
       "      <td>0</td>\n",
       "      <td>1</td>\n",
       "      <td>1</td>\n",
       "      <td>77</td>\n",
       "    </tr>\n",
       "    <tr>\n",
       "      <th>91</th>\n",
       "      <td>86</td>\n",
       "      <td>Republic of Moldova</td>\n",
       "      <td>0</td>\n",
       "      <td>0</td>\n",
       "      <td>1</td>\n",
       "      <td>1</td>\n",
       "      <td>77</td>\n",
       "    </tr>\n",
       "    <tr>\n",
       "      <th>92</th>\n",
       "      <td>86</td>\n",
       "      <td>Syrian Arab Republic</td>\n",
       "      <td>0</td>\n",
       "      <td>0</td>\n",
       "      <td>1</td>\n",
       "      <td>1</td>\n",
       "      <td>77</td>\n",
       "    </tr>\n",
       "  </tbody>\n",
       "</table>\n",
       "<p>93 rows × 7 columns</p>\n",
       "</div>"
      ],
      "text/plain": [
       "    Rank                    Team/NOC  Gold  Silver  Bronze  Total  \\\n",
       "0      1    United States of America    39      41      33    113   \n",
       "1      2  People's Republic of China    38      32      18     88   \n",
       "2      3                       Japan    27      14      17     58   \n",
       "3      4               Great Britain    22      21      22     65   \n",
       "4      5                         ROC    20      28      23     71   \n",
       "..   ...                         ...   ...     ...     ...    ...   \n",
       "88    86                       Ghana     0       0       1      1   \n",
       "89    86                     Grenada     0       0       1      1   \n",
       "90    86                      Kuwait     0       0       1      1   \n",
       "91    86         Republic of Moldova     0       0       1      1   \n",
       "92    86        Syrian Arab Republic     0       0       1      1   \n",
       "\n",
       "    Rank by Total  \n",
       "0               1  \n",
       "1               2  \n",
       "2               5  \n",
       "3               4  \n",
       "4               3  \n",
       "..            ...  \n",
       "88             77  \n",
       "89             77  \n",
       "90             77  \n",
       "91             77  \n",
       "92             77  \n",
       "\n",
       "[93 rows x 7 columns]"
      ]
     },
     "execution_count": 3,
     "metadata": {},
     "output_type": "execute_result"
    }
   ],
   "source": [
    "medal_count"
   ]
  },
  {
   "cell_type": "code",
   "execution_count": 4,
   "id": "dd5dea11",
   "metadata": {},
   "outputs": [
    {
     "data": {
      "text/plain": [
       "11.612903225806452"
      ]
     },
     "execution_count": 4,
     "metadata": {},
     "output_type": "execute_result"
    }
   ],
   "source": [
    "# Mean: Sum of all values divided by number of values\n",
    "medal_count['Total'].mean()\n"
   ]
  },
  {
   "cell_type": "code",
   "execution_count": 5,
   "id": "40a32a90",
   "metadata": {},
   "outputs": [
    {
     "data": {
      "text/plain": [
       "46.832352941176474"
      ]
     },
     "execution_count": 5,
     "metadata": {},
     "output_type": "execute_result"
    }
   ],
   "source": [
    "## weighted mean: same as mean, except you multiply every valye by some xi before adding them up \n",
    "## and dividing by the number of instances\n",
    "## not all instances are equally valuable so we might want to add or subtract weight\n",
    "\n",
    "import numpy as np\n",
    "\n",
    "np.average(medal_count['Total'], weights = medal_count['Gold'])"
   ]
  },
  {
   "cell_type": "code",
   "execution_count": 6,
   "id": "d56e1d04",
   "metadata": {},
   "outputs": [
    {
     "data": {
      "text/plain": [
       "1.96"
      ]
     },
     "execution_count": 6,
     "metadata": {},
     "output_type": "execute_result"
    }
   ],
   "source": [
    "## Trimmed Mean: Remove the top and bottom x values from the dataset then calculate the mean\n",
    "## Helps reduce the impact of outliers. Used in international diving competitions where the top and bottom scores\n",
    "## aren't counted when calculating a diver's mean score\n",
    "\n",
    "from scipy.stats import trim_mean\n",
    "trim_mean(medal_count['Gold'], 0.1)\n",
    "\n",
    "## Robust : A robust metric is one which is not sensitive to outliers"
   ]
  },
  {
   "cell_type": "code",
   "execution_count": 7,
   "id": "877e183d",
   "metadata": {},
   "outputs": [
    {
     "data": {
      "text/plain": [
       "4.0"
      ]
     },
     "execution_count": 7,
     "metadata": {},
     "output_type": "execute_result"
    }
   ],
   "source": [
    "# Median: The middle valye in a sorted list values\n",
    "medal_count['Total'].median()"
   ]
  },
  {
   "cell_type": "code",
   "execution_count": 8,
   "id": "a790d2d6",
   "metadata": {},
   "outputs": [
    {
     "data": {
      "text/plain": [
       "40"
      ]
     },
     "execution_count": 8,
     "metadata": {},
     "output_type": "execute_result"
    }
   ],
   "source": [
    "## Weighted mean: We multiply every value with some weight xi and then pick the middle value such that\n",
    "## the sum of values to the left of the median are the same as the sum of values to the rights of the median\n",
    "\n",
    "## You can use the wquantiles package they mention in hte book, but i'd prefer to redyce the number of packages\n",
    "## that I download in my environments so I found the website with a methodology to do weighted medians using just pandas\n",
    "\n",
    "# https://newbedev.com/python-weighted-median-algorithm-with-pandas\n",
    "\n",
    "def weighted_median(df, median_col, weight_col):\n",
    "    df_sorted = df.sort_values(median_col)\n",
    "    cumsum = df_sorted[weight_col].cumsum()\n",
    "    cutoff = df_sorted[weight_col].sum() / 2.\n",
    "    return df_sorted[cumsum >= cutoff][median_col].iloc[0]\n",
    "\n",
    "weighted_median(medal_count, 'Total', 'Gold')"
   ]
  },
  {
   "cell_type": "code",
   "execution_count": 9,
   "id": "4db1c763",
   "metadata": {},
   "outputs": [
    {
     "data": {
      "text/plain": [
       "11.0"
      ]
     },
     "execution_count": 9,
     "metadata": {},
     "output_type": "execute_result"
    }
   ],
   "source": [
    "## Percentile: the value such that P percnet of the data lies below it\n",
    "q3 = np.percentile(medal_count['Total'], 75)\n",
    "q3"
   ]
  },
  {
   "cell_type": "code",
   "execution_count": 10,
   "id": "7dd6ee83",
   "metadata": {},
   "outputs": [
    {
     "data": {
      "text/html": [
       "<div>\n",
       "<style scoped>\n",
       "    .dataframe tbody tr th:only-of-type {\n",
       "        vertical-align: middle;\n",
       "    }\n",
       "\n",
       "    .dataframe tbody tr th {\n",
       "        vertical-align: top;\n",
       "    }\n",
       "\n",
       "    .dataframe thead th {\n",
       "        text-align: right;\n",
       "    }\n",
       "</style>\n",
       "<table border=\"1\" class=\"dataframe\">\n",
       "  <thead>\n",
       "    <tr style=\"text-align: right;\">\n",
       "      <th></th>\n",
       "      <th>Rank</th>\n",
       "      <th>Gold</th>\n",
       "      <th>Silver</th>\n",
       "      <th>Bronze</th>\n",
       "      <th>Total</th>\n",
       "      <th>Rank by Total</th>\n",
       "    </tr>\n",
       "  </thead>\n",
       "  <tbody>\n",
       "    <tr>\n",
       "      <th>count</th>\n",
       "      <td>93.000000</td>\n",
       "      <td>93.000000</td>\n",
       "      <td>93.000000</td>\n",
       "      <td>93.000000</td>\n",
       "      <td>93.000000</td>\n",
       "      <td>93.000000</td>\n",
       "    </tr>\n",
       "    <tr>\n",
       "      <th>mean</th>\n",
       "      <td>46.333333</td>\n",
       "      <td>3.655914</td>\n",
       "      <td>3.634409</td>\n",
       "      <td>4.322581</td>\n",
       "      <td>11.612903</td>\n",
       "      <td>43.494624</td>\n",
       "    </tr>\n",
       "    <tr>\n",
       "      <th>std</th>\n",
       "      <td>26.219116</td>\n",
       "      <td>7.022471</td>\n",
       "      <td>6.626339</td>\n",
       "      <td>6.210372</td>\n",
       "      <td>19.091332</td>\n",
       "      <td>24.171769</td>\n",
       "    </tr>\n",
       "    <tr>\n",
       "      <th>min</th>\n",
       "      <td>1.000000</td>\n",
       "      <td>0.000000</td>\n",
       "      <td>0.000000</td>\n",
       "      <td>0.000000</td>\n",
       "      <td>1.000000</td>\n",
       "      <td>1.000000</td>\n",
       "    </tr>\n",
       "    <tr>\n",
       "      <th>25%</th>\n",
       "      <td>24.000000</td>\n",
       "      <td>0.000000</td>\n",
       "      <td>0.000000</td>\n",
       "      <td>1.000000</td>\n",
       "      <td>2.000000</td>\n",
       "      <td>23.000000</td>\n",
       "    </tr>\n",
       "    <tr>\n",
       "      <th>50%</th>\n",
       "      <td>46.000000</td>\n",
       "      <td>1.000000</td>\n",
       "      <td>1.000000</td>\n",
       "      <td>2.000000</td>\n",
       "      <td>4.000000</td>\n",
       "      <td>47.000000</td>\n",
       "    </tr>\n",
       "    <tr>\n",
       "      <th>75%</th>\n",
       "      <td>70.000000</td>\n",
       "      <td>3.000000</td>\n",
       "      <td>4.000000</td>\n",
       "      <td>5.000000</td>\n",
       "      <td>11.000000</td>\n",
       "      <td>66.000000</td>\n",
       "    </tr>\n",
       "    <tr>\n",
       "      <th>max</th>\n",
       "      <td>86.000000</td>\n",
       "      <td>39.000000</td>\n",
       "      <td>41.000000</td>\n",
       "      <td>33.000000</td>\n",
       "      <td>113.000000</td>\n",
       "      <td>77.000000</td>\n",
       "    </tr>\n",
       "  </tbody>\n",
       "</table>\n",
       "</div>"
      ],
      "text/plain": [
       "            Rank       Gold     Silver     Bronze       Total  Rank by Total\n",
       "count  93.000000  93.000000  93.000000  93.000000   93.000000      93.000000\n",
       "mean   46.333333   3.655914   3.634409   4.322581   11.612903      43.494624\n",
       "std    26.219116   7.022471   6.626339   6.210372   19.091332      24.171769\n",
       "min     1.000000   0.000000   0.000000   0.000000    1.000000       1.000000\n",
       "25%    24.000000   0.000000   0.000000   1.000000    2.000000      23.000000\n",
       "50%    46.000000   1.000000   1.000000   2.000000    4.000000      47.000000\n",
       "75%    70.000000   3.000000   4.000000   5.000000   11.000000      66.000000\n",
       "max    86.000000  39.000000  41.000000  33.000000  113.000000      77.000000"
      ]
     },
     "execution_count": 10,
     "metadata": {},
     "output_type": "execute_result"
    }
   ],
   "source": [
    "medal_count.describe()"
   ]
  },
  {
   "cell_type": "markdown",
   "id": "df9f0f0b",
   "metadata": {},
   "source": [
    "# Estimates of variability(dispersion metrics)-Measure of spread or Dispersion\n",
    "\n",
    "Variability is at the heart of statistics and where a lot of information on a dataset can be gleaned"
   ]
  },
  {
   "cell_type": "markdown",
   "id": "2dacd232",
   "metadata": {},
   "source": [
    "Deviations: The difference between observed values and the estimate of location, also called errors or Residuals"
   ]
  },
  {
   "cell_type": "code",
   "execution_count": 11,
   "id": "1f0bb70b",
   "metadata": {},
   "outputs": [
    {
     "data": {
      "text/plain": [
       "364.47896213183736"
      ]
     },
     "execution_count": 11,
     "metadata": {},
     "output_type": "execute_result"
    }
   ],
   "source": [
    "# Variance: square the deviation, from the mean, divide by n-1 where n is the number of instances\n",
    "\n",
    "from statistics import variance\n",
    "variance(medal_count['Total'])"
   ]
  },
  {
   "cell_type": "code",
   "execution_count": 12,
   "id": "5320dda5",
   "metadata": {},
   "outputs": [
    {
     "data": {
      "text/plain": [
       "19.091332120411014"
      ]
     },
     "execution_count": 12,
     "metadata": {},
     "output_type": "execute_result"
    }
   ],
   "source": [
    "# Standard Deviation: Square root of variance\n",
    "from statistics import stdev\n",
    "stdev(medal_count['Total'])"
   ]
  },
  {
   "cell_type": "code",
   "execution_count": 13,
   "id": "46bc5213",
   "metadata": {},
   "outputs": [
    {
     "data": {
      "text/plain": [
       "11.602497398543184"
      ]
     },
     "execution_count": 13,
     "metadata": {},
     "output_type": "execute_result"
    }
   ],
   "source": [
    "# Mean absolute deviation : mean of the absolute value of the deviations from the mean, also know as l1 norm or manhattan norm\n",
    "\n",
    "from numpy import mean, absolute\n",
    "\n",
    "mean(absolute(medal_count['Total'] - mean(medal_count['Total'])))"
   ]
  },
  {
   "cell_type": "code",
   "execution_count": 14,
   "id": "e0cf70b3",
   "metadata": {},
   "outputs": [
    {
     "data": {
      "text/plain": [
       "9.311827956989248"
      ]
     },
     "execution_count": 14,
     "metadata": {},
     "output_type": "execute_result"
    }
   ],
   "source": [
    "# median absolute deviation from the median: Median of the absolute values of the deviation from the median\n",
    "\n",
    "from numpy import median, absolute\n",
    "\n",
    "mean(absolute(medal_count['Total'] - median(medal_count['Total'])))"
   ]
  },
  {
   "cell_type": "code",
   "execution_count": 15,
   "id": "0ef26d4d",
   "metadata": {},
   "outputs": [
    {
     "data": {
      "text/plain": [
       "9.0"
      ]
     },
     "execution_count": 15,
     "metadata": {},
     "output_type": "execute_result"
    }
   ],
   "source": [
    "# Range: difference betweet the largest and smallest values in the dataset\n",
    "# order statistics: Metrics based on the data values sorted from smallest to biggest\n",
    "# Percentile: The values which is greater than P percent of values in the dataset\n",
    "# Interquartile Range: Difference between the 75th and 25th percentile\n",
    "\n",
    "q3, q1 = np.percentile(medal_count['Total'], [75,25])\n",
    "\n",
    "iqr = q3 - q1\n",
    "\n",
    "iqr"
   ]
  },
  {
   "cell_type": "markdown",
   "id": "6fdd6fa8",
   "metadata": {},
   "source": [
    "## Standard Deviation and related estimates\n",
    "\n",
    "Mean absolute deviation is one method to measure variability. It is simply the sum of the absolute values\n",
    "of all deviations(values-mean) divided by the number of instances.\n",
    "\n",
    "Other metrics include the variance and standard deviation, The variance is an average of squared deviations,\n",
    "and the standard deviation is the square root of variance.\n",
    "\n",
    "One reason that people tend to prefer the standard deviation to the variance, is that the standard deviation\n",
    "operates  on the same scale as the rest of the data.\n",
    "\n",
    "All three of these metrics are not robust against ouliers and the variance and standard deviation are particularly\n",
    "susceptible to outliers because of how they square their deviations.\n",
    "\n",
    "The median absolute deviation is robust agains outliers and is calculated by taking the median of the absolute\n",
    "value of all values - the median\n",
    "\n",
    "@ the variance, standard deviation, mean absolute deviation, and median absolute deviation are not equivalent estimates,\n",
    "  Standard deviatio > mean absolute deviation > median absolute deviation.\n",
    "  \n",
    "  You can compare the median absolute deviation with the standard deviation for a normal deviation \n",
    "  by multiplying by a factor of 1.4826."
   ]
  },
  {
   "cell_type": "markdown",
   "id": "544aa8c1",
   "metadata": {},
   "source": [
    "# Estimates Based on Percentile\n",
    "\n",
    "Another method of measuring dispersion is looking at the spread of sorted data. Statistics based on sorted data are\n",
    "called order statistics. \n",
    "\n",
    "The range is the most common of these statistics and is simply the maximum value minus the \n",
    "minimum value. This is incredibly sensitive to outliers, so avoid this we typically take statistics that ignore the \n",
    "highest and lowest percentile values. \n",
    "\n",
    "The Interquartile Range is the most famous of these statistics and is the 75th percentile minus the 25th percentile.\n",
    "\n",
    "For every large datasets, it can get computationally intensive to calculate these statistics because it requires\n",
    "sorting the data, so a machine learning algorithm might estimate these statistics."
   ]
  },
  {
   "cell_type": "markdown",
   "id": "1678d3f8",
   "metadata": {},
   "source": [
    "# Exploring the Data Distribution "
   ]
  },
  {
   "cell_type": "markdown",
   "id": "008b1b0b",
   "metadata": {},
   "source": [
    "## Percentiles and Boxplots\n",
    "\n",
    "Percentiles are great way to summarize the tails of a distribution such as the ntop 1%\n",
    "\n",
    "You can also construct box plots which are a tremendous way to visually summarize the distribution of data in a dataset\n",
    "\n"
   ]
  },
  {
   "cell_type": "code",
   "execution_count": 16,
   "id": "1f2f805f",
   "metadata": {},
   "outputs": [
    {
     "data": {
      "text/plain": [
       "<AxesSubplot:>"
      ]
     },
     "execution_count": 16,
     "metadata": {},
     "output_type": "execute_result"
    },
    {
     "data": {
      "image/png": "[encoded data removed]",
      "text/plain": [
       "<Figure size 432x288 with 1 Axes>"
      ]
     },
     "metadata": {
      "needs_background": "light"
     },
     "output_type": "display_data"
    }
   ],
   "source": [
    "medal_count.boxplot(column='Total', by=None, ax=None)"
   ]
  },
  {
   "cell_type": "markdown",
   "id": "797e81d2",
   "metadata": {},
   "source": [
    "## Frequency tables and Histograms\n",
    "\n",
    "Frequency tables divede the values of a vatiale into equall spcaed segments, and quantify the number of observations\n",
    "in each segment(basically a histogram not visuvalized)\n",
    "\n",
    "\n",
    "https://towardsdatascience.com/histograms-and-density-plots-in-python-f6bda88f5ac0"
   ]
  },
  {
   "cell_type": "code",
   "execution_count": 17,
   "id": "46948e14",
   "metadata": {},
   "outputs": [
    {
     "data": {
      "text/html": [
       "<div>\n",
       "<style scoped>\n",
       "    .dataframe tbody tr th:only-of-type {\n",
       "        vertical-align: middle;\n",
       "    }\n",
       "\n",
       "    .dataframe tbody tr th {\n",
       "        vertical-align: top;\n",
       "    }\n",
       "\n",
       "    .dataframe thead th {\n",
       "        text-align: right;\n",
       "    }\n",
       "</style>\n",
       "<table border=\"1\" class=\"dataframe\">\n",
       "  <thead>\n",
       "    <tr style=\"text-align: right;\">\n",
       "      <th></th>\n",
       "      <th>freq</th>\n",
       "      <th>Rank</th>\n",
       "    </tr>\n",
       "  </thead>\n",
       "  <tbody>\n",
       "    <tr>\n",
       "      <th>0</th>\n",
       "      <td>(0.888, 12.2]</td>\n",
       "      <td>72</td>\n",
       "    </tr>\n",
       "    <tr>\n",
       "      <th>1</th>\n",
       "      <td>(12.2, 23.4]</td>\n",
       "      <td>10</td>\n",
       "    </tr>\n",
       "    <tr>\n",
       "      <th>2</th>\n",
       "      <td>(23.4, 34.6]</td>\n",
       "      <td>2</td>\n",
       "    </tr>\n",
       "    <tr>\n",
       "      <th>3</th>\n",
       "      <td>(34.6, 45.8]</td>\n",
       "      <td>3</td>\n",
       "    </tr>\n",
       "    <tr>\n",
       "      <th>4</th>\n",
       "      <td>(45.8, 57.0]</td>\n",
       "      <td>1</td>\n",
       "    </tr>\n",
       "    <tr>\n",
       "      <th>5</th>\n",
       "      <td>(57.0, 68.2]</td>\n",
       "      <td>2</td>\n",
       "    </tr>\n",
       "    <tr>\n",
       "      <th>6</th>\n",
       "      <td>(68.2, 79.4]</td>\n",
       "      <td>1</td>\n",
       "    </tr>\n",
       "    <tr>\n",
       "      <th>7</th>\n",
       "      <td>(79.4, 90.6]</td>\n",
       "      <td>1</td>\n",
       "    </tr>\n",
       "    <tr>\n",
       "      <th>8</th>\n",
       "      <td>(90.6, 101.8]</td>\n",
       "      <td>0</td>\n",
       "    </tr>\n",
       "    <tr>\n",
       "      <th>9</th>\n",
       "      <td>(101.8, 113.0]</td>\n",
       "      <td>1</td>\n",
       "    </tr>\n",
       "  </tbody>\n",
       "</table>\n",
       "</div>"
      ],
      "text/plain": [
       "             freq  Rank\n",
       "0   (0.888, 12.2]    72\n",
       "1    (12.2, 23.4]    10\n",
       "2    (23.4, 34.6]     2\n",
       "3    (34.6, 45.8]     3\n",
       "4    (45.8, 57.0]     1\n",
       "5    (57.0, 68.2]     2\n",
       "6    (68.2, 79.4]     1\n",
       "7    (79.4, 90.6]     1\n",
       "8   (90.6, 101.8]     0\n",
       "9  (101.8, 113.0]     1"
      ]
     },
     "execution_count": 17,
     "metadata": {},
     "output_type": "execute_result"
    }
   ],
   "source": [
    "frequency_table = medal_count.copy()\n",
    "frequency_table['freq']=pd.cut(medal_count['Total'], 10)\n",
    "frequency_table.groupby('freq')['Rank'].count().reset_index()"
   ]
  },
  {
   "cell_type": "code",
   "execution_count": 18,
   "id": "cdf7d185",
   "metadata": {},
   "outputs": [
    {
     "data": {
      "text/plain": [
       "(array([47., 18.,  7.,  4.,  5.,  2.,  0.,  0.,  1.,  2.,  1.,  1.,  0.,\n",
       "         0.,  1.,  0.,  1.,  0.,  1.,  0.,  0.,  0.,  1.,  0.,  0.,  0.,\n",
       "         0.,  0.,  1.]),\n",
       " array([  1.        ,   4.86206897,   8.72413793,  12.5862069 ,\n",
       "         16.44827586,  20.31034483,  24.17241379,  28.03448276,\n",
       "         31.89655172,  35.75862069,  39.62068966,  43.48275862,\n",
       "         47.34482759,  51.20689655,  55.06896552,  58.93103448,\n",
       "         62.79310345,  66.65517241,  70.51724138,  74.37931034,\n",
       "         78.24137931,  82.10344828,  85.96551724,  89.82758621,\n",
       "         93.68965517,  97.55172414, 101.4137931 , 105.27586207,\n",
       "        109.13793103, 113.        ]),\n",
       " <BarContainer object of 29 artists>)"
      ]
     },
     "execution_count": 18,
     "metadata": {},
     "output_type": "execute_result"
    },
    {
     "data": {
      "image/png": "[encoded data removed]",
      "text/plain": [
       "<Figure size 432x288 with 1 Axes>"
      ]
     },
     "metadata": {
      "needs_background": "light"
     },
     "output_type": "display_data"
    }
   ],
   "source": [
    "# histogram\n",
    "import matplotlib.pyplot as plt\n",
    "plt.hist(x = medal_count['Total'], bins = 'auto', alpha = 0.7, rwidth=0.85)"
   ]
  },
  {
   "cell_type": "markdown",
   "id": "c623f9a5",
   "metadata": {},
   "source": [
    "# Statistical moments\n",
    "\n",
    "Moments are a set of statistical parameters to measure a distribution, four moments are commonly used: \n",
    "\n",
    "First Moment is location(mean): Average of all the data\n",
    "\n",
    "Second Moment is Variability: How closely values are spread aroung the mean(or another measure of central tendancy)\n",
    "\n",
    "Third Moment is Skewness: Direction of the tail of the data - discoverd through visualization not a metric\n",
    "    It is often approximated by Skew = (Mean - Median) / (Std dev).\n",
    "    If skewness is positive, the mean is bigger than the median and the distribution has a large tail of high values.\n",
    "    If skewness is negative, the mean is smaller than the median and the distribution has a large tail of small values.\n",
    "\n",
    "Fourth moment is Kurtosis: Propensity for data to have extreme values - discovered through visualization not a metric\n",
    "    Positive kurtosis indicates a thin pointed distribution.\n",
    "    Negative kurtosis indicates a broad flat distribution.\n",
    "\n",
    "https://www.usna.edu/Users/oceano/pguth/md_help/html/moment_stats_2.htm"
   ]
  },
  {
   "cell_type": "markdown",
   "id": "ef903996",
   "metadata": {},
   "source": [
    "## Density plots and estimates\n",
    "A Density plot is a smoothed histogram and shows the distribution of data values as a continous line and the y-axis is plotted as a proportion, The proportion part is the key difference here and the reason that density plots are not the same as histograms"
   ]
  },
  {
   "cell_type": "code",
   "execution_count": 19,
   "id": "d55c83b1",
   "metadata": {},
   "outputs": [
    {
     "data": {
      "text/plain": [
       "Text(0.5, 0, 'Total medal gain by countries')"
      ]
     },
     "execution_count": 19,
     "metadata": {},
     "output_type": "execute_result"
    },
    {
     "data": {
      "image/png": "[encoded data removed]",
      "text/plain": [
       "<Figure size 432x288 with 1 Axes>"
      ]
     },
     "metadata": {
      "needs_background": "light"
     },
     "output_type": "display_data"
    }
   ],
   "source": [
    "ax = medal_count['Total'].plot.hist(density = True, xlim = [0,12], bins = range(1,12))\n",
    "medal_count['Total'].plot.density(ax = ax)\n",
    "ax.set_xlabel('Total medal gain by countries')"
   ]
  },
  {
   "cell_type": "markdown",
   "id": "46efd712",
   "metadata": {},
   "source": [
    "# Exploring Binary and Categorical Data\n",
    "\n",
    "Mode: Value that appears the most ofter\n",
    "\n",
    "Expected value: Sum of each value multiplied by the probability of occurrence\n",
    "\n",
    "Bar charts: Plots each variable against its frequency or proportion"
   ]
  },
  {
   "cell_type": "code",
   "execution_count": 20,
   "id": "eee1d6fe",
   "metadata": {},
   "outputs": [
    {
     "data": {
      "text/plain": [
       "0    1\n",
       "dtype: int64"
      ]
     },
     "execution_count": 20,
     "metadata": {},
     "output_type": "execute_result"
    }
   ],
   "source": [
    "# mode\n",
    "\n",
    "medal_count['Total'].mode()"
   ]
  },
  {
   "cell_type": "code",
   "execution_count": 21,
   "id": "85748a86",
   "metadata": {},
   "outputs": [],
   "source": [
    "# expected values"
   ]
  },
  {
   "cell_type": "code",
   "execution_count": 22,
   "id": "079b2c17",
   "metadata": {},
   "outputs": [
    {
     "data": {
      "text/plain": [
       "Text(0, 0.5, 'Total Medals')"
      ]
     },
     "execution_count": 22,
     "metadata": {},
     "output_type": "execute_result"
    },
    {
     "data": {
      "image/png": "[encoded data removed]",
      "text/plain": [
       "<Figure size 1440x720 with 1 Axes>"
      ]
     },
     "metadata": {
      "needs_background": "light"
     },
     "output_type": "display_data"
    }
   ],
   "source": [
    "# Barcharts\n",
    "ax = medal_count.plot.bar(x = \"Team/NOC\", y = 'Total',figsize = (20,10), legend = False)\n",
    "ax.set_xlabel('Countries')\n",
    "ax.set_ylabel('Total Medals')"
   ]
  },
  {
   "cell_type": "code",
   "execution_count": 23,
   "id": "ab6f9875",
   "metadata": {},
   "outputs": [
    {
     "data": {
      "text/plain": [
       "Text(0, 0.5, 'Total Medals')"
      ]
     },
     "execution_count": 23,
     "metadata": {},
     "output_type": "execute_result"
    },
    {
     "data": {
      "image/png": "[encoded data removed]",
      "text/plain": [
       "<Figure size 432x288 with 1 Axes>"
      ]
     },
     "metadata": {
      "needs_background": "light"
     },
     "output_type": "display_data"
    }
   ],
   "source": [
    "ax = medal_count.iloc[:10, :].plot.bar(x = \"Team/NOC\", y = 'Total', legend = True)\n",
    "ax.set_xlabel('Countries')\n",
    "ax.set_ylabel('Total Medals')"
   ]
  },
  {
   "cell_type": "markdown",
   "id": "7c4e3fc8",
   "metadata": {},
   "source": [
    "### Probabilities are another way to describe categorical or binary data by grouping each variable with its likelihood of being chosen(proportion of the entire dataset)"
   ]
  },
  {
   "cell_type": "markdown",
   "id": "9ae36063",
   "metadata": {},
   "source": [
    "# Covariance Estimates\n",
    "\n",
    "Many statistical problems require the estimation of a population's covariance matrix. Which can be seen as an estimation of data set scatter plot shape\n",
    "\n",
    "https://scikit-learn.org/stable/modules/covariance.html"
   ]
  },
  {
   "cell_type": "markdown",
   "id": "d53f2590",
   "metadata": {},
   "source": [
    "# Exploring Two of more variables\n",
    "\n",
    "Means and variance are a form of univariate analysis, correlation is a form of bivariate analysis, and methods that look at more than two variables simultaneously are called multivariate analysis, After analyzing individual variables, you will usuall want to see how variables interact with one another. When deciding which method to use, you must first determine whether you are comparing numerical variables to one another, numerical vs categorical variables, or categorical varibles to one another\n",
    "\n",
    "Contigency table: tally counts between tow or more variables\n",
    "\n",
    "Hexagonal binning: Plots of two numeric variables with records binned into hexagons\n",
    "\n",
    "Contour plot: Plots showing density of two numeric variables similar to a topographical map\n",
    "\n",
    "Violin plot: box plot for density estimates\n"
   ]
  },
  {
   "cell_type": "markdown",
   "id": "c3c1a515",
   "metadata": {},
   "source": [
    "# Correlation\n",
    "\n",
    "Correlation Coefficient: Generally use Pearson's correlation coefficient. The PCC is sensitive to outliers, This measure how change in one variable will change another variable. It is very useful to check how variables are related with each other.\n",
    "\n",
    "Correlation Matrix: Show the correlation between all variables in a dataset. The primary diagonal will be 1's the engire way down"
   ]
  },
  {
   "cell_type": "code",
   "execution_count": 24,
   "id": "57fefdd2",
   "metadata": {},
   "outputs": [
    {
     "data": {
      "text/html": [
       "<div>\n",
       "<style scoped>\n",
       "    .dataframe tbody tr th:only-of-type {\n",
       "        vertical-align: middle;\n",
       "    }\n",
       "\n",
       "    .dataframe tbody tr th {\n",
       "        vertical-align: top;\n",
       "    }\n",
       "\n",
       "    .dataframe thead th {\n",
       "        text-align: right;\n",
       "    }\n",
       "</style>\n",
       "<table border=\"1\" class=\"dataframe\">\n",
       "  <thead>\n",
       "    <tr style=\"text-align: right;\">\n",
       "      <th></th>\n",
       "      <th>Rank</th>\n",
       "      <th>Gold</th>\n",
       "      <th>Silver</th>\n",
       "      <th>Bronze</th>\n",
       "      <th>Total</th>\n",
       "      <th>Rank by Total</th>\n",
       "    </tr>\n",
       "  </thead>\n",
       "  <tbody>\n",
       "    <tr>\n",
       "      <th>Rank</th>\n",
       "      <td>1.000000</td>\n",
       "      <td>-0.655477</td>\n",
       "      <td>-0.597835</td>\n",
       "      <td>-0.637166</td>\n",
       "      <td>-0.655877</td>\n",
       "      <td>0.873539</td>\n",
       "    </tr>\n",
       "    <tr>\n",
       "      <th>Gold</th>\n",
       "      <td>-0.655477</td>\n",
       "      <td>1.000000</td>\n",
       "      <td>0.929046</td>\n",
       "      <td>0.862425</td>\n",
       "      <td>0.970840</td>\n",
       "      <td>-0.626012</td>\n",
       "    </tr>\n",
       "    <tr>\n",
       "      <th>Silver</th>\n",
       "      <td>-0.597835</td>\n",
       "      <td>0.929046</td>\n",
       "      <td>1.000000</td>\n",
       "      <td>0.862646</td>\n",
       "      <td>0.969439</td>\n",
       "      <td>-0.632831</td>\n",
       "    </tr>\n",
       "    <tr>\n",
       "      <th>Bronze</th>\n",
       "      <td>-0.637166</td>\n",
       "      <td>0.862425</td>\n",
       "      <td>0.862646</td>\n",
       "      <td>1.000000</td>\n",
       "      <td>0.941941</td>\n",
       "      <td>-0.745573</td>\n",
       "    </tr>\n",
       "    <tr>\n",
       "      <th>Total</th>\n",
       "      <td>-0.655877</td>\n",
       "      <td>0.970840</td>\n",
       "      <td>0.969439</td>\n",
       "      <td>0.941941</td>\n",
       "      <td>1.000000</td>\n",
       "      <td>-0.692450</td>\n",
       "    </tr>\n",
       "    <tr>\n",
       "      <th>Rank by Total</th>\n",
       "      <td>0.873539</td>\n",
       "      <td>-0.626012</td>\n",
       "      <td>-0.632831</td>\n",
       "      <td>-0.745573</td>\n",
       "      <td>-0.692450</td>\n",
       "      <td>1.000000</td>\n",
       "    </tr>\n",
       "  </tbody>\n",
       "</table>\n",
       "</div>"
      ],
      "text/plain": [
       "                   Rank      Gold    Silver    Bronze     Total  Rank by Total\n",
       "Rank           1.000000 -0.655477 -0.597835 -0.637166 -0.655877       0.873539\n",
       "Gold          -0.655477  1.000000  0.929046  0.862425  0.970840      -0.626012\n",
       "Silver        -0.597835  0.929046  1.000000  0.862646  0.969439      -0.632831\n",
       "Bronze        -0.637166  0.862425  0.862646  1.000000  0.941941      -0.745573\n",
       "Total         -0.655877  0.970840  0.969439  0.941941  1.000000      -0.692450\n",
       "Rank by Total  0.873539 -0.626012 -0.632831 -0.745573 -0.692450       1.000000"
      ]
     },
     "execution_count": 24,
     "metadata": {},
     "output_type": "execute_result"
    }
   ],
   "source": [
    "#correlation matrix\n",
    "medal_count.corr()"
   ]
  },
  {
   "cell_type": "markdown",
   "id": "6f3715b3",
   "metadata": {},
   "source": [
    "Scatterplot: Plots one numerical variable on one axis vs another on a different axis with each point correlating to a record. Scatterplots offer an excellent way to measure the relationship between two variables. You can use scatterplots against all of the variables in your dataset to deduce relationships that would not otherwise be apparent"
   ]
  },
  {
   "cell_type": "code",
   "execution_count": 25,
   "id": "39304993",
   "metadata": {},
   "outputs": [
    {
     "data": {
      "text/plain": [
       "<AxesSubplot:xlabel='Total', ylabel='Gold'>"
      ]
     },
     "execution_count": 25,
     "metadata": {},
     "output_type": "execute_result"
    },
    {
     "data": {
      "image/png": "[encoded data removed]",
      "text/plain": [
       "<Figure size 432x288 with 1 Axes>"
      ]
     },
     "metadata": {
      "needs_background": "light"
     },
     "output_type": "display_data"
    }
   ],
   "source": [
    "# ScatterPlot\n",
    "medal_count.plot.scatter(x = 'Total', y = 'Gold')"
   ]
  },
  {
   "cell_type": "code",
   "execution_count": 26,
   "id": "2fb59887",
   "metadata": {},
   "outputs": [
    {
     "data": {
      "text/plain": [
       "<AxesSubplot:xlabel='Gold', ylabel='Silver'>"
      ]
     },
     "execution_count": 26,
     "metadata": {},
     "output_type": "execute_result"
    },
    {
     "data": {
      "image/png": "[encoded data removed]",
      "text/plain": [
       "<Figure size 432x288 with 1 Axes>"
      ]
     },
     "metadata": {
      "needs_background": "light"
     },
     "output_type": "display_data"
    }
   ],
   "source": [
    "medal_count.plot.scatter(x = 'Gold', y = 'Silver')"
   ]
  },
  {
   "cell_type": "markdown",
   "id": "f71a896d",
   "metadata": {},
   "source": [
    "## Numeri vs numeric data\n",
    "\n",
    "### Hexogonal Binning using pandas:\n",
    "\n",
    "If you have a large number of values then scatter plots become too hectic to actually glean any insights from, enter the hexagonal binning plot, One major benefit of hexagonal binning is that, by binning the data, the number of points that your computer has to render goes down substantially and offers speed benefits and reduces the sixe of you Jupyter notebooks"
   ]
  },
  {
   "cell_type": "code",
   "execution_count": 27,
   "id": "c99d496c",
   "metadata": {},
   "outputs": [
    {
     "data": {
      "text/plain": [
       "<AxesSubplot:xlabel='Gold', ylabel='Silver'>"
      ]
     },
     "execution_count": 27,
     "metadata": {},
     "output_type": "execute_result"
    },
    {
     "data": {
      "image/png": "[encoded data removed]",
      "text/plain": [
       "<Figure size 432x288 with 2 Axes>"
      ]
     },
     "metadata": {
      "needs_background": "light"
     },
     "output_type": "display_data"
    }
   ],
   "source": [
    "medal_count.plot.hexbin(x = 'Gold',y = 'Silver', gridsize = 30, sharex = False )"
   ]
  },
  {
   "cell_type": "markdown",
   "id": "46d51e9c",
   "metadata": {},
   "source": [
    "## Contour plots\n",
    "\n",
    "Contour plots are overlaid onto scatterplots and offer a layer of lines that help determine where data is the most dense"
   ]
  },
  {
   "cell_type": "code",
   "execution_count": 28,
   "id": "f75ad798",
   "metadata": {},
   "outputs": [
    {
     "name": "stderr",
     "output_type": "stream",
     "text": [
      "C:\\ProgramData\\Anaconda3\\lib\\site-packages\\seaborn\\_decorators.py:36: FutureWarning: Pass the following variable as a keyword arg: y. From version 0.12, the only valid positional argument will be `data`, and passing other arguments without an explicit keyword will result in an error or misinterpretation.\n",
      "  warnings.warn(\n"
     ]
    },
    {
     "data": {
      "text/plain": [
       "<AxesSubplot:xlabel='Gold', ylabel='Silver'>"
      ]
     },
     "execution_count": 28,
     "metadata": {},
     "output_type": "execute_result"
    },
    {
     "data": {
      "image/png": "[encoded data removed]",
      "text/plain": [
       "<Figure size 432x288 with 1 Axes>"
      ]
     },
     "metadata": {
      "needs_background": "light"
     },
     "output_type": "display_data"
    }
   ],
   "source": [
    "import seaborn as sns\n",
    "sns.kdeplot(medal_count['Gold'], medal_count['Silver'])"
   ]
  },
  {
   "cell_type": "markdown",
   "id": "7d733f9c",
   "metadata": {},
   "source": [
    "## Heat Maps\n",
    "\n",
    "Heat maps offer another way to look at data by using colors to communicate densities, Heatmaps can also be used with categorical variables.\n",
    "\n",
    "https://seaborn.pydata.org/generated/seaborn.heatmap.html"
   ]
  },
  {
   "cell_type": "code",
   "execution_count": 29,
   "id": "f62557af",
   "metadata": {},
   "outputs": [
    {
     "data": {
      "text/plain": [
       "<AxesSubplot:>"
      ]
     },
     "execution_count": 29,
     "metadata": {},
     "output_type": "execute_result"
    },
    {
     "data": {
      "image/png": "[encoded data removed]",
      "text/plain": [
       "<Figure size 432x288 with 2 Axes>"
      ]
     },
     "metadata": {
      "needs_background": "light"
     },
     "output_type": "display_data"
    }
   ],
   "source": [
    "sns.heatmap(medal_count.corr())"
   ]
  },
  {
   "cell_type": "markdown",
   "id": "1d122ffa",
   "metadata": {},
   "source": [
    "# Categorical vs categorical variables\n",
    "\n",
    "## Contingency tables\n",
    "\n",
    "Contingency tables count the number of instances of two variables within the dataset. You can also use other metrics like the proportion and percent of each variable combination if you want to as well\n",
    "\n",
    "You can get the vounts by just vreating a pivot table like so:"
   ]
  },
  {
   "cell_type": "code",
   "execution_count": 30,
   "id": "169163c5",
   "metadata": {},
   "outputs": [
    {
     "data": {
      "text/html": [
       "<div>\n",
       "<style scoped>\n",
       "    .dataframe tbody tr th:only-of-type {\n",
       "        vertical-align: middle;\n",
       "    }\n",
       "\n",
       "    .dataframe tbody tr th {\n",
       "        vertical-align: top;\n",
       "    }\n",
       "\n",
       "    .dataframe thead th {\n",
       "        text-align: right;\n",
       "    }\n",
       "</style>\n",
       "<table border=\"1\" class=\"dataframe\">\n",
       "  <thead>\n",
       "    <tr style=\"text-align: right;\">\n",
       "      <th>Gold</th>\n",
       "      <th>0</th>\n",
       "      <th>1</th>\n",
       "      <th>2</th>\n",
       "      <th>3</th>\n",
       "      <th>4</th>\n",
       "      <th>6</th>\n",
       "      <th>7</th>\n",
       "      <th>10</th>\n",
       "      <th>17</th>\n",
       "      <th>20</th>\n",
       "      <th>22</th>\n",
       "      <th>27</th>\n",
       "      <th>38</th>\n",
       "      <th>39</th>\n",
       "      <th>All</th>\n",
       "    </tr>\n",
       "    <tr>\n",
       "      <th>Team/NOC</th>\n",
       "      <th></th>\n",
       "      <th></th>\n",
       "      <th></th>\n",
       "      <th></th>\n",
       "      <th></th>\n",
       "      <th></th>\n",
       "      <th></th>\n",
       "      <th></th>\n",
       "      <th></th>\n",
       "      <th></th>\n",
       "      <th></th>\n",
       "      <th></th>\n",
       "      <th></th>\n",
       "      <th></th>\n",
       "      <th></th>\n",
       "    </tr>\n",
       "  </thead>\n",
       "  <tbody>\n",
       "    <tr>\n",
       "      <th>Argentina</th>\n",
       "      <td>1.0</td>\n",
       "      <td>0.0</td>\n",
       "      <td>0.0</td>\n",
       "      <td>0.0</td>\n",
       "      <td>0.0</td>\n",
       "      <td>0.0</td>\n",
       "      <td>0.0</td>\n",
       "      <td>0.0</td>\n",
       "      <td>0.0</td>\n",
       "      <td>0.0</td>\n",
       "      <td>0.0</td>\n",
       "      <td>0.0</td>\n",
       "      <td>0.0</td>\n",
       "      <td>0.0</td>\n",
       "      <td>1</td>\n",
       "    </tr>\n",
       "    <tr>\n",
       "      <th>Armenia</th>\n",
       "      <td>1.0</td>\n",
       "      <td>0.0</td>\n",
       "      <td>0.0</td>\n",
       "      <td>0.0</td>\n",
       "      <td>0.0</td>\n",
       "      <td>0.0</td>\n",
       "      <td>0.0</td>\n",
       "      <td>0.0</td>\n",
       "      <td>0.0</td>\n",
       "      <td>0.0</td>\n",
       "      <td>0.0</td>\n",
       "      <td>0.0</td>\n",
       "      <td>0.0</td>\n",
       "      <td>0.0</td>\n",
       "      <td>1</td>\n",
       "    </tr>\n",
       "    <tr>\n",
       "      <th>Australia</th>\n",
       "      <td>0.0</td>\n",
       "      <td>0.0</td>\n",
       "      <td>0.0</td>\n",
       "      <td>0.0</td>\n",
       "      <td>0.0</td>\n",
       "      <td>0.0</td>\n",
       "      <td>0.0</td>\n",
       "      <td>0.0</td>\n",
       "      <td>1.0</td>\n",
       "      <td>0.0</td>\n",
       "      <td>0.0</td>\n",
       "      <td>0.0</td>\n",
       "      <td>0.0</td>\n",
       "      <td>0.0</td>\n",
       "      <td>1</td>\n",
       "    </tr>\n",
       "    <tr>\n",
       "      <th>Austria</th>\n",
       "      <td>0.0</td>\n",
       "      <td>1.0</td>\n",
       "      <td>0.0</td>\n",
       "      <td>0.0</td>\n",
       "      <td>0.0</td>\n",
       "      <td>0.0</td>\n",
       "      <td>0.0</td>\n",
       "      <td>0.0</td>\n",
       "      <td>0.0</td>\n",
       "      <td>0.0</td>\n",
       "      <td>0.0</td>\n",
       "      <td>0.0</td>\n",
       "      <td>0.0</td>\n",
       "      <td>0.0</td>\n",
       "      <td>1</td>\n",
       "    </tr>\n",
       "    <tr>\n",
       "      <th>Azerbaijan</th>\n",
       "      <td>1.0</td>\n",
       "      <td>0.0</td>\n",
       "      <td>0.0</td>\n",
       "      <td>0.0</td>\n",
       "      <td>0.0</td>\n",
       "      <td>0.0</td>\n",
       "      <td>0.0</td>\n",
       "      <td>0.0</td>\n",
       "      <td>0.0</td>\n",
       "      <td>0.0</td>\n",
       "      <td>0.0</td>\n",
       "      <td>0.0</td>\n",
       "      <td>0.0</td>\n",
       "      <td>0.0</td>\n",
       "      <td>1</td>\n",
       "    </tr>\n",
       "    <tr>\n",
       "      <th>...</th>\n",
       "      <td>...</td>\n",
       "      <td>...</td>\n",
       "      <td>...</td>\n",
       "      <td>...</td>\n",
       "      <td>...</td>\n",
       "      <td>...</td>\n",
       "      <td>...</td>\n",
       "      <td>...</td>\n",
       "      <td>...</td>\n",
       "      <td>...</td>\n",
       "      <td>...</td>\n",
       "      <td>...</td>\n",
       "      <td>...</td>\n",
       "      <td>...</td>\n",
       "      <td>...</td>\n",
       "    </tr>\n",
       "    <tr>\n",
       "      <th>Ukraine</th>\n",
       "      <td>0.0</td>\n",
       "      <td>1.0</td>\n",
       "      <td>0.0</td>\n",
       "      <td>0.0</td>\n",
       "      <td>0.0</td>\n",
       "      <td>0.0</td>\n",
       "      <td>0.0</td>\n",
       "      <td>0.0</td>\n",
       "      <td>0.0</td>\n",
       "      <td>0.0</td>\n",
       "      <td>0.0</td>\n",
       "      <td>0.0</td>\n",
       "      <td>0.0</td>\n",
       "      <td>0.0</td>\n",
       "      <td>1</td>\n",
       "    </tr>\n",
       "    <tr>\n",
       "      <th>United States of America</th>\n",
       "      <td>0.0</td>\n",
       "      <td>0.0</td>\n",
       "      <td>0.0</td>\n",
       "      <td>0.0</td>\n",
       "      <td>0.0</td>\n",
       "      <td>0.0</td>\n",
       "      <td>0.0</td>\n",
       "      <td>0.0</td>\n",
       "      <td>0.0</td>\n",
       "      <td>0.0</td>\n",
       "      <td>0.0</td>\n",
       "      <td>0.0</td>\n",
       "      <td>0.0</td>\n",
       "      <td>1.0</td>\n",
       "      <td>1</td>\n",
       "    </tr>\n",
       "    <tr>\n",
       "      <th>Uzbekistan</th>\n",
       "      <td>0.0</td>\n",
       "      <td>0.0</td>\n",
       "      <td>0.0</td>\n",
       "      <td>1.0</td>\n",
       "      <td>0.0</td>\n",
       "      <td>0.0</td>\n",
       "      <td>0.0</td>\n",
       "      <td>0.0</td>\n",
       "      <td>0.0</td>\n",
       "      <td>0.0</td>\n",
       "      <td>0.0</td>\n",
       "      <td>0.0</td>\n",
       "      <td>0.0</td>\n",
       "      <td>0.0</td>\n",
       "      <td>1</td>\n",
       "    </tr>\n",
       "    <tr>\n",
       "      <th>Venezuela</th>\n",
       "      <td>0.0</td>\n",
       "      <td>1.0</td>\n",
       "      <td>0.0</td>\n",
       "      <td>0.0</td>\n",
       "      <td>0.0</td>\n",
       "      <td>0.0</td>\n",
       "      <td>0.0</td>\n",
       "      <td>0.0</td>\n",
       "      <td>0.0</td>\n",
       "      <td>0.0</td>\n",
       "      <td>0.0</td>\n",
       "      <td>0.0</td>\n",
       "      <td>0.0</td>\n",
       "      <td>0.0</td>\n",
       "      <td>1</td>\n",
       "    </tr>\n",
       "    <tr>\n",
       "      <th>All</th>\n",
       "      <td>28.0</td>\n",
       "      <td>22.0</td>\n",
       "      <td>11.0</td>\n",
       "      <td>11.0</td>\n",
       "      <td>5.0</td>\n",
       "      <td>2.0</td>\n",
       "      <td>4.0</td>\n",
       "      <td>4.0</td>\n",
       "      <td>1.0</td>\n",
       "      <td>1.0</td>\n",
       "      <td>1.0</td>\n",
       "      <td>1.0</td>\n",
       "      <td>1.0</td>\n",
       "      <td>1.0</td>\n",
       "      <td>93</td>\n",
       "    </tr>\n",
       "  </tbody>\n",
       "</table>\n",
       "<p>94 rows × 15 columns</p>\n",
       "</div>"
      ],
      "text/plain": [
       "Gold                         0     1     2     3    4    6    7   10   17  \\\n",
       "Team/NOC                                                                    \n",
       "Argentina                  1.0   0.0   0.0   0.0  0.0  0.0  0.0  0.0  0.0   \n",
       "Armenia                    1.0   0.0   0.0   0.0  0.0  0.0  0.0  0.0  0.0   \n",
       "Australia                  0.0   0.0   0.0   0.0  0.0  0.0  0.0  0.0  1.0   \n",
       "Austria                    0.0   1.0   0.0   0.0  0.0  0.0  0.0  0.0  0.0   \n",
       "Azerbaijan                 1.0   0.0   0.0   0.0  0.0  0.0  0.0  0.0  0.0   \n",
       "...                        ...   ...   ...   ...  ...  ...  ...  ...  ...   \n",
       "Ukraine                    0.0   1.0   0.0   0.0  0.0  0.0  0.0  0.0  0.0   \n",
       "United States of America   0.0   0.0   0.0   0.0  0.0  0.0  0.0  0.0  0.0   \n",
       "Uzbekistan                 0.0   0.0   0.0   1.0  0.0  0.0  0.0  0.0  0.0   \n",
       "Venezuela                  0.0   1.0   0.0   0.0  0.0  0.0  0.0  0.0  0.0   \n",
       "All                       28.0  22.0  11.0  11.0  5.0  2.0  4.0  4.0  1.0   \n",
       "\n",
       "Gold                       20   22   27   38   39  All  \n",
       "Team/NOC                                                \n",
       "Argentina                 0.0  0.0  0.0  0.0  0.0    1  \n",
       "Armenia                   0.0  0.0  0.0  0.0  0.0    1  \n",
       "Australia                 0.0  0.0  0.0  0.0  0.0    1  \n",
       "Austria                   0.0  0.0  0.0  0.0  0.0    1  \n",
       "Azerbaijan                0.0  0.0  0.0  0.0  0.0    1  \n",
       "...                       ...  ...  ...  ...  ...  ...  \n",
       "Ukraine                   0.0  0.0  0.0  0.0  0.0    1  \n",
       "United States of America  0.0  0.0  0.0  0.0  1.0    1  \n",
       "Uzbekistan                0.0  0.0  0.0  0.0  0.0    1  \n",
       "Venezuela                 0.0  0.0  0.0  0.0  0.0    1  \n",
       "All                       1.0  1.0  1.0  1.0  1.0   93  \n",
       "\n",
       "[94 rows x 15 columns]"
      ]
     },
     "execution_count": 30,
     "metadata": {},
     "output_type": "execute_result"
    }
   ],
   "source": [
    "medal_count[['Team/NOC','Gold']].pivot_table(index = 'Team/NOC', columns = 'Gold', aggfunc=lambda x: len(x), margins = True).fillna(0)"
   ]
  },
  {
   "cell_type": "code",
   "execution_count": 31,
   "id": "46bc3f9b",
   "metadata": {},
   "outputs": [
    {
     "data": {
      "text/html": [
       "<div>\n",
       "<style scoped>\n",
       "    .dataframe tbody tr th:only-of-type {\n",
       "        vertical-align: middle;\n",
       "    }\n",
       "\n",
       "    .dataframe tbody tr th {\n",
       "        vertical-align: top;\n",
       "    }\n",
       "\n",
       "    .dataframe thead th {\n",
       "        text-align: right;\n",
       "    }\n",
       "</style>\n",
       "<table border=\"1\" class=\"dataframe\">\n",
       "  <thead>\n",
       "    <tr style=\"text-align: right;\">\n",
       "      <th>Gold</th>\n",
       "      <th>0</th>\n",
       "      <th>1</th>\n",
       "      <th>2</th>\n",
       "      <th>3</th>\n",
       "      <th>4</th>\n",
       "      <th>6</th>\n",
       "      <th>7</th>\n",
       "      <th>10</th>\n",
       "      <th>17</th>\n",
       "      <th>20</th>\n",
       "      <th>22</th>\n",
       "      <th>27</th>\n",
       "      <th>38</th>\n",
       "      <th>39</th>\n",
       "      <th>All</th>\n",
       "    </tr>\n",
       "    <tr>\n",
       "      <th>Silver</th>\n",
       "      <th></th>\n",
       "      <th></th>\n",
       "      <th></th>\n",
       "      <th></th>\n",
       "      <th></th>\n",
       "      <th></th>\n",
       "      <th></th>\n",
       "      <th></th>\n",
       "      <th></th>\n",
       "      <th></th>\n",
       "      <th></th>\n",
       "      <th></th>\n",
       "      <th></th>\n",
       "      <th></th>\n",
       "      <th></th>\n",
       "    </tr>\n",
       "  </thead>\n",
       "  <tbody>\n",
       "    <tr>\n",
       "      <th>0</th>\n",
       "      <td>11.0</td>\n",
       "      <td>7.0</td>\n",
       "      <td>5.0</td>\n",
       "      <td>1.0</td>\n",
       "      <td>0.0</td>\n",
       "      <td>0.0</td>\n",
       "      <td>0.0</td>\n",
       "      <td>0.0</td>\n",
       "      <td>0.0</td>\n",
       "      <td>0.0</td>\n",
       "      <td>0.0</td>\n",
       "      <td>0.0</td>\n",
       "      <td>0.0</td>\n",
       "      <td>0.0</td>\n",
       "      <td>24</td>\n",
       "    </tr>\n",
       "    <tr>\n",
       "      <th>1</th>\n",
       "      <td>12.0</td>\n",
       "      <td>6.0</td>\n",
       "      <td>3.0</td>\n",
       "      <td>4.0</td>\n",
       "      <td>1.0</td>\n",
       "      <td>0.0</td>\n",
       "      <td>0.0</td>\n",
       "      <td>0.0</td>\n",
       "      <td>0.0</td>\n",
       "      <td>0.0</td>\n",
       "      <td>0.0</td>\n",
       "      <td>0.0</td>\n",
       "      <td>0.0</td>\n",
       "      <td>0.0</td>\n",
       "      <td>26</td>\n",
       "    </tr>\n",
       "    <tr>\n",
       "      <th>2</th>\n",
       "      <td>2.0</td>\n",
       "      <td>5.0</td>\n",
       "      <td>1.0</td>\n",
       "      <td>1.0</td>\n",
       "      <td>1.0</td>\n",
       "      <td>0.0</td>\n",
       "      <td>0.0</td>\n",
       "      <td>0.0</td>\n",
       "      <td>0.0</td>\n",
       "      <td>0.0</td>\n",
       "      <td>0.0</td>\n",
       "      <td>0.0</td>\n",
       "      <td>0.0</td>\n",
       "      <td>0.0</td>\n",
       "      <td>10</td>\n",
       "    </tr>\n",
       "    <tr>\n",
       "      <th>3</th>\n",
       "      <td>2.0</td>\n",
       "      <td>3.0</td>\n",
       "      <td>0.0</td>\n",
       "      <td>1.0</td>\n",
       "      <td>0.0</td>\n",
       "      <td>0.0</td>\n",
       "      <td>1.0</td>\n",
       "      <td>0.0</td>\n",
       "      <td>0.0</td>\n",
       "      <td>0.0</td>\n",
       "      <td>0.0</td>\n",
       "      <td>0.0</td>\n",
       "      <td>0.0</td>\n",
       "      <td>0.0</td>\n",
       "      <td>7</td>\n",
       "    </tr>\n",
       "    <tr>\n",
       "      <th>4</th>\n",
       "      <td>1.0</td>\n",
       "      <td>0.0</td>\n",
       "      <td>1.0</td>\n",
       "      <td>2.0</td>\n",
       "      <td>2.0</td>\n",
       "      <td>1.0</td>\n",
       "      <td>0.0</td>\n",
       "      <td>0.0</td>\n",
       "      <td>0.0</td>\n",
       "      <td>0.0</td>\n",
       "      <td>0.0</td>\n",
       "      <td>0.0</td>\n",
       "      <td>0.0</td>\n",
       "      <td>0.0</td>\n",
       "      <td>7</td>\n",
       "    </tr>\n",
       "    <tr>\n",
       "      <th>5</th>\n",
       "      <td>0.0</td>\n",
       "      <td>0.0</td>\n",
       "      <td>1.0</td>\n",
       "      <td>0.0</td>\n",
       "      <td>1.0</td>\n",
       "      <td>0.0</td>\n",
       "      <td>0.0</td>\n",
       "      <td>0.0</td>\n",
       "      <td>0.0</td>\n",
       "      <td>0.0</td>\n",
       "      <td>0.0</td>\n",
       "      <td>0.0</td>\n",
       "      <td>0.0</td>\n",
       "      <td>0.0</td>\n",
       "      <td>2</td>\n",
       "    </tr>\n",
       "    <tr>\n",
       "      <th>6</th>\n",
       "      <td>0.0</td>\n",
       "      <td>1.0</td>\n",
       "      <td>0.0</td>\n",
       "      <td>1.0</td>\n",
       "      <td>0.0</td>\n",
       "      <td>0.0</td>\n",
       "      <td>3.0</td>\n",
       "      <td>0.0</td>\n",
       "      <td>0.0</td>\n",
       "      <td>0.0</td>\n",
       "      <td>0.0</td>\n",
       "      <td>0.0</td>\n",
       "      <td>0.0</td>\n",
       "      <td>0.0</td>\n",
       "      <td>5</td>\n",
       "    </tr>\n",
       "    <tr>\n",
       "      <th>7</th>\n",
       "      <td>0.0</td>\n",
       "      <td>0.0</td>\n",
       "      <td>0.0</td>\n",
       "      <td>0.0</td>\n",
       "      <td>0.0</td>\n",
       "      <td>1.0</td>\n",
       "      <td>0.0</td>\n",
       "      <td>0.0</td>\n",
       "      <td>1.0</td>\n",
       "      <td>0.0</td>\n",
       "      <td>0.0</td>\n",
       "      <td>0.0</td>\n",
       "      <td>0.0</td>\n",
       "      <td>0.0</td>\n",
       "      <td>2</td>\n",
       "    </tr>\n",
       "    <tr>\n",
       "      <th>8</th>\n",
       "      <td>0.0</td>\n",
       "      <td>0.0</td>\n",
       "      <td>0.0</td>\n",
       "      <td>1.0</td>\n",
       "      <td>0.0</td>\n",
       "      <td>0.0</td>\n",
       "      <td>0.0</td>\n",
       "      <td>0.0</td>\n",
       "      <td>0.0</td>\n",
       "      <td>0.0</td>\n",
       "      <td>0.0</td>\n",
       "      <td>0.0</td>\n",
       "      <td>0.0</td>\n",
       "      <td>0.0</td>\n",
       "      <td>1</td>\n",
       "    </tr>\n",
       "    <tr>\n",
       "      <th>10</th>\n",
       "      <td>0.0</td>\n",
       "      <td>0.0</td>\n",
       "      <td>0.0</td>\n",
       "      <td>0.0</td>\n",
       "      <td>0.0</td>\n",
       "      <td>0.0</td>\n",
       "      <td>0.0</td>\n",
       "      <td>1.0</td>\n",
       "      <td>0.0</td>\n",
       "      <td>0.0</td>\n",
       "      <td>0.0</td>\n",
       "      <td>0.0</td>\n",
       "      <td>0.0</td>\n",
       "      <td>0.0</td>\n",
       "      <td>1</td>\n",
       "    </tr>\n",
       "    <tr>\n",
       "      <th>11</th>\n",
       "      <td>0.0</td>\n",
       "      <td>0.0</td>\n",
       "      <td>0.0</td>\n",
       "      <td>0.0</td>\n",
       "      <td>0.0</td>\n",
       "      <td>0.0</td>\n",
       "      <td>0.0</td>\n",
       "      <td>1.0</td>\n",
       "      <td>0.0</td>\n",
       "      <td>0.0</td>\n",
       "      <td>0.0</td>\n",
       "      <td>0.0</td>\n",
       "      <td>0.0</td>\n",
       "      <td>0.0</td>\n",
       "      <td>1</td>\n",
       "    </tr>\n",
       "    <tr>\n",
       "      <th>12</th>\n",
       "      <td>0.0</td>\n",
       "      <td>0.0</td>\n",
       "      <td>0.0</td>\n",
       "      <td>0.0</td>\n",
       "      <td>0.0</td>\n",
       "      <td>0.0</td>\n",
       "      <td>0.0</td>\n",
       "      <td>2.0</td>\n",
       "      <td>0.0</td>\n",
       "      <td>0.0</td>\n",
       "      <td>0.0</td>\n",
       "      <td>0.0</td>\n",
       "      <td>0.0</td>\n",
       "      <td>0.0</td>\n",
       "      <td>2</td>\n",
       "    </tr>\n",
       "    <tr>\n",
       "      <th>14</th>\n",
       "      <td>0.0</td>\n",
       "      <td>0.0</td>\n",
       "      <td>0.0</td>\n",
       "      <td>0.0</td>\n",
       "      <td>0.0</td>\n",
       "      <td>0.0</td>\n",
       "      <td>0.0</td>\n",
       "      <td>0.0</td>\n",
       "      <td>0.0</td>\n",
       "      <td>0.0</td>\n",
       "      <td>0.0</td>\n",
       "      <td>1.0</td>\n",
       "      <td>0.0</td>\n",
       "      <td>0.0</td>\n",
       "      <td>1</td>\n",
       "    </tr>\n",
       "    <tr>\n",
       "      <th>21</th>\n",
       "      <td>0.0</td>\n",
       "      <td>0.0</td>\n",
       "      <td>0.0</td>\n",
       "      <td>0.0</td>\n",
       "      <td>0.0</td>\n",
       "      <td>0.0</td>\n",
       "      <td>0.0</td>\n",
       "      <td>0.0</td>\n",
       "      <td>0.0</td>\n",
       "      <td>0.0</td>\n",
       "      <td>1.0</td>\n",
       "      <td>0.0</td>\n",
       "      <td>0.0</td>\n",
       "      <td>0.0</td>\n",
       "      <td>1</td>\n",
       "    </tr>\n",
       "    <tr>\n",
       "      <th>28</th>\n",
       "      <td>0.0</td>\n",
       "      <td>0.0</td>\n",
       "      <td>0.0</td>\n",
       "      <td>0.0</td>\n",
       "      <td>0.0</td>\n",
       "      <td>0.0</td>\n",
       "      <td>0.0</td>\n",
       "      <td>0.0</td>\n",
       "      <td>0.0</td>\n",
       "      <td>1.0</td>\n",
       "      <td>0.0</td>\n",
       "      <td>0.0</td>\n",
       "      <td>0.0</td>\n",
       "      <td>0.0</td>\n",
       "      <td>1</td>\n",
       "    </tr>\n",
       "    <tr>\n",
       "      <th>32</th>\n",
       "      <td>0.0</td>\n",
       "      <td>0.0</td>\n",
       "      <td>0.0</td>\n",
       "      <td>0.0</td>\n",
       "      <td>0.0</td>\n",
       "      <td>0.0</td>\n",
       "      <td>0.0</td>\n",
       "      <td>0.0</td>\n",
       "      <td>0.0</td>\n",
       "      <td>0.0</td>\n",
       "      <td>0.0</td>\n",
       "      <td>0.0</td>\n",
       "      <td>1.0</td>\n",
       "      <td>0.0</td>\n",
       "      <td>1</td>\n",
       "    </tr>\n",
       "    <tr>\n",
       "      <th>41</th>\n",
       "      <td>0.0</td>\n",
       "      <td>0.0</td>\n",
       "      <td>0.0</td>\n",
       "      <td>0.0</td>\n",
       "      <td>0.0</td>\n",
       "      <td>0.0</td>\n",
       "      <td>0.0</td>\n",
       "      <td>0.0</td>\n",
       "      <td>0.0</td>\n",
       "      <td>0.0</td>\n",
       "      <td>0.0</td>\n",
       "      <td>0.0</td>\n",
       "      <td>0.0</td>\n",
       "      <td>1.0</td>\n",
       "      <td>1</td>\n",
       "    </tr>\n",
       "    <tr>\n",
       "      <th>All</th>\n",
       "      <td>28.0</td>\n",
       "      <td>22.0</td>\n",
       "      <td>11.0</td>\n",
       "      <td>11.0</td>\n",
       "      <td>5.0</td>\n",
       "      <td>2.0</td>\n",
       "      <td>4.0</td>\n",
       "      <td>4.0</td>\n",
       "      <td>1.0</td>\n",
       "      <td>1.0</td>\n",
       "      <td>1.0</td>\n",
       "      <td>1.0</td>\n",
       "      <td>1.0</td>\n",
       "      <td>1.0</td>\n",
       "      <td>93</td>\n",
       "    </tr>\n",
       "  </tbody>\n",
       "</table>\n",
       "</div>"
      ],
      "text/plain": [
       "Gold       0     1     2     3    4    6    7   10   17   20   22   27   38  \\\n",
       "Silver                                                                        \n",
       "0       11.0   7.0   5.0   1.0  0.0  0.0  0.0  0.0  0.0  0.0  0.0  0.0  0.0   \n",
       "1       12.0   6.0   3.0   4.0  1.0  0.0  0.0  0.0  0.0  0.0  0.0  0.0  0.0   \n",
       "2        2.0   5.0   1.0   1.0  1.0  0.0  0.0  0.0  0.0  0.0  0.0  0.0  0.0   \n",
       "3        2.0   3.0   0.0   1.0  0.0  0.0  1.0  0.0  0.0  0.0  0.0  0.0  0.0   \n",
       "4        1.0   0.0   1.0   2.0  2.0  1.0  0.0  0.0  0.0  0.0  0.0  0.0  0.0   \n",
       "5        0.0   0.0   1.0   0.0  1.0  0.0  0.0  0.0  0.0  0.0  0.0  0.0  0.0   \n",
       "6        0.0   1.0   0.0   1.0  0.0  0.0  3.0  0.0  0.0  0.0  0.0  0.0  0.0   \n",
       "7        0.0   0.0   0.0   0.0  0.0  1.0  0.0  0.0  1.0  0.0  0.0  0.0  0.0   \n",
       "8        0.0   0.0   0.0   1.0  0.0  0.0  0.0  0.0  0.0  0.0  0.0  0.0  0.0   \n",
       "10       0.0   0.0   0.0   0.0  0.0  0.0  0.0  1.0  0.0  0.0  0.0  0.0  0.0   \n",
       "11       0.0   0.0   0.0   0.0  0.0  0.0  0.0  1.0  0.0  0.0  0.0  0.0  0.0   \n",
       "12       0.0   0.0   0.0   0.0  0.0  0.0  0.0  2.0  0.0  0.0  0.0  0.0  0.0   \n",
       "14       0.0   0.0   0.0   0.0  0.0  0.0  0.0  0.0  0.0  0.0  0.0  1.0  0.0   \n",
       "21       0.0   0.0   0.0   0.0  0.0  0.0  0.0  0.0  0.0  0.0  1.0  0.0  0.0   \n",
       "28       0.0   0.0   0.0   0.0  0.0  0.0  0.0  0.0  0.0  1.0  0.0  0.0  0.0   \n",
       "32       0.0   0.0   0.0   0.0  0.0  0.0  0.0  0.0  0.0  0.0  0.0  0.0  1.0   \n",
       "41       0.0   0.0   0.0   0.0  0.0  0.0  0.0  0.0  0.0  0.0  0.0  0.0  0.0   \n",
       "All     28.0  22.0  11.0  11.0  5.0  2.0  4.0  4.0  1.0  1.0  1.0  1.0  1.0   \n",
       "\n",
       "Gold     39  All  \n",
       "Silver            \n",
       "0       0.0   24  \n",
       "1       0.0   26  \n",
       "2       0.0   10  \n",
       "3       0.0    7  \n",
       "4       0.0    7  \n",
       "5       0.0    2  \n",
       "6       0.0    5  \n",
       "7       0.0    2  \n",
       "8       0.0    1  \n",
       "10      0.0    1  \n",
       "11      0.0    1  \n",
       "12      0.0    2  \n",
       "14      0.0    1  \n",
       "21      0.0    1  \n",
       "28      0.0    1  \n",
       "32      0.0    1  \n",
       "41      1.0    1  \n",
       "All     1.0   93  "
      ]
     },
     "execution_count": 31,
     "metadata": {},
     "output_type": "execute_result"
    }
   ],
   "source": [
    "medal_count[['Silver','Gold']].pivot_table(index = 'Silver', columns = 'Gold', aggfunc=lambda x: len(x), margins = True).fillna(0)"
   ]
  },
  {
   "cell_type": "markdown",
   "id": "3fa145a6",
   "metadata": {},
   "source": [
    "# Categorical vs Numerical data\n",
    "\n",
    "Categorical and numerical variables can also be compared through a number of methods.\n",
    "\n",
    "\n",
    "\n"
   ]
  },
  {
   "cell_type": "markdown",
   "id": "7db67a84",
   "metadata": {},
   "source": [
    "## Boxplots\n",
    "\n",
    "You can create a boxplot that is calculated using the numerical variable for each category available."
   ]
  },
  {
   "cell_type": "code",
   "execution_count": 32,
   "id": "49fc2c8a",
   "metadata": {},
   "outputs": [
    {
     "data": {
      "text/plain": [
       "<seaborn.axisgrid.FacetGrid at 0x225d407de20>"
      ]
     },
     "execution_count": 32,
     "metadata": {},
     "output_type": "execute_result"
    },
    {
     "data": {
      "image/png": "[encoded data removed]",
      "text/plain": [
       "<Figure size 360x360 with 1 Axes>"
      ]
     },
     "metadata": {
      "needs_background": "light"
     },
     "output_type": "display_data"
    }
   ],
   "source": [
    "sns.catplot(x=\"Team/NOC\", y=\"Rank by Total\", kind=\"box\", data=medal_count)"
   ]
  },
  {
   "cell_type": "markdown",
   "id": "ed0fbc60",
   "metadata": {},
   "source": [
    "## Violin plots\n",
    "\n",
    "Violin plots are variations of box plots which show the distribution of values within the boxes. This helps to see where the density of values biases"
   ]
  },
  {
   "cell_type": "code",
   "execution_count": 33,
   "id": "6ec1d15e",
   "metadata": {},
   "outputs": [
    {
     "data": {
      "text/plain": [
       "<AxesSubplot:xlabel='Gold'>"
      ]
     },
     "metadata": {},
     "output_type": "display_data"
    },
    {
     "data": {
      "image/png": "[encoded data removed]",
      "text/plain": [
       "<Figure size 432x288 with 1 Axes>"
      ]
     },
     "metadata": {
      "needs_background": "light"
     },
     "output_type": "display_data"
    }
   ],
   "source": [
    "display(sns.violinplot(x = medal_count['Gold']))\n"
   ]
  },
  {
   "cell_type": "code",
   "execution_count": 34,
   "id": "472bcc4d",
   "metadata": {},
   "outputs": [
    {
     "data": {
      "text/plain": [
       "<AxesSubplot:>"
      ]
     },
     "metadata": {},
     "output_type": "display_data"
    },
    {
     "data": {
      "image/png": "[encoded data removed]",
      "text/plain": [
       "<Figure size 432x288 with 1 Axes>"
      ]
     },
     "metadata": {
      "needs_background": "light"
     },
     "output_type": "display_data"
    }
   ],
   "source": [
    "display(medal_count.boxplot(column='Gold'))"
   ]
  },
  {
   "cell_type": "markdown",
   "id": "028fde79",
   "metadata": {},
   "source": [
    "## Categorical HeatMaps\n",
    "\n",
    "https://matplotlib.org/stable/gallery/images_contours_and_fields/image_annotated_heatmap.html"
   ]
  },
  {
   "cell_type": "markdown",
   "id": "fff8efc2",
   "metadata": {},
   "source": [
    "## Visualizing multiple Variables\n",
    "\n",
    "If you want to compare multiple variables to one another, you can use a Facet or Trellis plot which essentially lines up different variable on the same X and Y and plots them on multiple plots\n",
    "\n",
    "This function is easily supported using Plotly library\n",
    "\n",
    "https://plotly.com/python/facet-plots/#:~:text=Python%20with%20Plotly.-,Facet%20and%20Trellis%20Plots,a%20subset%20of%20the%20data."
   ]
  },
  {
   "cell_type": "markdown",
   "id": "06375db4",
   "metadata": {},
   "source": [
    "# Chapter 2 - Data and Sampling Distributions\n",
    "\n",
    "\n",
    "https://www.kaggle.com/c/nfl-big-data-bowl-2022"
   ]
  },
  {
   "cell_type": "markdown",
   "id": "543be57a",
   "metadata": {},
   "source": [
    "# Random Sampling\n",
    "\n",
    "Sample: A portion of the overall population. Usually taken when it is either too difficult to obtain or precess statistics on the entire dataset\n",
    "\n",
    "Population: The totality of the dataset available\n",
    "\n",
    "N(n): Population size\n",
    "\n",
    "Random Sampling: Creates a samples by randomly picking portions from the population\n",
    "\n",
    "Stratified sampling: Random samples that are taken after you split the total data into sections or 'Strata' Eg. Splitting population by age\n",
    "\n",
    "Systematic sampling: Every nth record is chosen from the population to be a part of sampling\n",
    "\n",
    "Stratus(pl., strata): groups that the data is split into\n",
    "\n",
    "Simple random sample: Samples the results withou breaking them up into strata\n",
    "\n",
    "\n",
    "Bias: Systematic error\n",
    "\n",
    "Sample bias: A sample  that misrepresents the populations\n",
    "\n",
    "μ : Population mean of your sample  \n",
    "\n",
    "x̄ : The mean of your sample"
   ]
  },
  {
   "cell_type": "markdown",
   "id": "af84f90b",
   "metadata": {},
   "source": [
    "# Selection bias\n",
    "\n",
    "Selection bias: Bias that results from how observations in data are selected\n",
    "\n",
    "Data Snooping: Searching through data in order to find something interesting within it. To prevent this, its important that you split apart a section of the data so that you have a section that you are not looking at prior to modeling that you can test your model on (test set).\n",
    "\n",
    "Vast Search Effect: A form of selection bias where one repeatedly runs different models asking different question on a large datset which increases the chances that an outlier is deemed interesting. One way to combat this is to have a holdout set of data that one can test their conclusions on.\n",
    "\n",
    "Target Shuffling: Target Shuffling is a process for testing the statistical accuracy of data mining results. Another method to combat the Vast search Effect where one creates a model and notes its efficacy, then shuffle the target variable around so you data is 'wrong'. Presumable a model trained on this data will not be very good. Train a model on this data and repeat this process several times and plot the strength(using whatever accuracy metric you want) on histograms. Wherever your original model falls in that distribution is the true significance of you model\n",
    "\n",
    "https://www.elderresearch.com/resource/innovations/target-shuffling-process/\n",
    "\n",
    "Regression to the mean: Refers to the phenomenon that extreme observations tend to be followed by ones closer to the mean. This is important to remember as without remembering this, it can be easy to assume that an extreme value obtained early on is representative, when it was just an outlier."
   ]
  },
  {
   "cell_type": "markdown",
   "id": "b47f40fa",
   "metadata": {},
   "source": [
    "# Sampling Distribution of a Statistic\n",
    "\n",
    "When working with large amounts of data, sampling becomes very important, and since a sample is not a perfect representation of the population, it is important to understand sampling variability.\n",
    "\n",
    "In this chapter we are going to be talking a lot about sample statistics, which are statistics that we gather on the sample data. This includes things like the sample mean, sample median etc.\n",
    "\n",
    "Additionally we will be talking about DATA DISTRIBUTIONS which are frequency distributions of individual values in a dataset.\n",
    "\n",
    "A Sampling Disctribution is a combination of the two above concepts and is a data distribution of the values of the sampling distribution.\n",
    "\n",
    "Central Limit Theorem. The means dtawn from multiple samples from the data when plotted, will resemble a bell-shaped normal curve. We can demonstrate this by taking the means of multiple samples of 5 or 20 items and plotting them on a bar chart."
   ]
  },
  {
   "cell_type": "code",
   "execution_count": 35,
   "id": "e3d6255e",
   "metadata": {},
   "outputs": [],
   "source": [
    "players_data = pd.read_csv('C:/Users/Administrator/Documents/projects/statistics/CHAPTER 2/players.csv')"
   ]
  },
  {
   "cell_type": "code",
   "execution_count": 36,
   "id": "128307f5",
   "metadata": {},
   "outputs": [
    {
     "data": {
      "text/html": [
       "<div>\n",
       "<style scoped>\n",
       "    .dataframe tbody tr th:only-of-type {\n",
       "        vertical-align: middle;\n",
       "    }\n",
       "\n",
       "    .dataframe tbody tr th {\n",
       "        vertical-align: top;\n",
       "    }\n",
       "\n",
       "    .dataframe thead th {\n",
       "        text-align: right;\n",
       "    }\n",
       "</style>\n",
       "<table border=\"1\" class=\"dataframe\">\n",
       "  <thead>\n",
       "    <tr style=\"text-align: right;\">\n",
       "      <th></th>\n",
       "      <th>nflId</th>\n",
       "      <th>height</th>\n",
       "      <th>weight</th>\n",
       "      <th>birthDate</th>\n",
       "      <th>collegeName</th>\n",
       "      <th>Position</th>\n",
       "      <th>displayName</th>\n",
       "    </tr>\n",
       "  </thead>\n",
       "  <tbody>\n",
       "    <tr>\n",
       "      <th>0</th>\n",
       "      <td>42901</td>\n",
       "      <td>6-1</td>\n",
       "      <td>208</td>\n",
       "      <td>1992-07-25</td>\n",
       "      <td>James Madison</td>\n",
       "      <td>SS</td>\n",
       "      <td>Dean Marlowe</td>\n",
       "    </tr>\n",
       "    <tr>\n",
       "      <th>1</th>\n",
       "      <td>43501</td>\n",
       "      <td>6-0</td>\n",
       "      <td>220</td>\n",
       "      <td>1994-08-11</td>\n",
       "      <td>Central Michigan</td>\n",
       "      <td>FS</td>\n",
       "      <td>Kavon Frazier</td>\n",
       "    </tr>\n",
       "    <tr>\n",
       "      <th>2</th>\n",
       "      <td>43534</td>\n",
       "      <td>6-0</td>\n",
       "      <td>205</td>\n",
       "      <td>1993-06-02</td>\n",
       "      <td>Illinois</td>\n",
       "      <td>SS</td>\n",
       "      <td>Clayton Fejedelem</td>\n",
       "    </tr>\n",
       "    <tr>\n",
       "      <th>3</th>\n",
       "      <td>43535</td>\n",
       "      <td>6-1</td>\n",
       "      <td>235</td>\n",
       "      <td>1992-12-22</td>\n",
       "      <td>Temple</td>\n",
       "      <td>MLB</td>\n",
       "      <td>Tyler Matakevich</td>\n",
       "    </tr>\n",
       "    <tr>\n",
       "      <th>4</th>\n",
       "      <td>44174</td>\n",
       "      <td>6-1</td>\n",
       "      <td>236</td>\n",
       "      <td>1993-02-22</td>\n",
       "      <td>Texas Tech</td>\n",
       "      <td>ILB</td>\n",
       "      <td>Sam Eguavoen</td>\n",
       "    </tr>\n",
       "    <tr>\n",
       "      <th>...</th>\n",
       "      <td>...</td>\n",
       "      <td>...</td>\n",
       "      <td>...</td>\n",
       "      <td>...</td>\n",
       "      <td>...</td>\n",
       "      <td>...</td>\n",
       "      <td>...</td>\n",
       "    </tr>\n",
       "    <tr>\n",
       "      <th>2727</th>\n",
       "      <td>33216</td>\n",
       "      <td>6-3</td>\n",
       "      <td>320</td>\n",
       "      <td>06/16/1986</td>\n",
       "      <td>Central Florida</td>\n",
       "      <td>G</td>\n",
       "      <td>Josh Sitton</td>\n",
       "    </tr>\n",
       "    <tr>\n",
       "      <th>2728</th>\n",
       "      <td>33184</td>\n",
       "      <td>6-3</td>\n",
       "      <td>265</td>\n",
       "      <td>05/02/1985</td>\n",
       "      <td>Winston-Salem State</td>\n",
       "      <td>DE</td>\n",
       "      <td>William Hayes</td>\n",
       "    </tr>\n",
       "    <tr>\n",
       "      <th>2729</th>\n",
       "      <td>45651</td>\n",
       "      <td>5-9</td>\n",
       "      <td>198</td>\n",
       "      <td>06/16/1993</td>\n",
       "      <td>Iowa</td>\n",
       "      <td>WR</td>\n",
       "      <td>Riley McCarron</td>\n",
       "    </tr>\n",
       "    <tr>\n",
       "      <th>2730</th>\n",
       "      <td>41284</td>\n",
       "      <td>73</td>\n",
       "      <td>230</td>\n",
       "      <td>1992-10-20</td>\n",
       "      <td>LSU</td>\n",
       "      <td>RB</td>\n",
       "      <td>Jeremy Hill</td>\n",
       "    </tr>\n",
       "    <tr>\n",
       "      <th>2731</th>\n",
       "      <td>42849</td>\n",
       "      <td>5-10</td>\n",
       "      <td>205</td>\n",
       "      <td>12/14/1992</td>\n",
       "      <td>Texas Tech</td>\n",
       "      <td>WR</td>\n",
       "      <td>Bradley Marquez</td>\n",
       "    </tr>\n",
       "  </tbody>\n",
       "</table>\n",
       "<p>2732 rows × 7 columns</p>\n",
       "</div>"
      ],
      "text/plain": [
       "      nflId height  weight   birthDate          collegeName Position  \\\n",
       "0     42901    6-1     208  1992-07-25        James Madison       SS   \n",
       "1     43501    6-0     220  1994-08-11     Central Michigan       FS   \n",
       "2     43534    6-0     205  1993-06-02             Illinois       SS   \n",
       "3     43535    6-1     235  1992-12-22               Temple      MLB   \n",
       "4     44174    6-1     236  1993-02-22           Texas Tech      ILB   \n",
       "...     ...    ...     ...         ...                  ...      ...   \n",
       "2727  33216    6-3     320  06/16/1986      Central Florida        G   \n",
       "2728  33184    6-3     265  05/02/1985  Winston-Salem State       DE   \n",
       "2729  45651    5-9     198  06/16/1993                 Iowa       WR   \n",
       "2730  41284     73     230  1992-10-20                  LSU       RB   \n",
       "2731  42849   5-10     205  12/14/1992           Texas Tech       WR   \n",
       "\n",
       "            displayName  \n",
       "0          Dean Marlowe  \n",
       "1         Kavon Frazier  \n",
       "2     Clayton Fejedelem  \n",
       "3      Tyler Matakevich  \n",
       "4          Sam Eguavoen  \n",
       "...                 ...  \n",
       "2727        Josh Sitton  \n",
       "2728      William Hayes  \n",
       "2729     Riley McCarron  \n",
       "2730        Jeremy Hill  \n",
       "2731    Bradley Marquez  \n",
       "\n",
       "[2732 rows x 7 columns]"
      ]
     },
     "execution_count": 36,
     "metadata": {},
     "output_type": "execute_result"
    }
   ],
   "source": [
    "players_data"
   ]
  },
  {
   "cell_type": "code",
   "execution_count": 37,
   "id": "7ada9e65",
   "metadata": {},
   "outputs": [],
   "source": [
    "players_data['height_inches'] = players_data['height'].apply(lambda x: int(x.split('-')[0])*12 + int(x.split('-')[1]) if len(x.split('-')) == 2 else int(x))"
   ]
  },
  {
   "cell_type": "code",
   "execution_count": 38,
   "id": "ae6df7ff",
   "metadata": {},
   "outputs": [
    {
     "data": {
      "text/html": [
       "<div>\n",
       "<style scoped>\n",
       "    .dataframe tbody tr th:only-of-type {\n",
       "        vertical-align: middle;\n",
       "    }\n",
       "\n",
       "    .dataframe tbody tr th {\n",
       "        vertical-align: top;\n",
       "    }\n",
       "\n",
       "    .dataframe thead th {\n",
       "        text-align: right;\n",
       "    }\n",
       "</style>\n",
       "<table border=\"1\" class=\"dataframe\">\n",
       "  <thead>\n",
       "    <tr style=\"text-align: right;\">\n",
       "      <th></th>\n",
       "      <th>nflId</th>\n",
       "      <th>height</th>\n",
       "      <th>weight</th>\n",
       "      <th>birthDate</th>\n",
       "      <th>collegeName</th>\n",
       "      <th>Position</th>\n",
       "      <th>displayName</th>\n",
       "      <th>height_inches</th>\n",
       "    </tr>\n",
       "  </thead>\n",
       "  <tbody>\n",
       "    <tr>\n",
       "      <th>0</th>\n",
       "      <td>42901</td>\n",
       "      <td>6-1</td>\n",
       "      <td>208</td>\n",
       "      <td>1992-07-25</td>\n",
       "      <td>James Madison</td>\n",
       "      <td>SS</td>\n",
       "      <td>Dean Marlowe</td>\n",
       "      <td>73</td>\n",
       "    </tr>\n",
       "    <tr>\n",
       "      <th>1</th>\n",
       "      <td>43501</td>\n",
       "      <td>6-0</td>\n",
       "      <td>220</td>\n",
       "      <td>1994-08-11</td>\n",
       "      <td>Central Michigan</td>\n",
       "      <td>FS</td>\n",
       "      <td>Kavon Frazier</td>\n",
       "      <td>72</td>\n",
       "    </tr>\n",
       "    <tr>\n",
       "      <th>2</th>\n",
       "      <td>43534</td>\n",
       "      <td>6-0</td>\n",
       "      <td>205</td>\n",
       "      <td>1993-06-02</td>\n",
       "      <td>Illinois</td>\n",
       "      <td>SS</td>\n",
       "      <td>Clayton Fejedelem</td>\n",
       "      <td>72</td>\n",
       "    </tr>\n",
       "    <tr>\n",
       "      <th>3</th>\n",
       "      <td>43535</td>\n",
       "      <td>6-1</td>\n",
       "      <td>235</td>\n",
       "      <td>1992-12-22</td>\n",
       "      <td>Temple</td>\n",
       "      <td>MLB</td>\n",
       "      <td>Tyler Matakevich</td>\n",
       "      <td>73</td>\n",
       "    </tr>\n",
       "    <tr>\n",
       "      <th>4</th>\n",
       "      <td>44174</td>\n",
       "      <td>6-1</td>\n",
       "      <td>236</td>\n",
       "      <td>1993-02-22</td>\n",
       "      <td>Texas Tech</td>\n",
       "      <td>ILB</td>\n",
       "      <td>Sam Eguavoen</td>\n",
       "      <td>73</td>\n",
       "    </tr>\n",
       "    <tr>\n",
       "      <th>...</th>\n",
       "      <td>...</td>\n",
       "      <td>...</td>\n",
       "      <td>...</td>\n",
       "      <td>...</td>\n",
       "      <td>...</td>\n",
       "      <td>...</td>\n",
       "      <td>...</td>\n",
       "      <td>...</td>\n",
       "    </tr>\n",
       "    <tr>\n",
       "      <th>2727</th>\n",
       "      <td>33216</td>\n",
       "      <td>6-3</td>\n",
       "      <td>320</td>\n",
       "      <td>06/16/1986</td>\n",
       "      <td>Central Florida</td>\n",
       "      <td>G</td>\n",
       "      <td>Josh Sitton</td>\n",
       "      <td>75</td>\n",
       "    </tr>\n",
       "    <tr>\n",
       "      <th>2728</th>\n",
       "      <td>33184</td>\n",
       "      <td>6-3</td>\n",
       "      <td>265</td>\n",
       "      <td>05/02/1985</td>\n",
       "      <td>Winston-Salem State</td>\n",
       "      <td>DE</td>\n",
       "      <td>William Hayes</td>\n",
       "      <td>75</td>\n",
       "    </tr>\n",
       "    <tr>\n",
       "      <th>2729</th>\n",
       "      <td>45651</td>\n",
       "      <td>5-9</td>\n",
       "      <td>198</td>\n",
       "      <td>06/16/1993</td>\n",
       "      <td>Iowa</td>\n",
       "      <td>WR</td>\n",
       "      <td>Riley McCarron</td>\n",
       "      <td>69</td>\n",
       "    </tr>\n",
       "    <tr>\n",
       "      <th>2730</th>\n",
       "      <td>41284</td>\n",
       "      <td>73</td>\n",
       "      <td>230</td>\n",
       "      <td>1992-10-20</td>\n",
       "      <td>LSU</td>\n",
       "      <td>RB</td>\n",
       "      <td>Jeremy Hill</td>\n",
       "      <td>73</td>\n",
       "    </tr>\n",
       "    <tr>\n",
       "      <th>2731</th>\n",
       "      <td>42849</td>\n",
       "      <td>5-10</td>\n",
       "      <td>205</td>\n",
       "      <td>12/14/1992</td>\n",
       "      <td>Texas Tech</td>\n",
       "      <td>WR</td>\n",
       "      <td>Bradley Marquez</td>\n",
       "      <td>70</td>\n",
       "    </tr>\n",
       "  </tbody>\n",
       "</table>\n",
       "<p>2732 rows × 8 columns</p>\n",
       "</div>"
      ],
      "text/plain": [
       "      nflId height  weight   birthDate          collegeName Position  \\\n",
       "0     42901    6-1     208  1992-07-25        James Madison       SS   \n",
       "1     43501    6-0     220  1994-08-11     Central Michigan       FS   \n",
       "2     43534    6-0     205  1993-06-02             Illinois       SS   \n",
       "3     43535    6-1     235  1992-12-22               Temple      MLB   \n",
       "4     44174    6-1     236  1993-02-22           Texas Tech      ILB   \n",
       "...     ...    ...     ...         ...                  ...      ...   \n",
       "2727  33216    6-3     320  06/16/1986      Central Florida        G   \n",
       "2728  33184    6-3     265  05/02/1985  Winston-Salem State       DE   \n",
       "2729  45651    5-9     198  06/16/1993                 Iowa       WR   \n",
       "2730  41284     73     230  1992-10-20                  LSU       RB   \n",
       "2731  42849   5-10     205  12/14/1992           Texas Tech       WR   \n",
       "\n",
       "            displayName  height_inches  \n",
       "0          Dean Marlowe             73  \n",
       "1         Kavon Frazier             72  \n",
       "2     Clayton Fejedelem             72  \n",
       "3      Tyler Matakevich             73  \n",
       "4          Sam Eguavoen             73  \n",
       "...                 ...            ...  \n",
       "2727        Josh Sitton             75  \n",
       "2728      William Hayes             75  \n",
       "2729     Riley McCarron             69  \n",
       "2730        Jeremy Hill             73  \n",
       "2731    Bradley Marquez             70  \n",
       "\n",
       "[2732 rows x 8 columns]"
      ]
     },
     "execution_count": 38,
     "metadata": {},
     "output_type": "execute_result"
    }
   ],
   "source": [
    "players_data"
   ]
  },
  {
   "cell_type": "code",
   "execution_count": 39,
   "id": "850b8c26",
   "metadata": {},
   "outputs": [
    {
     "data": {
      "text/plain": [
       "Text(0.5, 1.0, 'Central Limit Theorem')"
      ]
     },
     "execution_count": 39,
     "metadata": {},
     "output_type": "execute_result"
    },
    {
     "data": {
      "image/png": "[encoded data removed]",
      "text/plain": [
       "<Figure size 432x288 with 1 Axes>"
      ]
     },
     "metadata": {
      "needs_background": "light"
     },
     "output_type": "display_data"
    }
   ],
   "source": [
    "import matplotlib.pyplot as plt\n",
    "\n",
    "sample_amounts = range(10, 100, 20)\n",
    "\n",
    "for x in sample_amounts:\n",
    "    samples = []\n",
    "    for i in range(1000):\n",
    "        samples.append(players_data['height_inches'].sample(x).mean())\n",
    "    plt.hist(samples)\n",
    "plt.legend([str(z) + 'samples' for z in sample_amounts])\n",
    "plt.title('Central Limit Theorem')\n",
    "\n"
   ]
  },
  {
   "cell_type": "markdown",
   "id": "9e3e6c10",
   "metadata": {},
   "source": [
    "Standard Error: Single metric that sums up the variability in the sampling distribution for a statistic. You can estimate the standart error based on the standard deviation s and the number of values in the sample n.\n",
    "\n",
    "SE = sigma / sqrt(n)\n",
    "\n",
    "From the previous example with the Central Limit theorem, you can see that as we incerase the sample size, the error decreases, as proven by the formula above. You can calculate the standard error in Pandas using"
   ]
  },
  {
   "cell_type": "code",
   "execution_count": 40,
   "id": "4f5deb00",
   "metadata": {},
   "outputs": [
    {
     "data": {
      "text/plain": [
       "0.05065243293253027"
      ]
     },
     "execution_count": 40,
     "metadata": {},
     "output_type": "execute_result"
    }
   ],
   "source": [
    "players_data['height_inches'].sem()"
   ]
  },
  {
   "cell_type": "code",
   "execution_count": 41,
   "id": "36c53189",
   "metadata": {},
   "outputs": [
    {
     "name": "stderr",
     "output_type": "stream",
     "text": [
      "C:\\Users\\ADMINI~1\\AppData\\Local\\Temp/ipykernel_14072/3630968776.py:1: FutureWarning: Dropping of nuisance columns in DataFrame reductions (with 'numeric_only=None') is deprecated; in a future version this will raise TypeError.  Select only valid columns before calling the reduction.\n",
      "  players_data.sem()\n"
     ]
    },
    {
     "data": {
      "text/plain": [
       "nflId            92.793692\n",
       "weight            0.893608\n",
       "height_inches     0.050652\n",
       "dtype: float64"
      ]
     },
     "execution_count": 41,
     "metadata": {},
     "output_type": "execute_result"
    }
   ],
   "source": [
    "players_data.sem()"
   ]
  },
  {
   "cell_type": "markdown",
   "id": "49bafd12",
   "metadata": {},
   "source": [
    "Drawing new samples is typically seen as very wasteful and modern statistics favors the boostrap."
   ]
  },
  {
   "cell_type": "markdown",
   "id": "695c3f16",
   "metadata": {},
   "source": [
    "The bootstrap: This is a sampling method where we draw resamples from a sample replace the values in the resample back to the sample, then ddraw them again similar to the code we wrote to prove the central limit theorem. There don't have to be any assumptions about the samples being normally distributed. To be clear, if you want to collect a sample of size n, then you will pick a value, record it, put it back, then pick another value until you pick n values, meaning you can pick values more than once. You can implement bootstrapping in python using SkLearn."
   ]
  },
  {
   "cell_type": "code",
   "execution_count": 42,
   "id": "669ad970",
   "metadata": {},
   "outputs": [
    {
     "name": "stdout",
     "output_type": "stream",
     "text": [
      "Boostrap Statistics: \n",
      "original: 74.0\n",
      "bias: 0.011339311859430268\n",
      "std. error: 0.050830540274873465\n"
     ]
    }
   ],
   "source": [
    "from sklearn.utils import resample\n",
    "\n",
    "result = []\n",
    "\n",
    "for nrepeat in range(1000):\n",
    "    sample = resample(players_data['height_inches'])\n",
    "    result.append(sample.mean())\n",
    "result = pd.Series(result)\n",
    "print('Boostrap Statistics: ')\n",
    "print(f'original: {players_data[\"height_inches\"].median()}')\n",
    "print(f'bias: {result.mean() - players_data[\"height_inches\"].median()}')\n",
    "print(f'std. error: {result.std()}')"
   ]
  },
  {
   "cell_type": "markdown",
   "id": "8dec78a7",
   "metadata": {},
   "source": [
    "# Confidence Intervals\n",
    "\n",
    "Confidence Level: The percentage of confidence intervals constructed in the same way from the same population that are expected to contain the statistic of interest.\n",
    "\n",
    "Confidence Intervals: The interval that contains x% of the bootstrapped sample statistic you are gathering. You can calculate this using this methodolgy. \n",
    "\n",
    "1. Draw a random sample of size n with replacement(bootsrtapping) from the data\n",
    "2. Record your sample statistic(mean, median etc)\n",
    "3. Repeat steps 1-2 multiple times\n",
    "4. For an x% confidence interval, trim[(100-x)/2]% results off the end of the distribution \n",
    "5. The trim points define the bounds of the confidence interval\n",
    "\n",
    "Confidence intrvals are a great way of determining if more data need to be calculated of if more data needs to be calculated of if more research needs to be done into the phenomenon, if the bounds of the interval are too far apart from one another, then it can be a sign that not enough data war gathered. A large confidence interval can also signal a more variable dataset.\n",
    "\n",
    "https://www.youtube.com/watch?v=TqOeMYtOc1w\n",
    "\n",
    "If we want to use Python to calculate the Confidence Interval, then we can use the scipy package\n",
    "\n",
    "https://www.statology.org/confidence-intervals-python/#:~:text=A%20confidence%20interval%20for%20a,a%20certain%20level%20of%20confidence."
   ]
  },
  {
   "cell_type": "code",
   "execution_count": 43,
   "id": "67715fee",
   "metadata": {},
   "outputs": [
    {
     "data": {
      "text/plain": [
       "(71.78464452741886, 74.91535547258113)"
      ]
     },
     "execution_count": 43,
     "metadata": {},
     "output_type": "execute_result"
    }
   ],
   "source": [
    "import scipy.stats as st\n",
    "\n",
    "# define sample data\n",
    "data = players_data['height_inches'].sample(20)\n",
    "\n",
    "# create 95% confidence interval for population mean weight\n",
    "st.t.interval(alpha=0.95, df=len(data)-1, loc=np.mean(data), scale=st.sem(data))"
   ]
  },
  {
   "cell_type": "markdown",
   "id": "353cdbbf",
   "metadata": {},
   "source": [
    "Otherwiser we can use the normal distribution as we can assume the sample mean is normally distributed. Remember, this doesn't mean that data itself is normally distributed."
   ]
  },
  {
   "cell_type": "code",
   "execution_count": 44,
   "id": "f044be50",
   "metadata": {},
   "outputs": [
    {
     "data": {
      "text/plain": [
       "(73.90163222263179, 74.17170111070153)"
      ]
     },
     "execution_count": 44,
     "metadata": {},
     "output_type": "execute_result"
    }
   ],
   "source": [
    "# define sample data\n",
    "data = players_data['height_inches'].sample(1500)\n",
    "\n",
    "# create 95% confidence interval for population mean weight\n",
    "st.norm.interval(alpha=0.95, loc=np.mean(data), scale=st.sem(data))"
   ]
  },
  {
   "cell_type": "markdown",
   "id": "2b3af0f3",
   "metadata": {},
   "source": [
    "# Normal/Gaussian Distribution\n",
    "\n",
    "**Error**: Difference between an insetance and a predicted average value.\n",
    "**Standardize**: Method of scaling data up or down such that you can compare it to a normal distribution.\n",
    "**Z-Score**: Refers to the numner of standard deviation above or below the mean that the value is.\n",
    "\n",
    "https://www.investopedia.com/terms/z/zscore.asp#:~:text=A%20Z%2Dscore%20is%20a,standard%20deviations%20from%20the%20mean.&text=A%20Z%2DScore%20is%20a%20statistical%20measurement%20of%20a%20score's,in%20a%20group%20of%20scores.\n",
    "\n",
    "**QQ-Plot**: Otherwise known as a quantile-quantile plot, can be used to determine if a distribution of values is close to a normal distribution. If the QQ-plot is roughly diagonal going upwards left to right then it can be considered a normal distribution. This plot order the z-scores from low to high, plotting the z-score on the y-axis and the x-axis is what quantile(percentile) that ranked valye is in a normal distributioin(theoretically what would the quantile be if the data were normal)\n",
    "\n",
    "https://data.library.virginia.edu/understanding-q-q-plots/"
   ]
  },
  {
   "cell_type": "code",
   "execution_count": 45,
   "id": "0ebbe551",
   "metadata": {},
   "outputs": [
    {
     "data": {
      "text/plain": [
       "((array([-2.46203784, -2.12570747, -1.93122778, -1.79044653, -1.67819304,\n",
       "         -1.58381122, -1.50174123, -1.42869743, -1.36256869, -1.30191411,\n",
       "         -1.24570419, -1.19317644, -1.14374949, -1.09696931, -1.05247413,\n",
       "         -1.00997067, -0.96921765, -0.93001393, -0.89218993, -0.85560121,\n",
       "         -0.82012357, -0.78564937, -0.75208458, -0.71934648, -0.68736185,\n",
       "         -0.65606548, -0.62539893, -0.59530962, -0.56574992, -0.53667655,\n",
       "         -0.50804994, -0.47983378, -0.45199463, -0.42450149, -0.39732558,\n",
       "         -0.37044003, -0.34381966, -0.31744076, -0.29128096, -0.26531902,\n",
       "         -0.23953472, -0.21390872, -0.18842244, -0.16305799, -0.13779803,\n",
       "         -0.1126257 , -0.08752455, -0.06247843, -0.03747145, -0.01248789,\n",
       "          0.01248789,  0.03747145,  0.06247843,  0.08752455,  0.1126257 ,\n",
       "          0.13779803,  0.16305799,  0.18842244,  0.21390872,  0.23953472,\n",
       "          0.26531902,  0.29128096,  0.31744076,  0.34381966,  0.37044003,\n",
       "          0.39732558,  0.42450149,  0.45199463,  0.47983378,  0.50804994,\n",
       "          0.53667655,  0.56574992,  0.59530962,  0.62539893,  0.65606548,\n",
       "          0.68736185,  0.71934648,  0.75208458,  0.78564937,  0.82012357,\n",
       "          0.85560121,  0.89218993,  0.93001393,  0.96921765,  1.00997067,\n",
       "          1.05247413,  1.09696931,  1.14374949,  1.19317644,  1.24570419,\n",
       "          1.30191411,  1.36256869,  1.42869743,  1.50174123,  1.58381122,\n",
       "          1.67819304,  1.79044653,  1.93122778,  2.12570747,  2.46203784]),\n",
       "  array([-1.99989207, -1.86707391, -1.79445263, -1.68259386, -1.5823023 ,\n",
       "         -1.53743724, -1.44310984, -1.38053713, -1.37778265, -1.36126541,\n",
       "         -1.34947143, -1.28997768, -1.27252471, -1.17899615, -1.10508909,\n",
       "         -1.07443499, -1.0442299 , -0.94525633, -0.9347484 , -0.93383522,\n",
       "         -0.84759914, -0.8412561 , -0.82441403, -0.80668532, -0.73644946,\n",
       "         -0.69784225, -0.65315689, -0.56315604, -0.53440152, -0.52628905,\n",
       "         -0.45506397, -0.44759913, -0.43514592, -0.42630835, -0.39660168,\n",
       "         -0.38156131, -0.31839124, -0.28540431, -0.26531489, -0.25473315,\n",
       "         -0.25359748, -0.2452737 , -0.20950556, -0.20334524, -0.20090291,\n",
       "         -0.14219526, -0.12183669, -0.0435507 ,  0.02495771,  0.03108982,\n",
       "          0.07156262,  0.11318928,  0.12131154,  0.1672756 ,  0.17055439,\n",
       "          0.20798163,  0.22530181,  0.28724446,  0.30059197,  0.30134153,\n",
       "          0.3116935 ,  0.33743249,  0.35644533,  0.37361103,  0.38915466,\n",
       "          0.39912932,  0.40444304,  0.44989884,  0.47652344,  0.54900638,\n",
       "          0.59303294,  0.59561394,  0.59594782,  0.61708097,  0.65742942,\n",
       "          0.68628764,  0.69371094,  0.71811722,  0.7739697 ,  0.78720068,\n",
       "          0.83736703,  0.87456935,  0.87696751,  0.91546347,  0.92326155,\n",
       "          1.04685605,  1.054722  ,  1.33886551,  1.46194742,  1.46705077,\n",
       "          1.49494322,  1.50719488,  1.52479067,  1.54059387,  1.94009581,\n",
       "          1.9419842 ,  1.99803038,  2.2183415 ,  2.28172297,  2.47929419])),\n",
       " (1.02240373207444, 0.032396017721039616, 0.9953123974149224))"
      ]
     },
     "execution_count": 45,
     "metadata": {},
     "output_type": "execute_result"
    },
    {
     "data": {
      "image/png": "[encoded data removed]",
      "text/plain": [
       "<Figure size 288x288 with 1 Axes>"
      ]
     },
     "metadata": {
      "needs_background": "light"
     },
     "output_type": "display_data"
    }
   ],
   "source": [
    "from scipy import stats\n",
    "\n",
    "fig, ax = plt.subplots(figsize=(4,4))\n",
    "norm_sample = stats.norm.rvs(size = 100)\n",
    "stats.probplot(norm_sample,plot = ax)"
   ]
  },
  {
   "cell_type": "code",
   "execution_count": 46,
   "id": "c9e1e4a7",
   "metadata": {},
   "outputs": [
    {
     "data": {
      "text/plain": [
       "((array([-3.19758950e+00, -2.93237785e+00, -2.78437841e+00, -2.67999560e+00,\n",
       "         -2.59855946e+00, -2.53139899e+00, -2.47402263e+00, -2.42379214e+00,\n",
       "         -2.37902149e+00, -2.33856546e+00, -2.30160949e+00, -2.26755284e+00,\n",
       "         -2.23593934e+00, -2.20641415e+00, -2.17869564e+00, -2.15255643e+00,\n",
       "         -2.12781017e+00, -2.10430217e+00, -2.08190261e+00, -2.06050135e+00,\n",
       "         -2.04000420e+00, -2.02032992e+00, -2.00140792e+00, -1.98317650e+00,\n",
       "         -1.96558137e+00, -1.94857451e+00, -1.93211325e+00, -1.91615948e+00,\n",
       "         -1.90067901e+00, -1.88564107e+00, -1.87101783e+00, -1.85678408e+00,\n",
       "         -1.84291686e+00, -1.82939524e+00, -1.81620005e+00, -1.80331371e+00,\n",
       "         -1.79072004e+00, -1.77840415e+00, -1.76635224e+00, -1.75455157e+00,\n",
       "         -1.74299028e+00, -1.73165738e+00, -1.72054262e+00, -1.70963644e+00,\n",
       "         -1.69892989e+00, -1.68841463e+00, -1.67808281e+00, -1.66792707e+00,\n",
       "         -1.65794051e+00, -1.64811661e+00, -1.63844924e+00, -1.62893261e+00,\n",
       "         -1.61956127e+00, -1.61033003e+00, -1.60123402e+00, -1.59226859e+00,\n",
       "         -1.58342935e+00, -1.57471213e+00, -1.56611295e+00, -1.55762804e+00,\n",
       "         -1.54925381e+00, -1.54098684e+00, -1.53282387e+00, -1.52476177e+00,\n",
       "         -1.51679758e+00, -1.50892845e+00, -1.50115166e+00, -1.49346462e+00,\n",
       "         -1.48586482e+00, -1.47834989e+00, -1.47091753e+00, -1.46356555e+00,\n",
       "         -1.45629184e+00, -1.44909437e+00, -1.44197119e+00, -1.43492043e+00,\n",
       "         -1.42794030e+00, -1.42102906e+00, -1.41418503e+00, -1.40740661e+00,\n",
       "         -1.40069224e+00, -1.39404044e+00, -1.38744975e+00, -1.38091878e+00,\n",
       "         -1.37444619e+00, -1.36803067e+00, -1.36167098e+00, -1.35536588e+00,\n",
       "         -1.34911421e+00, -1.34291482e+00, -1.33676663e+00, -1.33066855e+00,\n",
       "         -1.32461956e+00, -1.31861865e+00, -1.31266485e+00, -1.30675722e+00,\n",
       "         -1.30089485e+00, -1.29507686e+00, -1.28930237e+00, -1.28357055e+00,\n",
       "         -1.27788060e+00, -1.27223172e+00, -1.26662315e+00, -1.26105415e+00,\n",
       "         -1.25552398e+00, -1.25003194e+00, -1.24457735e+00, -1.23915954e+00,\n",
       "         -1.23377786e+00, -1.22843168e+00, -1.22312038e+00, -1.21784337e+00,\n",
       "         -1.21260004e+00, -1.20738985e+00, -1.20221223e+00, -1.19706664e+00,\n",
       "         -1.19195255e+00, -1.18686944e+00, -1.18181682e+00, -1.17679419e+00,\n",
       "         -1.17180107e+00, -1.16683699e+00, -1.16190151e+00, -1.15699416e+00,\n",
       "         -1.15211453e+00, -1.14726217e+00, -1.14243667e+00, -1.13763763e+00,\n",
       "         -1.13286465e+00, -1.12811734e+00, -1.12339532e+00, -1.11869822e+00,\n",
       "         -1.11402566e+00, -1.10937731e+00, -1.10475280e+00, -1.10015180e+00,\n",
       "         -1.09557397e+00, -1.09101899e+00, -1.08648653e+00, -1.08197628e+00,\n",
       "         -1.07748793e+00, -1.07302119e+00, -1.06857575e+00, -1.06415133e+00,\n",
       "         -1.05974765e+00, -1.05536442e+00, -1.05100137e+00, -1.04665824e+00,\n",
       "         -1.04233476e+00, -1.03803068e+00, -1.03374574e+00, -1.02947970e+00,\n",
       "         -1.02523232e+00, -1.02100335e+00, -1.01679256e+00, -1.01259972e+00,\n",
       "         -1.00842461e+00, -1.00426700e+00, -1.00012668e+00, -9.96003439e-01,\n",
       "         -9.91897058e-01, -9.87807334e-01, -9.83734067e-01, -9.79677056e-01,\n",
       "         -9.75636106e-01, -9.71611024e-01, -9.67601623e-01, -9.63607717e-01,\n",
       "         -9.59629122e-01, -9.55665660e-01, -9.51717154e-01, -9.47783430e-01,\n",
       "         -9.43864319e-01, -9.39959651e-01, -9.36069261e-01, -9.32192988e-01,\n",
       "         -9.28330671e-01, -9.24482153e-01, -9.20647280e-01, -9.16825898e-01,\n",
       "         -9.13017857e-01, -9.09223011e-01, -9.05441213e-01, -9.01672321e-01,\n",
       "         -8.97916193e-01, -8.94172691e-01, -8.90441678e-01, -8.86723020e-01,\n",
       "         -8.83016583e-01, -8.79322237e-01, -8.75639853e-01, -8.71969305e-01,\n",
       "         -8.68310468e-01, -8.64663218e-01, -8.61027434e-01, -8.57402996e-01,\n",
       "         -8.53789787e-01, -8.50187690e-01, -8.46596591e-01, -8.43016376e-01,\n",
       "         -8.39446935e-01, -8.35888157e-01, -8.32339934e-01, -8.28802160e-01,\n",
       "         -8.25274728e-01, -8.21757535e-01, -8.18250479e-01, -8.14753457e-01,\n",
       "         -8.11266372e-01, -8.07789123e-01, -8.04321614e-01, -8.00863750e-01,\n",
       "         -7.97415434e-01, -7.93976575e-01, -7.90547079e-01, -7.87126857e-01,\n",
       "         -7.83715817e-01, -7.80313872e-01, -7.76920933e-01, -7.73536915e-01,\n",
       "         -7.70161733e-01, -7.66795301e-01, -7.63437536e-01, -7.60088358e-01,\n",
       "         -7.56747683e-01, -7.53415433e-01, -7.50091527e-01, -7.46775888e-01,\n",
       "         -7.43468439e-01, -7.40169103e-01, -7.36877804e-01, -7.33594468e-01,\n",
       "         -7.30319022e-01, -7.27051392e-01, -7.23791507e-01, -7.20539295e-01,\n",
       "         -7.17294687e-01, -7.14057613e-01, -7.10828003e-01, -7.07605791e-01,\n",
       "         -7.04390909e-01, -7.01183291e-01, -6.97982871e-01, -6.94789584e-01,\n",
       "         -6.91603367e-01, -6.88424155e-01, -6.85251886e-01, -6.82086498e-01,\n",
       "         -6.78927930e-01, -6.75776120e-01, -6.72631010e-01, -6.69492539e-01,\n",
       "         -6.66360648e-01, -6.63235280e-01, -6.60116377e-01, -6.57003883e-01,\n",
       "         -6.53897740e-01, -6.50797893e-01, -6.47704287e-01, -6.44616868e-01,\n",
       "         -6.41535581e-01, -6.38460373e-01, -6.35391191e-01, -6.32327983e-01,\n",
       "         -6.29270697e-01, -6.26219281e-01, -6.23173684e-01, -6.20133858e-01,\n",
       "         -6.17099750e-01, -6.14071313e-01, -6.11048498e-01, -6.08031256e-01,\n",
       "         -6.05019539e-01, -6.02013299e-01, -5.99012491e-01, -5.96017067e-01,\n",
       "         -5.93026981e-01, -5.90042188e-01, -5.87062643e-01, -5.84088300e-01,\n",
       "         -5.81119115e-01, -5.78155045e-01, -5.75196045e-01, -5.72242074e-01,\n",
       "         -5.69293087e-01, -5.66349043e-01, -5.63409899e-01, -5.60475614e-01,\n",
       "         -5.57546147e-01, -5.54621458e-01, -5.51701504e-01, -5.48786247e-01,\n",
       "         -5.45875647e-01, -5.42969663e-01, -5.40068258e-01, -5.37171392e-01,\n",
       "         -5.34279026e-01, -5.31391124e-01, -5.28507646e-01, -5.25628557e-01,\n",
       "         -5.22753817e-01, -5.19883391e-01, -5.17017243e-01, -5.14155335e-01,\n",
       "         -5.11297632e-01, -5.08444099e-01, -5.05594699e-01, -5.02749399e-01,\n",
       "         -4.99908163e-01, -4.97070957e-01, -4.94237747e-01, -4.91408498e-01,\n",
       "         -4.88583178e-01, -4.85761752e-01, -4.82944188e-01, -4.80130452e-01,\n",
       "         -4.77320513e-01, -4.74514337e-01, -4.71711893e-01, -4.68913149e-01,\n",
       "         -4.66118073e-01, -4.63326634e-01, -4.60538801e-01, -4.57754542e-01,\n",
       "         -4.54973827e-01, -4.52196626e-01, -4.49422908e-01, -4.46652644e-01,\n",
       "         -4.43885803e-01, -4.41122356e-01, -4.38362274e-01, -4.35605527e-01,\n",
       "         -4.32852086e-01, -4.30101924e-01, -4.27355010e-01, -4.24611318e-01,\n",
       "         -4.21870818e-01, -4.19133483e-01, -4.16399284e-01, -4.13668196e-01,\n",
       "         -4.10940189e-01, -4.08215237e-01, -4.05493313e-01, -4.02774389e-01,\n",
       "         -4.00058440e-01, -3.97345439e-01, -3.94635359e-01, -3.91928175e-01,\n",
       "         -3.89223860e-01, -3.86522388e-01, -3.83823735e-01, -3.81127874e-01,\n",
       "         -3.78434779e-01, -3.75744427e-01, -3.73056792e-01, -3.70371848e-01,\n",
       "         -3.67689572e-01, -3.65009939e-01, -3.62332924e-01, -3.59658504e-01,\n",
       "         -3.56986653e-01, -3.54317348e-01, -3.51650566e-01, -3.48986282e-01,\n",
       "         -3.46324472e-01, -3.43665115e-01, -3.41008186e-01, -3.38353661e-01,\n",
       "         -3.35701519e-01, -3.33051736e-01, -3.30404290e-01, -3.27759157e-01,\n",
       "         -3.25116316e-01, -3.22475743e-01, -3.19837417e-01, -3.17201315e-01,\n",
       "         -3.14567416e-01, -3.11935698e-01, -3.09306138e-01, -3.06678715e-01,\n",
       "         -3.04053407e-01, -3.01430193e-01, -2.98809052e-01, -2.96189962e-01,\n",
       "         -2.93572903e-01, -2.90957852e-01, -2.88344790e-01, -2.85733695e-01,\n",
       "         -2.83124547e-01, -2.80517325e-01, -2.77912008e-01, -2.75308576e-01,\n",
       "         -2.72707009e-01, -2.70107286e-01, -2.67509388e-01, -2.64913294e-01,\n",
       "         -2.62318984e-01, -2.59726438e-01, -2.57135637e-01, -2.54546561e-01,\n",
       "         -2.51959189e-01, -2.49373504e-01, -2.46789484e-01, -2.44207112e-01,\n",
       "         -2.41626367e-01, -2.39047230e-01, -2.36469683e-01, -2.33893705e-01,\n",
       "         -2.31319279e-01, -2.28746384e-01, -2.26175004e-01, -2.23605117e-01,\n",
       "         -2.21036707e-01, -2.18469754e-01, -2.15904240e-01, -2.13340146e-01,\n",
       "         -2.10777454e-01, -2.08216145e-01, -2.05656202e-01, -2.03097605e-01,\n",
       "         -2.00540338e-01, -1.97984381e-01, -1.95429717e-01, -1.92876328e-01,\n",
       "         -1.90324196e-01, -1.87773302e-01, -1.85223630e-01, -1.82675162e-01,\n",
       "         -1.80127879e-01, -1.77581765e-01, -1.75036802e-01, -1.72492971e-01,\n",
       "         -1.69950256e-01, -1.67408640e-01, -1.64868105e-01, -1.62328633e-01,\n",
       "         -1.59790208e-01, -1.57252812e-01, -1.54716428e-01, -1.52181038e-01,\n",
       "         -1.49646627e-01, -1.47113177e-01, -1.44580670e-01, -1.42049091e-01,\n",
       "         -1.39518421e-01, -1.36988645e-01, -1.34459745e-01, -1.31931705e-01,\n",
       "         -1.29404507e-01, -1.26878136e-01, -1.24352575e-01, -1.21827806e-01,\n",
       "         -1.19303813e-01, -1.16780581e-01, -1.14258092e-01, -1.11736329e-01,\n",
       "         -1.09215277e-01, -1.06694919e-01, -1.04175238e-01, -1.01656219e-01,\n",
       "         -9.91378445e-02, -9.66200987e-02, -9.41029651e-02, -9.15864277e-02,\n",
       "         -8.90704701e-02, -8.65550762e-02, -8.40402299e-02, -8.15259149e-02,\n",
       "         -7.90121153e-02, -7.64988148e-02, -7.39859974e-02, -7.14736472e-02,\n",
       "         -6.89617480e-02, -6.64502838e-02, -6.39392387e-02, -6.14285967e-02,\n",
       "         -5.89183419e-02, -5.64084582e-02, -5.38989299e-02, -5.13897409e-02,\n",
       "         -4.88808755e-02, -4.63723177e-02, -4.38640516e-02, -4.13560616e-02,\n",
       "         -3.88483316e-02, -3.63408459e-02, -3.38335886e-02, -3.13265441e-02,\n",
       "         -2.88196964e-02, -2.63130298e-02, -2.38065286e-02, -2.13001769e-02,\n",
       "         -1.87939590e-02, -1.62878591e-02, -1.37818616e-02, -1.12759505e-02,\n",
       "         -8.77011034e-03, -6.26432519e-03, -3.75857938e-03, -1.25285717e-03,\n",
       "          1.25285717e-03,  3.75857938e-03,  6.26432519e-03,  8.77011034e-03,\n",
       "          1.12759505e-02,  1.37818616e-02,  1.62878591e-02,  1.87939590e-02,\n",
       "          2.13001769e-02,  2.38065286e-02,  2.63130298e-02,  2.88196964e-02,\n",
       "          3.13265441e-02,  3.38335886e-02,  3.63408459e-02,  3.88483316e-02,\n",
       "          4.13560616e-02,  4.38640516e-02,  4.63723177e-02,  4.88808755e-02,\n",
       "          5.13897409e-02,  5.38989299e-02,  5.64084582e-02,  5.89183419e-02,\n",
       "          6.14285967e-02,  6.39392387e-02,  6.64502838e-02,  6.89617480e-02,\n",
       "          7.14736472e-02,  7.39859974e-02,  7.64988148e-02,  7.90121153e-02,\n",
       "          8.15259149e-02,  8.40402299e-02,  8.65550762e-02,  8.90704701e-02,\n",
       "          9.15864277e-02,  9.41029651e-02,  9.66200987e-02,  9.91378445e-02,\n",
       "          1.01656219e-01,  1.04175238e-01,  1.06694919e-01,  1.09215277e-01,\n",
       "          1.11736329e-01,  1.14258092e-01,  1.16780581e-01,  1.19303813e-01,\n",
       "          1.21827806e-01,  1.24352575e-01,  1.26878136e-01,  1.29404507e-01,\n",
       "          1.31931705e-01,  1.34459745e-01,  1.36988645e-01,  1.39518421e-01,\n",
       "          1.42049091e-01,  1.44580670e-01,  1.47113177e-01,  1.49646627e-01,\n",
       "          1.52181038e-01,  1.54716428e-01,  1.57252812e-01,  1.59790208e-01,\n",
       "          1.62328633e-01,  1.64868105e-01,  1.67408640e-01,  1.69950256e-01,\n",
       "          1.72492971e-01,  1.75036802e-01,  1.77581765e-01,  1.80127879e-01,\n",
       "          1.82675162e-01,  1.85223630e-01,  1.87773302e-01,  1.90324196e-01,\n",
       "          1.92876328e-01,  1.95429717e-01,  1.97984381e-01,  2.00540338e-01,\n",
       "          2.03097605e-01,  2.05656202e-01,  2.08216145e-01,  2.10777454e-01,\n",
       "          2.13340146e-01,  2.15904240e-01,  2.18469754e-01,  2.21036707e-01,\n",
       "          2.23605117e-01,  2.26175004e-01,  2.28746384e-01,  2.31319279e-01,\n",
       "          2.33893705e-01,  2.36469683e-01,  2.39047230e-01,  2.41626367e-01,\n",
       "          2.44207112e-01,  2.46789484e-01,  2.49373504e-01,  2.51959189e-01,\n",
       "          2.54546561e-01,  2.57135637e-01,  2.59726438e-01,  2.62318984e-01,\n",
       "          2.64913294e-01,  2.67509388e-01,  2.70107286e-01,  2.72707009e-01,\n",
       "          2.75308576e-01,  2.77912008e-01,  2.80517325e-01,  2.83124547e-01,\n",
       "          2.85733695e-01,  2.88344790e-01,  2.90957852e-01,  2.93572903e-01,\n",
       "          2.96189962e-01,  2.98809052e-01,  3.01430193e-01,  3.04053407e-01,\n",
       "          3.06678715e-01,  3.09306138e-01,  3.11935698e-01,  3.14567416e-01,\n",
       "          3.17201315e-01,  3.19837417e-01,  3.22475743e-01,  3.25116316e-01,\n",
       "          3.27759157e-01,  3.30404290e-01,  3.33051736e-01,  3.35701519e-01,\n",
       "          3.38353661e-01,  3.41008186e-01,  3.43665115e-01,  3.46324472e-01,\n",
       "          3.48986282e-01,  3.51650566e-01,  3.54317348e-01,  3.56986653e-01,\n",
       "          3.59658504e-01,  3.62332924e-01,  3.65009939e-01,  3.67689572e-01,\n",
       "          3.70371848e-01,  3.73056792e-01,  3.75744427e-01,  3.78434779e-01,\n",
       "          3.81127874e-01,  3.83823735e-01,  3.86522388e-01,  3.89223860e-01,\n",
       "          3.91928175e-01,  3.94635359e-01,  3.97345439e-01,  4.00058440e-01,\n",
       "          4.02774389e-01,  4.05493313e-01,  4.08215237e-01,  4.10940189e-01,\n",
       "          4.13668196e-01,  4.16399284e-01,  4.19133483e-01,  4.21870818e-01,\n",
       "          4.24611318e-01,  4.27355010e-01,  4.30101924e-01,  4.32852086e-01,\n",
       "          4.35605527e-01,  4.38362274e-01,  4.41122356e-01,  4.43885803e-01,\n",
       "          4.46652644e-01,  4.49422908e-01,  4.52196626e-01,  4.54973827e-01,\n",
       "          4.57754542e-01,  4.60538801e-01,  4.63326634e-01,  4.66118073e-01,\n",
       "          4.68913149e-01,  4.71711893e-01,  4.74514337e-01,  4.77320513e-01,\n",
       "          4.80130452e-01,  4.82944188e-01,  4.85761752e-01,  4.88583178e-01,\n",
       "          4.91408498e-01,  4.94237747e-01,  4.97070957e-01,  4.99908163e-01,\n",
       "          5.02749399e-01,  5.05594699e-01,  5.08444099e-01,  5.11297632e-01,\n",
       "          5.14155335e-01,  5.17017243e-01,  5.19883391e-01,  5.22753817e-01,\n",
       "          5.25628557e-01,  5.28507646e-01,  5.31391124e-01,  5.34279026e-01,\n",
       "          5.37171392e-01,  5.40068258e-01,  5.42969663e-01,  5.45875647e-01,\n",
       "          5.48786247e-01,  5.51701504e-01,  5.54621458e-01,  5.57546147e-01,\n",
       "          5.60475614e-01,  5.63409899e-01,  5.66349043e-01,  5.69293087e-01,\n",
       "          5.72242074e-01,  5.75196045e-01,  5.78155045e-01,  5.81119115e-01,\n",
       "          5.84088300e-01,  5.87062643e-01,  5.90042188e-01,  5.93026981e-01,\n",
       "          5.96017067e-01,  5.99012491e-01,  6.02013299e-01,  6.05019539e-01,\n",
       "          6.08031256e-01,  6.11048498e-01,  6.14071313e-01,  6.17099750e-01,\n",
       "          6.20133858e-01,  6.23173684e-01,  6.26219281e-01,  6.29270697e-01,\n",
       "          6.32327983e-01,  6.35391191e-01,  6.38460373e-01,  6.41535581e-01,\n",
       "          6.44616868e-01,  6.47704287e-01,  6.50797893e-01,  6.53897740e-01,\n",
       "          6.57003883e-01,  6.60116377e-01,  6.63235280e-01,  6.66360648e-01,\n",
       "          6.69492539e-01,  6.72631010e-01,  6.75776120e-01,  6.78927930e-01,\n",
       "          6.82086498e-01,  6.85251886e-01,  6.88424155e-01,  6.91603367e-01,\n",
       "          6.94789584e-01,  6.97982871e-01,  7.01183291e-01,  7.04390909e-01,\n",
       "          7.07605791e-01,  7.10828003e-01,  7.14057613e-01,  7.17294687e-01,\n",
       "          7.20539295e-01,  7.23791507e-01,  7.27051392e-01,  7.30319022e-01,\n",
       "          7.33594468e-01,  7.36877804e-01,  7.40169103e-01,  7.43468439e-01,\n",
       "          7.46775888e-01,  7.50091527e-01,  7.53415433e-01,  7.56747683e-01,\n",
       "          7.60088358e-01,  7.63437536e-01,  7.66795301e-01,  7.70161733e-01,\n",
       "          7.73536915e-01,  7.76920933e-01,  7.80313872e-01,  7.83715817e-01,\n",
       "          7.87126857e-01,  7.90547079e-01,  7.93976575e-01,  7.97415434e-01,\n",
       "          8.00863750e-01,  8.04321614e-01,  8.07789123e-01,  8.11266372e-01,\n",
       "          8.14753457e-01,  8.18250479e-01,  8.21757535e-01,  8.25274728e-01,\n",
       "          8.28802160e-01,  8.32339934e-01,  8.35888157e-01,  8.39446935e-01,\n",
       "          8.43016376e-01,  8.46596591e-01,  8.50187690e-01,  8.53789787e-01,\n",
       "          8.57402996e-01,  8.61027434e-01,  8.64663218e-01,  8.68310468e-01,\n",
       "          8.71969305e-01,  8.75639853e-01,  8.79322237e-01,  8.83016583e-01,\n",
       "          8.86723020e-01,  8.90441678e-01,  8.94172691e-01,  8.97916193e-01,\n",
       "          9.01672321e-01,  9.05441213e-01,  9.09223011e-01,  9.13017857e-01,\n",
       "          9.16825898e-01,  9.20647280e-01,  9.24482153e-01,  9.28330671e-01,\n",
       "          9.32192988e-01,  9.36069261e-01,  9.39959651e-01,  9.43864319e-01,\n",
       "          9.47783430e-01,  9.51717154e-01,  9.55665660e-01,  9.59629122e-01,\n",
       "          9.63607717e-01,  9.67601623e-01,  9.71611024e-01,  9.75636106e-01,\n",
       "          9.79677056e-01,  9.83734067e-01,  9.87807334e-01,  9.91897058e-01,\n",
       "          9.96003439e-01,  1.00012668e+00,  1.00426700e+00,  1.00842461e+00,\n",
       "          1.01259972e+00,  1.01679256e+00,  1.02100335e+00,  1.02523232e+00,\n",
       "          1.02947970e+00,  1.03374574e+00,  1.03803068e+00,  1.04233476e+00,\n",
       "          1.04665824e+00,  1.05100137e+00,  1.05536442e+00,  1.05974765e+00,\n",
       "          1.06415133e+00,  1.06857575e+00,  1.07302119e+00,  1.07748793e+00,\n",
       "          1.08197628e+00,  1.08648653e+00,  1.09101899e+00,  1.09557397e+00,\n",
       "          1.10015180e+00,  1.10475280e+00,  1.10937731e+00,  1.11402566e+00,\n",
       "          1.11869822e+00,  1.12339532e+00,  1.12811734e+00,  1.13286465e+00,\n",
       "          1.13763763e+00,  1.14243667e+00,  1.14726217e+00,  1.15211453e+00,\n",
       "          1.15699416e+00,  1.16190151e+00,  1.16683699e+00,  1.17180107e+00,\n",
       "          1.17679419e+00,  1.18181682e+00,  1.18686944e+00,  1.19195255e+00,\n",
       "          1.19706664e+00,  1.20221223e+00,  1.20738985e+00,  1.21260004e+00,\n",
       "          1.21784337e+00,  1.22312038e+00,  1.22843168e+00,  1.23377786e+00,\n",
       "          1.23915954e+00,  1.24457735e+00,  1.25003194e+00,  1.25552398e+00,\n",
       "          1.26105415e+00,  1.26662315e+00,  1.27223172e+00,  1.27788060e+00,\n",
       "          1.28357055e+00,  1.28930237e+00,  1.29507686e+00,  1.30089485e+00,\n",
       "          1.30675722e+00,  1.31266485e+00,  1.31861865e+00,  1.32461956e+00,\n",
       "          1.33066855e+00,  1.33676663e+00,  1.34291482e+00,  1.34911421e+00,\n",
       "          1.35536588e+00,  1.36167098e+00,  1.36803067e+00,  1.37444619e+00,\n",
       "          1.38091878e+00,  1.38744975e+00,  1.39404044e+00,  1.40069224e+00,\n",
       "          1.40740661e+00,  1.41418503e+00,  1.42102906e+00,  1.42794030e+00,\n",
       "          1.43492043e+00,  1.44197119e+00,  1.44909437e+00,  1.45629184e+00,\n",
       "          1.46356555e+00,  1.47091753e+00,  1.47834989e+00,  1.48586482e+00,\n",
       "          1.49346462e+00,  1.50115166e+00,  1.50892845e+00,  1.51679758e+00,\n",
       "          1.52476177e+00,  1.53282387e+00,  1.54098684e+00,  1.54925381e+00,\n",
       "          1.55762804e+00,  1.56611295e+00,  1.57471213e+00,  1.58342935e+00,\n",
       "          1.59226859e+00,  1.60123402e+00,  1.61033003e+00,  1.61956127e+00,\n",
       "          1.62893261e+00,  1.63844924e+00,  1.64811661e+00,  1.65794051e+00,\n",
       "          1.66792707e+00,  1.67808281e+00,  1.68841463e+00,  1.69892989e+00,\n",
       "          1.70963644e+00,  1.72054262e+00,  1.73165738e+00,  1.74299028e+00,\n",
       "          1.75455157e+00,  1.76635224e+00,  1.77840415e+00,  1.79072004e+00,\n",
       "          1.80331371e+00,  1.81620005e+00,  1.82939524e+00,  1.84291686e+00,\n",
       "          1.85678408e+00,  1.87101783e+00,  1.88564107e+00,  1.90067901e+00,\n",
       "          1.91615948e+00,  1.93211325e+00,  1.94857451e+00,  1.96558137e+00,\n",
       "          1.98317650e+00,  2.00140792e+00,  2.02032992e+00,  2.04000420e+00,\n",
       "          2.06050135e+00,  2.08190261e+00,  2.10430217e+00,  2.12781017e+00,\n",
       "          2.15255643e+00,  2.17869564e+00,  2.20641415e+00,  2.23593934e+00,\n",
       "          2.26755284e+00,  2.30160949e+00,  2.33856546e+00,  2.37902149e+00,\n",
       "          2.42379214e+00,  2.47402263e+00,  2.53139899e+00,  2.59855946e+00,\n",
       "          2.67999560e+00,  2.78437841e+00,  2.93237785e+00,  3.19758950e+00]),\n",
       "  array([66, 67, 68, 68, 68, 68, 68, 68, 68, 68, 68, 69, 69, 69, 69, 69, 69,\n",
       "         69, 69, 69, 69, 69, 69, 69, 69, 69, 69, 69, 69, 69, 69, 69, 69, 69,\n",
       "         69, 69, 69, 69, 69, 69, 70, 70, 70, 70, 70, 70, 70, 70, 70, 70, 70,\n",
       "         70, 70, 70, 70, 70, 70, 70, 70, 70, 70, 70, 70, 70, 70, 70, 70, 70,\n",
       "         70, 70, 70, 70, 70, 70, 70, 70, 70, 70, 70, 70, 70, 70, 70, 70, 70,\n",
       "         70, 71, 71, 71, 71, 71, 71, 71, 71, 71, 71, 71, 71, 71, 71, 71, 71,\n",
       "         71, 71, 71, 71, 71, 71, 71, 71, 71, 71, 71, 71, 71, 71, 71, 71, 71,\n",
       "         71, 71, 71, 71, 71, 71, 71, 71, 71, 71, 71, 71, 71, 71, 71, 71, 71,\n",
       "         71, 71, 71, 71, 71, 71, 71, 71, 71, 71, 71, 71, 71, 71, 71, 71, 71,\n",
       "         71, 71, 71, 71, 71, 71, 71, 71, 71, 71, 71, 71, 71, 71, 71, 71, 71,\n",
       "         71, 71, 71, 71, 71, 71, 71, 71, 71, 71, 71, 71, 71, 71, 71, 72, 72,\n",
       "         72, 72, 72, 72, 72, 72, 72, 72, 72, 72, 72, 72, 72, 72, 72, 72, 72,\n",
       "         72, 72, 72, 72, 72, 72, 72, 72, 72, 72, 72, 72, 72, 72, 72, 72, 72,\n",
       "         72, 72, 72, 72, 72, 72, 72, 72, 72, 72, 72, 72, 72, 72, 72, 72, 72,\n",
       "         72, 72, 72, 72, 72, 72, 72, 72, 72, 72, 72, 72, 72, 72, 72, 72, 72,\n",
       "         72, 72, 72, 72, 72, 72, 72, 72, 72, 72, 72, 72, 72, 72, 72, 72, 72,\n",
       "         72, 72, 72, 72, 72, 72, 72, 72, 72, 72, 72, 72, 72, 72, 72, 72, 72,\n",
       "         72, 72, 72, 72, 72, 72, 72, 72, 72, 72, 72, 72, 72, 72, 72, 72, 72,\n",
       "         72, 72, 72, 72, 72, 72, 72, 73, 73, 73, 73, 73, 73, 73, 73, 73, 73,\n",
       "         73, 73, 73, 73, 73, 73, 73, 73, 73, 73, 73, 73, 73, 73, 73, 73, 73,\n",
       "         73, 73, 73, 73, 73, 73, 73, 73, 73, 73, 73, 73, 73, 73, 73, 73, 73,\n",
       "         73, 73, 73, 73, 73, 73, 73, 73, 73, 73, 73, 73, 73, 73, 73, 73, 73,\n",
       "         73, 73, 73, 73, 73, 73, 73, 73, 73, 73, 73, 73, 73, 73, 73, 73, 73,\n",
       "         73, 73, 73, 73, 73, 73, 73, 73, 73, 73, 73, 73, 73, 73, 73, 73, 73,\n",
       "         73, 73, 73, 73, 73, 73, 73, 73, 73, 73, 73, 73, 73, 73, 73, 73, 73,\n",
       "         74, 74, 74, 74, 74, 74, 74, 74, 74, 74, 74, 74, 74, 74, 74, 74, 74,\n",
       "         74, 74, 74, 74, 74, 74, 74, 74, 74, 74, 74, 74, 74, 74, 74, 74, 74,\n",
       "         74, 74, 74, 74, 74, 74, 74, 74, 74, 74, 74, 74, 74, 74, 74, 74, 74,\n",
       "         74, 74, 74, 74, 74, 74, 74, 74, 74, 74, 74, 74, 74, 74, 74, 74, 74,\n",
       "         74, 74, 74, 74, 74, 74, 74, 74, 74, 74, 74, 74, 74, 74, 74, 74, 74,\n",
       "         74, 74, 74, 74, 74, 74, 74, 74, 74, 74, 74, 74, 74, 74, 74, 74, 74,\n",
       "         74, 74, 74, 74, 74, 74, 74, 74, 74, 74, 74, 74, 74, 74, 74, 74, 74,\n",
       "         74, 74, 74, 74, 74, 74, 74, 74, 74, 74, 74, 74, 74, 74, 74, 74, 74,\n",
       "         74, 75, 75, 75, 75, 75, 75, 75, 75, 75, 75, 75, 75, 75, 75, 75, 75,\n",
       "         75, 75, 75, 75, 75, 75, 75, 75, 75, 75, 75, 75, 75, 75, 75, 75, 75,\n",
       "         75, 75, 75, 75, 75, 75, 75, 75, 75, 75, 75, 75, 75, 75, 75, 75, 75,\n",
       "         75, 75, 75, 75, 75, 75, 75, 75, 75, 75, 75, 75, 75, 75, 75, 75, 75,\n",
       "         75, 75, 75, 75, 75, 75, 75, 75, 75, 75, 75, 75, 75, 75, 75, 75, 75,\n",
       "         75, 75, 75, 75, 75, 75, 75, 75, 75, 75, 75, 75, 75, 75, 75, 75, 75,\n",
       "         75, 75, 75, 75, 75, 75, 75, 75, 75, 75, 75, 75, 75, 75, 75, 75, 75,\n",
       "         75, 75, 75, 75, 75, 75, 75, 75, 75, 75, 75, 75, 75, 75, 75, 75, 76,\n",
       "         76, 76, 76, 76, 76, 76, 76, 76, 76, 76, 76, 76, 76, 76, 76, 76, 76,\n",
       "         76, 76, 76, 76, 76, 76, 76, 76, 76, 76, 76, 76, 76, 76, 76, 76, 76,\n",
       "         76, 76, 76, 76, 76, 76, 76, 76, 76, 76, 76, 76, 76, 76, 76, 76, 76,\n",
       "         76, 76, 76, 76, 76, 76, 76, 76, 76, 76, 76, 76, 76, 76, 76, 76, 76,\n",
       "         76, 76, 76, 76, 76, 76, 76, 76, 76, 76, 76, 76, 76, 76, 76, 76, 76,\n",
       "         76, 76, 76, 76, 76, 76, 76, 76, 76, 76, 76, 76, 76, 76, 76, 76, 76,\n",
       "         76, 76, 76, 76, 76, 76, 76, 76, 76, 76, 76, 76, 76, 76, 76, 76, 76,\n",
       "         77, 77, 77, 77, 77, 77, 77, 77, 77, 77, 77, 77, 77, 77, 77, 77, 77,\n",
       "         77, 77, 77, 77, 77, 77, 77, 77, 77, 77, 77, 77, 77, 77, 77, 77, 77,\n",
       "         77, 77, 77, 77, 77, 77, 77, 77, 77, 77, 77, 77, 77, 77, 77, 77, 77,\n",
       "         77, 77, 77, 77, 77, 77, 77, 77, 77, 77, 77, 77, 77, 77, 77, 77, 77,\n",
       "         77, 77, 77, 77, 77, 77, 77, 77, 77, 77, 77, 77, 77, 77, 77, 77, 77,\n",
       "         77, 77, 77, 77, 77, 77, 77, 77, 77, 77, 77, 77, 77, 77, 77, 77, 77,\n",
       "         77, 78, 78, 78, 78, 78, 78, 78, 78, 78, 78, 78, 78, 78, 78, 78, 78,\n",
       "         78, 78, 78, 78, 78, 78, 78, 78, 78, 78, 78, 78, 78, 78, 78, 78, 78,\n",
       "         78, 78, 78, 78, 78, 78, 78, 78, 78, 78, 78, 78, 78, 78, 78, 78, 78,\n",
       "         78, 78, 78, 78, 78, 79, 79, 79, 79, 79, 79, 79, 79, 79, 79, 79, 79,\n",
       "         79, 79, 80, 80, 80, 80, 80, 80, 80, 80, 80, 81, 81, 81],\n",
       "        dtype=int64)),\n",
       " (2.563467688206716, 73.985, 0.9909520632342883))"
      ]
     },
     "execution_count": 46,
     "metadata": {},
     "output_type": "execute_result"
    },
    {
     "data": {
      "image/png": "[encoded data removed]",
      "text/plain": [
       "<Figure size 288x288 with 1 Axes>"
      ]
     },
     "metadata": {
      "needs_background": "light"
     },
     "output_type": "display_data"
    }
   ],
   "source": [
    "from scipy import stats\n",
    "\n",
    "fig, ax = plt.subplots(figsize=(4,4))\n",
    "norm_sample = players_data['height_inches'].sample(1000)\n",
    "stats.probplot(norm_sample,plot = ax)"
   ]
  },
  {
   "cell_type": "markdown",
   "id": "397556ce",
   "metadata": {},
   "source": [
    "# Long-Tailed distributions\n",
    "\n",
    "Most data will have some sort of skew whether to the left or right. Data that is skewed to the right includes things like incomes."
   ]
  },
  {
   "cell_type": "markdown",
   "id": "c01878cb",
   "metadata": {},
   "source": [
    "# Student's t-Distribution\n",
    "\n",
    "A normal distribution with thicker and longer tails. Tjos is the distribution that sample statistics tend to follow. As you take samples, the distribution will more closely resemble a normal distribution. Remember the graph we created with the Central Limit Theorem\n",
    "\n",
    "https://www.geeksforgeeks.org/students-t-distribution-in-statistics/#:~:text=Student's%20t%2Ddistribution%20or%20t,the%20pen%20name%20%E2%80%9CStudent%E2%80%9C.\n",
    "\n"
   ]
  },
  {
   "attachments": {
    "f126.png": {
     "image/png": "[encoded data removed]"
    }
   },
   "cell_type": "markdown",
   "id": "bcee281f",
   "metadata": {},
   "source": [
    "![f126.png](attachment:f126.png)"
   ]
  },
  {
   "cell_type": "markdown",
   "id": "7be8388c",
   "metadata": {},
   "source": [
    "It is call ths student's t-Distribution because W.S. Gosset, its creator was employed by the guinness Brewery at the time of its creation and they didn't want people knowing they were using statistical methods in their brewing so he published under the name Student.\n"
   ]
  },
  {
   "cell_type": "markdown",
   "id": "d47f8a1c",
   "metadata": {},
   "source": [
    "# Binomial Distribution\n",
    "\n",
    "Binomial distributions are important in Data Science as a lot of usecases for data sciences are binomial, but/don't buy, click/don't click. You can use it to answer the question of how manu successes do you expect givena certain number of trails and a certain probability of success.\n",
    "\n",
    "The Probability Mass Function(PMF) tells us the probability that an event will happen a certain number of times given a certain number of samples and probability for success while a Cumulative Density Function or CDF tells us the probability that an even will happen a certain number or fewer times.\n"
   ]
  },
  {
   "cell_type": "code",
   "execution_count": 47,
   "id": "c9cf05c7",
   "metadata": {},
   "outputs": [
    {
     "data": {
      "text/plain": [
       "0.07289999999999992"
      ]
     },
     "execution_count": 47,
     "metadata": {},
     "output_type": "execute_result"
    }
   ],
   "source": [
    "stats.binom.pmf(2, n=5, p=0.1)"
   ]
  },
  {
   "cell_type": "code",
   "execution_count": 48,
   "id": "1fca20e1",
   "metadata": {},
   "outputs": [
    {
     "data": {
      "text/plain": [
       "0.99144"
      ]
     },
     "execution_count": 48,
     "metadata": {},
     "output_type": "execute_result"
    }
   ],
   "source": [
    "stats.binom.cdf(2, n=5, p=0.1)"
   ]
  },
  {
   "cell_type": "markdown",
   "id": "5f612ce9",
   "metadata": {},
   "source": [
    "In the above example\n",
    "\n",
    "1. 2=number of success we'd like\n",
    "2. 5=Number of trails we are conducting\n",
    "3. 0.1=probability of success in each train is 0.1"
   ]
  },
  {
   "cell_type": "markdown",
   "id": "0b4f0853",
   "metadata": {},
   "source": [
    "# Chi-square Distribution\n",
    "\n",
    "The chi-square statistics measure to what extent results depart from the null expectation of independence, in other wordss, its a way of testing abnormality. We define out expectation as our null hypothesis. \n",
    "\n",
    "Low chi-squares indicate that the set of counts closely follows the expected distribution and hight chi-square denote that the counts differ significantly from whats expected."
   ]
  },
  {
   "cell_type": "markdown",
   "id": "9de6ffd5",
   "metadata": {},
   "source": [
    "# F-distribution/ANOVA Testing\n",
    "\n",
    "Measure of ratio of variability between group means and the variability within each group. This lets us perform an ANOVA test."
   ]
  },
  {
   "cell_type": "markdown",
   "id": "bf5f603b",
   "metadata": {},
   "source": [
    "# Poisson Distribution\n",
    "\n",
    "These are used to simulate the probability of a certain number of events happening in a given time or space given that we know the average number of occurrences of that event within a certain time or space and that each instance is not dependent on prior insances.\n",
    "\n",
    "An example of this would be simulating the number of calls received by a call center each minute of a 100 minute interval if we know that the center receives about 2 calls per minute\n",
    "\n",
    "Out lambda is 2 in this case, we can simulate this sityation in python using"
   ]
  },
  {
   "cell_type": "code",
   "execution_count": 49,
   "id": "633d4e66",
   "metadata": {},
   "outputs": [
    {
     "data": {
      "text/plain": [
       "100"
      ]
     },
     "execution_count": 49,
     "metadata": {},
     "output_type": "execute_result"
    }
   ],
   "source": [
    "poisson = stats.poisson.rvs(2,100)\n",
    "poisson"
   ]
  },
  {
   "cell_type": "markdown",
   "id": "ab5da555",
   "metadata": {},
   "source": [
    "# Exponential Distribution\n",
    "\n",
    "These are similar in usecase to Poisson distribution except they focus on outputting the time between each occurrence given a mean number of instances per time period and a number of time periods to simulate.\n"
   ]
  },
  {
   "cell_type": "code",
   "execution_count": 50,
   "id": "439597f3",
   "metadata": {},
   "outputs": [
    {
     "data": {
      "text/plain": [
       "array([1.1572555 , 1.40973454, 0.99754546, 0.99874532, 0.61585053,\n",
       "       0.37694965, 0.84655761, 2.57491611, 3.04322402, 1.17078512,\n",
       "       3.58413962, 1.35147175, 0.20073959, 0.27112029, 0.26178646,\n",
       "       3.61602605, 1.30114102, 2.87095855, 0.25621614, 3.1395141 ,\n",
       "       1.02100588, 0.72160176, 0.41984206, 0.87693318, 0.70977538,\n",
       "       0.93502722, 0.50756182, 0.65006956, 0.45946746, 1.05124635,\n",
       "       1.99281206, 0.94690304, 9.42198746, 2.52488102, 1.56685868,\n",
       "       4.09424546, 1.65619816, 1.53489353, 2.16478164, 2.11011825,\n",
       "       1.00317608, 0.36944853, 0.29304852, 0.46844052, 0.37640703,\n",
       "       0.63565536, 1.23230826, 1.92129916, 2.05248924, 1.84440944,\n",
       "       0.41387067, 3.13483963, 0.97410238, 1.26732443, 0.56278577,\n",
       "       1.51105293, 0.61837674, 0.6689242 , 0.61302811, 1.43900923,\n",
       "       1.19975557, 0.94176336, 1.02908762, 1.47506797, 1.77916232,\n",
       "       0.78543577, 0.83296044, 1.36563592, 0.57046095, 0.50033015,\n",
       "       3.40629021, 0.24428735, 1.3102198 , 1.18700566, 0.30656949,\n",
       "       0.27858601, 5.33280612, 0.39364326, 1.49391014, 0.22364697,\n",
       "       0.60935649, 1.1360728 , 0.75247523, 1.40649964, 1.91794326,\n",
       "       0.96267295, 1.72823438, 0.76058397, 0.48668384, 0.31863618,\n",
       "       1.92171526, 1.00166   , 0.49502337, 2.33666286, 0.31488229,\n",
       "       0.57860119, 0.75232984, 0.54812982, 1.09745038, 2.25446395])"
      ]
     },
     "execution_count": 50,
     "metadata": {},
     "output_type": "execute_result"
    }
   ],
   "source": [
    "stats.expon.rvs(0.2, size = 100)"
   ]
  },
  {
   "cell_type": "markdown",
   "id": "ddb95472",
   "metadata": {},
   "source": [
    "In this instance, we are simulating the number of minutes between phone call assuming that we receive 0.2 calls per minute.\n",
    "\n",
    "With both this and the chi-squared distribution its important to remember that the rate(lambda) need to be relatively consistent across your time period. This ususlly isn't an issue provided you use a small enough time period."
   ]
  },
  {
   "cell_type": "markdown",
   "id": "571a7fad",
   "metadata": {},
   "source": [
    "# Weibull Distribution\n",
    "\n",
    "As mentioned before, the poisson and exponential distributions are only useful as long as the number of occurrences of an instance are relatively consistent over time, which isn't the vase when talking about things like mechanical failure. Think about it, why is engine mileage such an impoortant metric when determining the price of used cars? Its because parts of a car more likely to fail as more stress is put on them. To simulate things like this, we use a weibull distribution. Its an extension of the Exponential Distribution where the even rate can change through a parameter call the shape parameter beta, if beta>1 then the probability of an event happening increases over time while if beta<1 then the probability decreases over time. There is also the scale parameter eta which is affected by the unit of age whether that be hours, miles, cycles etc."
   ]
  },
  {
   "cell_type": "code",
   "execution_count": 51,
   "id": "bfa95187",
   "metadata": {},
   "outputs": [
    {
     "data": {
      "text/plain": [
       "array([ 7898.12371555,  1015.0346338 ,  1111.13459181,  4707.05272032,\n",
       "        7203.24223808,  4197.75587483,  5143.7373973 , 10764.2035636 ,\n",
       "         838.69937833,  7212.29437933,  5843.0880592 ,  4945.37169144,\n",
       "         527.99918162, 11780.15913123,  2243.37693491,  5256.43202965,\n",
       "        5869.99678074,  5762.65824206,  3718.23128089,   643.76253736,\n",
       "        3527.11069826,  3047.43686636, 10645.10266526,  7131.01863638,\n",
       "        5625.98071397,  6658.36234856,  3352.87512781,  2091.6663903 ,\n",
       "        3986.47507125,  3490.58831446,  2784.0297715 ,  3554.39972991,\n",
       "        4849.75769231,  3709.94163679,  2220.216985  ,  1667.48060627,\n",
       "        3101.08370735,  6981.25942494,  4887.50404357,  2967.65517282,\n",
       "        3050.19770584,   290.02288588, 10219.64523287,  2130.52409699,\n",
       "        7753.11933212,  2918.1107529 ,  3109.42412234,  4752.88128401,\n",
       "        2759.44218577,  4656.50195984,  1880.79984838,  3694.3919216 ,\n",
       "        3223.82197008,  2290.99946831,  8344.22615974,  3337.14985457,\n",
       "        3286.67217193,  2383.78208337,  3942.96223263,   827.32083114,\n",
       "        9310.45190096,  7094.16977434,  6394.68863522,  1503.92901616,\n",
       "        3315.27177521,  7019.71359476,  2583.62670662,  1859.05496646,\n",
       "        2650.39751854,   668.68595566,  4124.76792625,   834.36726901,\n",
       "        4762.6051941 ,  3300.31458681,  4074.31890272,  6054.93615503,\n",
       "        5197.58674086,  2640.35718737,  1547.66643477, 10950.94472053,\n",
       "        3092.22382667,   910.31796405,  6645.71203139,   536.36202694,\n",
       "        7529.75082519,  4825.49852686,  4180.36373153,  6866.2771781 ,\n",
       "        5812.00830268,  4505.1649394 ,  6653.16253486,  3938.01993523,\n",
       "        3280.31229367,  5636.27113602, 11838.98371121,  4252.60621192,\n",
       "        5355.96839523,  5336.33999538,  1450.35906658,  2649.16850967])"
      ]
     },
     "execution_count": 51,
     "metadata": {},
     "output_type": "execute_result"
    }
   ],
   "source": [
    "stats.weibull_min.rvs(1.5, scale=5000, size=100)"
   ]
  },
  {
   "cell_type": "markdown",
   "id": "53542b0d",
   "metadata": {},
   "source": [
    "The above code simulates 100 lifetimes with a shape of 1.5 and a characteristic life of 5000\n",
    "\n",
    "https://www.livingreliability.com/en/posts/what-is-the-scale-parameter/"
   ]
  },
  {
   "cell_type": "markdown",
   "id": "df6d271e",
   "metadata": {},
   "source": [
    "# Chapter-3-Statistical Experiments Significance Testing\n",
    "\n",
    "1. A/B testing\n",
    "2. Hypothesis testing\n",
    "3. Sampling\n",
    "4. Statistical significance and p-valyes\n",
    "5. t-test\n",
    "6. Multiple testing\n",
    "7. Degrees of freedom\n",
    "8. ANOVA \n",
    "9. Chi-Square test\n",
    "10. Multi-arm bandit algorithm\n",
    "11. Power and sample size-Power curve and statistical rule of thumb for sample size"
   ]
  },
  {
   "cell_type": "markdown",
   "id": "dcc3219b",
   "metadata": {},
   "source": [
    "# A/B testing\n",
    "\n",
    "A/B testing is a common tool used to compare tow treatements against some group you are testing against. An interesting example is headlines on news articles, websites will test headlines against on another by showing different headlines to readers of the same article to see which is better. We measure efficacy using something called a test statistic which can be binary in the case of headline example we just covered, or if we are using continuous variables like revenue and measuring how its affected by things like the picture used on a product detail page we might use means to compare the tow classes.\n",
    "\n",
    "https://blog.tjcx.me/p/new-york-times-ab-testing\n",
    "\n",
    "If you are trying to test if something is effective independently such as using a drug vs. not using a drug for a treatment, its important to not just test how effective the treatment is, but to have a control group which allows you to test the efficacy of the treatment against a group that represents the norm. As a side-note, the opposite of a control group is a treatment group.\n",
    "\n",
    "Preferable when doing out treatment, we will want to randomize how the treatment is doled out. This can help prevent biases in how we decide to conduct the experiment.\n",
    "\n",
    "A/B tests are relatively simple and while useful to data scientists, are only part of a toolbox that includes the much more interesting multi-armed bandit.\n",
    "\n",
    "https://towardsdatascience.com/ab-testing-with-python-e5964dd66143\n",
    "\n",
    "https://www.kaggle.com/myzziah/e-commerce-a-b-testing-full-experiment"
   ]
  },
  {
   "cell_type": "markdown",
   "id": "a83d5205",
   "metadata": {},
   "source": [
    "# Hypothesis test / Significance test\n",
    "\n",
    "https://towardsdatascience.com/hypothesis-testing-in-machine-learning-using-python-a0dc89e169ce\n",
    "\n",
    "Hypothesis tests, also called significance tests are designed to help us manage the human tendency to incorrectly understand, interpret, and predict natural random behavior. It does this by testing change due to a phenomenon compared to a baseline of some kind.\n",
    "\n",
    "We need a null hypothesis and an alternative hypothesis. The null hypothesis generally says that a treatment will cause no difference that can't be attributed to random chance, and the alternative hypothesis says that the difference caused by the treatment is significant. We generally want to prove the null hypothesisi wrong.\n",
    "\n",
    "https://www.statisticshowto.com/probability-and-statistics/hypothesis-testing/one-tailed-test-or-two/\n",
    "\n",
    "One more consideration is whether we should run a one or two-tailed hypothesis test. If you look at the image below from statisticshowto.com then you will see a two tailed rejection region(because we are rejecting the null hypothesis) on either side of the graph in yellow. The center is the default mean(what the null hypothesis claims the alternative treatment won't significantly deviate from). In a two-tailed test like the one below, we are typically just testing that the alternative hypothesis is significantly different from the null hypothesis without being too concerned about the direction in which its different. In a one-tailed test, we can also test the direction in which the alternative treatment is different. It is important to understand that the one-tail test also doesn't test either the left or the right side of the graph(of course) so we need to be confident that only one direction away from the mean needs to be tested and that we tested the correct direction. The size of the yellow region is determined by something call alpha value."
   ]
  },
  {
   "attachments": {
    "two-tails-normal-dist-300x123.png": {
     "image/png": "[encoded data removed]"
    }
   },
   "cell_type": "markdown",
   "id": "c4912cd6",
   "metadata": {},
   "source": [
    "![two-tails-normal-dist-300x123.png](attachment:two-tails-normal-dist-300x123.png)"
   ]
  },
  {
   "cell_type": "markdown",
   "id": "8fdecaa6",
   "metadata": {},
   "source": [
    "# Resampling\n",
    "\n",
    "Resampling is the process of repeatedly taking sample values from observed data to assess variability in a statistic. There are two basic types of Resampling.\n",
    "\n",
    "Boostrapping: Tests the reliability of an estimate. Values are selected with replacement meaning you can select the same instance of a variable more than once.\n",
    "\n",
    "Permutation Tests: Used to test hypotheses, you will mix groups together and draw samples with sizes equivalent to the original group sizes and then collect your sample statistics on them. The process is outlined below"
   ]
  },
  {
   "cell_type": "code",
   "execution_count": null,
   "id": "275aea0d",
   "metadata": {},
   "outputs": [],
   "source": []
  },
  {
   "cell_type": "code",
   "execution_count": null,
   "id": "7790f80b",
   "metadata": {},
   "outputs": [],
   "source": []
  },
  {
   "cell_type": "markdown",
   "id": "218d0ffe",
   "metadata": {},
   "source": [
    "After repeating the permutation process a few times and creating the constituent histogram of your statistics, then compare the original statistics with the distribution of statistics produced by the permutation method, if they are significantly different then you have proved that there is a sifnificant difference between the two or more groups.\n",
    "\n",
    "The process outlined above is called a Random permutation test. We can perform something call an Exact/Exhaustive permutation test which will create permutations of every possible combination. This is only possible with small sample as the complexity of running such as test grows exponentially with each new sample."
   ]
  },
  {
   "cell_type": "code",
   "execution_count": 52,
   "id": "b13e6942",
   "metadata": {},
   "outputs": [],
   "source": [
    "import pandas as pd\n",
    "import scipy.stats as ss\n",
    "import statsmodels.api as sm\n",
    "import math as mt\n",
    "import random\n",
    "import numpy as np\n",
    "import matplotlib.pyplot as plt\n",
    "import seaborn as sns"
   ]
  },
  {
   "cell_type": "code",
   "execution_count": 53,
   "id": "6a48ae70",
   "metadata": {},
   "outputs": [
    {
     "data": {
      "text/html": [
       "<div>\n",
       "<style scoped>\n",
       "    .dataframe tbody tr th:only-of-type {\n",
       "        vertical-align: middle;\n",
       "    }\n",
       "\n",
       "    .dataframe tbody tr th {\n",
       "        vertical-align: top;\n",
       "    }\n",
       "\n",
       "    .dataframe thead th {\n",
       "        text-align: right;\n",
       "    }\n",
       "</style>\n",
       "<table border=\"1\" class=\"dataframe\">\n",
       "  <thead>\n",
       "    <tr style=\"text-align: right;\">\n",
       "      <th></th>\n",
       "      <th>user_id</th>\n",
       "      <th>timestamp</th>\n",
       "      <th>group</th>\n",
       "      <th>landing_page</th>\n",
       "      <th>converted</th>\n",
       "    </tr>\n",
       "  </thead>\n",
       "  <tbody>\n",
       "    <tr>\n",
       "      <th>0</th>\n",
       "      <td>851104</td>\n",
       "      <td>2017-01-21 22:11:48.556739</td>\n",
       "      <td>control</td>\n",
       "      <td>old_page</td>\n",
       "      <td>0</td>\n",
       "    </tr>\n",
       "    <tr>\n",
       "      <th>1</th>\n",
       "      <td>804228</td>\n",
       "      <td>2017-01-12 08:01:45.159739</td>\n",
       "      <td>control</td>\n",
       "      <td>old_page</td>\n",
       "      <td>0</td>\n",
       "    </tr>\n",
       "    <tr>\n",
       "      <th>2</th>\n",
       "      <td>661590</td>\n",
       "      <td>2017-01-11 16:55:06.154213</td>\n",
       "      <td>treatment</td>\n",
       "      <td>new_page</td>\n",
       "      <td>0</td>\n",
       "    </tr>\n",
       "    <tr>\n",
       "      <th>3</th>\n",
       "      <td>853541</td>\n",
       "      <td>2017-01-08 18:28:03.143765</td>\n",
       "      <td>treatment</td>\n",
       "      <td>new_page</td>\n",
       "      <td>0</td>\n",
       "    </tr>\n",
       "    <tr>\n",
       "      <th>4</th>\n",
       "      <td>864975</td>\n",
       "      <td>2017-01-21 01:52:26.210827</td>\n",
       "      <td>control</td>\n",
       "      <td>old_page</td>\n",
       "      <td>1</td>\n",
       "    </tr>\n",
       "    <tr>\n",
       "      <th>...</th>\n",
       "      <td>...</td>\n",
       "      <td>...</td>\n",
       "      <td>...</td>\n",
       "      <td>...</td>\n",
       "      <td>...</td>\n",
       "    </tr>\n",
       "    <tr>\n",
       "      <th>294473</th>\n",
       "      <td>751197</td>\n",
       "      <td>2017-01-03 22:28:38.630509</td>\n",
       "      <td>control</td>\n",
       "      <td>old_page</td>\n",
       "      <td>0</td>\n",
       "    </tr>\n",
       "    <tr>\n",
       "      <th>294474</th>\n",
       "      <td>945152</td>\n",
       "      <td>2017-01-12 00:51:57.078372</td>\n",
       "      <td>control</td>\n",
       "      <td>old_page</td>\n",
       "      <td>0</td>\n",
       "    </tr>\n",
       "    <tr>\n",
       "      <th>294475</th>\n",
       "      <td>734608</td>\n",
       "      <td>2017-01-22 11:45:03.439544</td>\n",
       "      <td>control</td>\n",
       "      <td>old_page</td>\n",
       "      <td>0</td>\n",
       "    </tr>\n",
       "    <tr>\n",
       "      <th>294476</th>\n",
       "      <td>697314</td>\n",
       "      <td>2017-01-15 01:20:28.957438</td>\n",
       "      <td>control</td>\n",
       "      <td>old_page</td>\n",
       "      <td>0</td>\n",
       "    </tr>\n",
       "    <tr>\n",
       "      <th>294477</th>\n",
       "      <td>715931</td>\n",
       "      <td>2017-01-16 12:40:24.467417</td>\n",
       "      <td>treatment</td>\n",
       "      <td>new_page</td>\n",
       "      <td>0</td>\n",
       "    </tr>\n",
       "  </tbody>\n",
       "</table>\n",
       "<p>294478 rows × 5 columns</p>\n",
       "</div>"
      ],
      "text/plain": [
       "        user_id                   timestamp      group landing_page  converted\n",
       "0        851104  2017-01-21 22:11:48.556739    control     old_page          0\n",
       "1        804228  2017-01-12 08:01:45.159739    control     old_page          0\n",
       "2        661590  2017-01-11 16:55:06.154213  treatment     new_page          0\n",
       "3        853541  2017-01-08 18:28:03.143765  treatment     new_page          0\n",
       "4        864975  2017-01-21 01:52:26.210827    control     old_page          1\n",
       "...         ...                         ...        ...          ...        ...\n",
       "294473   751197  2017-01-03 22:28:38.630509    control     old_page          0\n",
       "294474   945152  2017-01-12 00:51:57.078372    control     old_page          0\n",
       "294475   734608  2017-01-22 11:45:03.439544    control     old_page          0\n",
       "294476   697314  2017-01-15 01:20:28.957438    control     old_page          0\n",
       "294477   715931  2017-01-16 12:40:24.467417  treatment     new_page          0\n",
       "\n",
       "[294478 rows x 5 columns]"
      ]
     },
     "execution_count": 53,
     "metadata": {},
     "output_type": "execute_result"
    }
   ],
   "source": [
    "ab_test_data = pd.read_csv('C:/Users/Administrator/Documents/projects/statistics/CHAPTER 3/ab_data.csv')\n",
    "ab_test_data"
   ]
  },
  {
   "cell_type": "code",
   "execution_count": 54,
   "id": "88c668a1",
   "metadata": {},
   "outputs": [
    {
     "data": {
      "text/html": [
       "<div>\n",
       "<style scoped>\n",
       "    .dataframe tbody tr th:only-of-type {\n",
       "        vertical-align: middle;\n",
       "    }\n",
       "\n",
       "    .dataframe tbody tr th {\n",
       "        vertical-align: top;\n",
       "    }\n",
       "\n",
       "    .dataframe thead th {\n",
       "        text-align: right;\n",
       "    }\n",
       "</style>\n",
       "<table border=\"1\" class=\"dataframe\">\n",
       "  <thead>\n",
       "    <tr style=\"text-align: right;\">\n",
       "      <th></th>\n",
       "      <th>user_id</th>\n",
       "      <th>timestamp</th>\n",
       "      <th>group</th>\n",
       "      <th>landing_page</th>\n",
       "      <th>converted</th>\n",
       "    </tr>\n",
       "  </thead>\n",
       "  <tbody>\n",
       "    <tr>\n",
       "      <th>0</th>\n",
       "      <td>851104</td>\n",
       "      <td>2017-01-21 22:11:48.556739</td>\n",
       "      <td>control</td>\n",
       "      <td>old_page</td>\n",
       "      <td>0</td>\n",
       "    </tr>\n",
       "    <tr>\n",
       "      <th>1</th>\n",
       "      <td>804228</td>\n",
       "      <td>2017-01-12 08:01:45.159739</td>\n",
       "      <td>control</td>\n",
       "      <td>old_page</td>\n",
       "      <td>0</td>\n",
       "    </tr>\n",
       "    <tr>\n",
       "      <th>2</th>\n",
       "      <td>661590</td>\n",
       "      <td>2017-01-11 16:55:06.154213</td>\n",
       "      <td>treatment</td>\n",
       "      <td>new_page</td>\n",
       "      <td>0</td>\n",
       "    </tr>\n",
       "    <tr>\n",
       "      <th>3</th>\n",
       "      <td>853541</td>\n",
       "      <td>2017-01-08 18:28:03.143765</td>\n",
       "      <td>treatment</td>\n",
       "      <td>new_page</td>\n",
       "      <td>0</td>\n",
       "    </tr>\n",
       "    <tr>\n",
       "      <th>4</th>\n",
       "      <td>864975</td>\n",
       "      <td>2017-01-21 01:52:26.210827</td>\n",
       "      <td>control</td>\n",
       "      <td>old_page</td>\n",
       "      <td>1</td>\n",
       "    </tr>\n",
       "    <tr>\n",
       "      <th>...</th>\n",
       "      <td>...</td>\n",
       "      <td>...</td>\n",
       "      <td>...</td>\n",
       "      <td>...</td>\n",
       "      <td>...</td>\n",
       "    </tr>\n",
       "    <tr>\n",
       "      <th>294473</th>\n",
       "      <td>751197</td>\n",
       "      <td>2017-01-03 22:28:38.630509</td>\n",
       "      <td>control</td>\n",
       "      <td>old_page</td>\n",
       "      <td>0</td>\n",
       "    </tr>\n",
       "    <tr>\n",
       "      <th>294474</th>\n",
       "      <td>945152</td>\n",
       "      <td>2017-01-12 00:51:57.078372</td>\n",
       "      <td>control</td>\n",
       "      <td>old_page</td>\n",
       "      <td>0</td>\n",
       "    </tr>\n",
       "    <tr>\n",
       "      <th>294475</th>\n",
       "      <td>734608</td>\n",
       "      <td>2017-01-22 11:45:03.439544</td>\n",
       "      <td>control</td>\n",
       "      <td>old_page</td>\n",
       "      <td>0</td>\n",
       "    </tr>\n",
       "    <tr>\n",
       "      <th>294476</th>\n",
       "      <td>697314</td>\n",
       "      <td>2017-01-15 01:20:28.957438</td>\n",
       "      <td>control</td>\n",
       "      <td>old_page</td>\n",
       "      <td>0</td>\n",
       "    </tr>\n",
       "    <tr>\n",
       "      <th>294477</th>\n",
       "      <td>715931</td>\n",
       "      <td>2017-01-16 12:40:24.467417</td>\n",
       "      <td>treatment</td>\n",
       "      <td>new_page</td>\n",
       "      <td>0</td>\n",
       "    </tr>\n",
       "  </tbody>\n",
       "</table>\n",
       "<p>290585 rows × 5 columns</p>\n",
       "</div>"
      ],
      "text/plain": [
       "        user_id                   timestamp      group landing_page  converted\n",
       "0        851104  2017-01-21 22:11:48.556739    control     old_page          0\n",
       "1        804228  2017-01-12 08:01:45.159739    control     old_page          0\n",
       "2        661590  2017-01-11 16:55:06.154213  treatment     new_page          0\n",
       "3        853541  2017-01-08 18:28:03.143765  treatment     new_page          0\n",
       "4        864975  2017-01-21 01:52:26.210827    control     old_page          1\n",
       "...         ...                         ...        ...          ...        ...\n",
       "294473   751197  2017-01-03 22:28:38.630509    control     old_page          0\n",
       "294474   945152  2017-01-12 00:51:57.078372    control     old_page          0\n",
       "294475   734608  2017-01-22 11:45:03.439544    control     old_page          0\n",
       "294476   697314  2017-01-15 01:20:28.957438    control     old_page          0\n",
       "294477   715931  2017-01-16 12:40:24.467417  treatment     new_page          0\n",
       "\n",
       "[290585 rows x 5 columns]"
      ]
     },
     "execution_count": 54,
     "metadata": {},
     "output_type": "execute_result"
    }
   ],
   "source": [
    "# data cleaning procedure from the kaggle workbook\n",
    "\n",
    "i = ab_test_data[\n",
    "    (\n",
    "        (ab_test_data['group'] == 'treatment') == (ab_test_data['landing_page'] == 'new_page')\n",
    "    )\n",
    "    == False\n",
    "].index\n",
    "\n",
    "df2 = ab_test_data.drop(i)\n",
    "df2"
   ]
  },
  {
   "cell_type": "code",
   "execution_count": 55,
   "id": "ee358d1f",
   "metadata": {},
   "outputs": [],
   "source": [
    "def permutation_function(dataframe, data_col, grouping_col, iterations, statistic_function):\n",
    "    output = {}\n",
    "    groups = dataframe[grouping_col].value_counts().index\n",
    "    values = dataframe[grouping_col].value_counts()\n",
    "    \n",
    "    for x in range(iterations):\n",
    "        for i in groups:\n",
    "            sample_amount = dataframe[grouping_col].value_counts()[i]\n",
    "            sample_data = dataframe[data_col].sample(sample_amount, replace = False).to_list()\n",
    "            sample_metric = statistic_function(sample_data)\n",
    "            try:\n",
    "                output[i].append(sample_metric)\n",
    "            except (KeyError, AttributeError):\n",
    "                output[i] = [sample_metric]\n",
    "                \n",
    "    final_output = pd.DataFrame(output)\n",
    "    return final_output"
   ]
  },
  {
   "cell_type": "code",
   "execution_count": 56,
   "id": "8e8a53d9",
   "metadata": {},
   "outputs": [
    {
     "data": {
      "text/html": [
       "<div>\n",
       "<style scoped>\n",
       "    .dataframe tbody tr th:only-of-type {\n",
       "        vertical-align: middle;\n",
       "    }\n",
       "\n",
       "    .dataframe tbody tr th {\n",
       "        vertical-align: top;\n",
       "    }\n",
       "\n",
       "    .dataframe thead th {\n",
       "        text-align: right;\n",
       "    }\n",
       "</style>\n",
       "<table border=\"1\" class=\"dataframe\">\n",
       "  <thead>\n",
       "    <tr style=\"text-align: right;\">\n",
       "      <th></th>\n",
       "      <th>treatment</th>\n",
       "      <th>control</th>\n",
       "    </tr>\n",
       "  </thead>\n",
       "  <tbody>\n",
       "    <tr>\n",
       "      <th>0</th>\n",
       "      <td>0.119083</td>\n",
       "      <td>0.118610</td>\n",
       "    </tr>\n",
       "    <tr>\n",
       "      <th>1</th>\n",
       "      <td>0.118594</td>\n",
       "      <td>0.119953</td>\n",
       "    </tr>\n",
       "    <tr>\n",
       "      <th>2</th>\n",
       "      <td>0.119124</td>\n",
       "      <td>0.119044</td>\n",
       "    </tr>\n",
       "    <tr>\n",
       "      <th>3</th>\n",
       "      <td>0.120321</td>\n",
       "      <td>0.120207</td>\n",
       "    </tr>\n",
       "    <tr>\n",
       "      <th>4</th>\n",
       "      <td>0.120569</td>\n",
       "      <td>0.120015</td>\n",
       "    </tr>\n",
       "    <tr>\n",
       "      <th>...</th>\n",
       "      <td>...</td>\n",
       "      <td>...</td>\n",
       "    </tr>\n",
       "    <tr>\n",
       "      <th>4995</th>\n",
       "      <td>0.120239</td>\n",
       "      <td>0.120524</td>\n",
       "    </tr>\n",
       "    <tr>\n",
       "      <th>4996</th>\n",
       "      <td>0.119000</td>\n",
       "      <td>0.120166</td>\n",
       "    </tr>\n",
       "    <tr>\n",
       "      <th>4997</th>\n",
       "      <td>0.120424</td>\n",
       "      <td>0.120441</td>\n",
       "    </tr>\n",
       "    <tr>\n",
       "      <th>4998</th>\n",
       "      <td>0.119489</td>\n",
       "      <td>0.118418</td>\n",
       "    </tr>\n",
       "    <tr>\n",
       "      <th>4999</th>\n",
       "      <td>0.119358</td>\n",
       "      <td>0.118411</td>\n",
       "    </tr>\n",
       "  </tbody>\n",
       "</table>\n",
       "<p>5000 rows × 2 columns</p>\n",
       "</div>"
      ],
      "text/plain": [
       "      treatment   control\n",
       "0      0.119083  0.118610\n",
       "1      0.118594  0.119953\n",
       "2      0.119124  0.119044\n",
       "3      0.120321  0.120207\n",
       "4      0.120569  0.120015\n",
       "...         ...       ...\n",
       "4995   0.120239  0.120524\n",
       "4996   0.119000  0.120166\n",
       "4997   0.120424  0.120441\n",
       "4998   0.119489  0.118418\n",
       "4999   0.119358  0.118411\n",
       "\n",
       "[5000 rows x 2 columns]"
      ]
     },
     "execution_count": 56,
     "metadata": {},
     "output_type": "execute_result"
    }
   ],
   "source": [
    "permutation_data = permutation_function(df2, 'converted', 'group', 5000, np.mean)\n",
    "permutation_data"
   ]
  },
  {
   "cell_type": "code",
   "execution_count": 57,
   "id": "a01ce885",
   "metadata": {},
   "outputs": [
    {
     "data": {
      "text/plain": [
       "<AxesSubplot:>"
      ]
     },
     "execution_count": 57,
     "metadata": {},
     "output_type": "execute_result"
    },
    {
     "data": {
      "image/png": "[encoded data removed]",
      "text/plain": [
       "<Figure size 432x288 with 1 Axes>"
      ]
     },
     "metadata": {
      "needs_background": "light"
     },
     "output_type": "display_data"
    }
   ],
   "source": [
    "permutation_data['treatment'].hist()\n",
    "permutation_data['control'].hist()"
   ]
  },
  {
   "cell_type": "markdown",
   "id": "a743a49f",
   "metadata": {},
   "source": [
    "# Statistical Significance and p-values\n",
    "\n",
    "Results greater than the realm of chance variation are considered statistically significant.\n",
    "\n",
    "P-values allow us to more accurately use the Permutation Testing method to determine is a result is within the realm of random chance or if its significant. The p-value represents proportion of times that the chance model(permutation tests) produce results more extreme than the observed result. \n",
    "\n",
    "This value can be estimated by taking the proportion of time the Permutation Test produced a result greater than or equal to the observed difference.\n",
    "\n",
    "Now that we have the p-value, how do we know what is considered an extreme value? We usually set some threshold the p-value need to be greater than prior to our testing. By convention this value is usually 1% or 5% and called the alpha.\n",
    "\n",
    "**Because it's often misunderstood, i'm going to copy the book's definition of p-value here: The probability that, given a chance model, results as extreme as the observed results could occur.**\n",
    "\n",
    "https://www.amstat.org/asa/files/pdfs/p-valuestatement.pdf\n",
    "\n",
    "p-values in academic literature is so graught with misuse that the Americal Satistical Association released the above guidance on properly using them.\n",
    "\n",
    "**Type-1 Error:** Concluding an effect is real when it is just due to chance(false positive)\n",
    "\n",
    "**Type-2 Error:** Concluding an effect is not real when it is real(false negative)\n",
    "\n",
    "Significance testing is designed to protect against type 1 erroes, or thinking something is significant when it could just as easily have been caused by chance.\n",
    "\n",
    "For data Scientist, p-value serve as one piece of information in determining if the result of model is interesting or not. It shouldn't control the results of your work but the one component of if (in comparison to academia where it is scrutinized moe thoroughly)."
   ]
  },
  {
   "cell_type": "markdown",
   "id": "4f52813d",
   "metadata": {},
   "source": [
    "# t-Test\n",
    "\n",
    "The t-test was named after the Student's t-distribution. It was used in a time before researchers and statisticians could run the thousands of permutations necessary for the permutation test. It is used to determine if there's a significant difference between the means of two groups. We first need to determine what alpha value we are looking for, and then calculate our p-value. Lets settle on an alpha of 0.05.\n",
    "\n",
    "It can be implemented quite easily"
   ]
  },
  {
   "cell_type": "code",
   "execution_count": 58,
   "id": "60fb6d86",
   "metadata": {},
   "outputs": [
    {
     "name": "stdout",
     "output_type": "stream",
     "text": [
      "p-value for single sided test: 0.0948\n"
     ]
    }
   ],
   "source": [
    "res = stats.ttest_ind(df2[df2['group'] == 'control']['converted'], df2[df2['group'] == 'treatment']['converted'], equal_var=False)\n",
    "print(f'p-value for single sided test: {res.pvalue/2:.4f}')"
   ]
  },
  {
   "cell_type": "markdown",
   "id": "6a57eb84",
   "metadata": {},
   "source": [
    "This code outputs a p-value which we can then compared against our alpha to determine if we can reject or fail to reject the null hypothesis. Running the code we get a p-value of 0.0948 which is greater than the 0.05 we need to reject the null hypothesis, so **we failed to reject the null hypothesis**\n",
    "\n",
    "**Hypothesis: In order for the p-value to be more extreme than our alpha value, we need it to be lower than it.**\n",
    "\n",
    "https://www.investopedia.com/terms/t/t-test.asp"
   ]
  },
  {
   "cell_type": "markdown",
   "id": "77678280",
   "metadata": {},
   "source": [
    "# Multiple Testing\n",
    "\n",
    "With the explosion of avaiable data in the world over the past couple of years, the quote at the begining of these notes is more true than ever. Statistically speaking, if you try hard enough with a large enough dataset, you will find a statistically significant correlation even if none actually exist.\n",
    "\n",
    "If you have a particularly complicated procedure that you want to test, such as clinical trail where you might be testing result of a therapy at multiple stages, you increase your chances of classifying a chance event as statistically significant. This can be compensated for using statistical adjustments that make the bar for statistical significance more stringent, see Bonferroni's adjustment and Tukey's HSD.\n",
    "\n",
    "**False Discovery Rate:** Across multiple tests, the rate of making a Type 1 error\n",
    "\n",
    "**Alpha Inflation:** The multiple testing phenomenon in which the probability of making a Type 1 Error increases as you conduct more tests.\n",
    "\n",
    "**Adjustment of p-values:** Accounting for doing multiple tests on the same data\n",
    "\n",
    "There are mutiple ways to handle errors that occur with multiple testing, the methods used by statisticians will differ from the methods used by data scientists though.\n",
    "\n",
    "When using typical data science methods, you will migrate some of this risk throught cross-validation which tests your algorithm on multiple cuts of the same data, and a holdout set which the algorithm is not trained on and instead is tested on after the fact to ensure you are not overfitting your data."
   ]
  },
  {
   "cell_type": "markdown",
   "id": "cb2ea013",
   "metadata": {},
   "source": [
    "# Degrees of freedom\n",
    "\n",
    "Degrees of freedom of a dataset is calculated by taking the number of values N and subtracting 1 from it. The logic being that if you have 10 values and you know 9 of them + the mean, tha 10th value can only be one number. The investopedia article linked has a great alternative explanation of concept.\n",
    "\n",
    "https://www.investopedia.com/terms/d/degrees-of-freedom.asp#:~:text=Key%20Takeaways-,Degrees%20of%20freedom%20refers%20to%20the%20maximum%20number%20of%20logically,such%20as%20a%20chi%2Dsquare.\n",
    "\n",
    "We use n-1 in our calculations of sample variance and sample standard deviation. This is because, when taking a sample, out variance or standard deviation will be biased slightly downwards if we use n in the denominator so we free ourselves of that bias using n-1. When working with sufficently large datasets, whether the denominator is n or n-1 wont have a large effect on our results, so it doesn't really matter.\n",
    "\n",
    "Degree of freedom also explains the dummy variable Trap. This is a situation in which you are taking a categorical vatiable like days of the week and encoding into a numericl variable. You would normally do this through something call One Hot Encoding by basically making n-1 binary variables that represent each category except 1. The reaon we use n-1 is because if we get a 0 value (not this day) for 6 of the days of the week we automatically know that the 7th day of the week is what that record is and having another variable for it would be redundant and lead to a multicollinearity situation. Expand the graphic below if you want to see how the dummy variable tran can be avoided."
   ]
  },
  {
   "cell_type": "markdown",
   "id": "8b616cdf",
   "metadata": {},
   "source": [
    "# ANNOVA (Analysis Of Variance) Test\n",
    "\n",
    "**Pairwise Comparison:** Comparision between a summary statistic of different groups\n",
    "\n",
    "**Omnibus Test:** Single Hypothesis test of the overall variance among multiple group means\n",
    "\n",
    "**Decomposition of variance:** Separation of components contributing to an individual value\n",
    "\n",
    "**F-Statistic:** A standardized statistic that measure the extent to which differences among group means exceed what might be expected in a chance model.\n",
    "\n",
    "The ANOVA(Analysis of Variance) test helps us compare multiple groups or treatments against each other all at once. Let's say we have 4 website designs we sant to check, why can't we just do a pairwise test of every site against another? Remember the multiple testing section of this chapter? If we test enough pairwise group against one another, we might run into a correlation or think significant something that isn't actually significant. An ANOVA test allows us to test for a statistically significant different between groups.\n",
    "\n",
    "The following is the procedure for an ANOVA test.\n",
    "\n",
    "1. Combine data from all of the groups togther\n",
    "2. Shuffle and draw resamples for each group of the same size\n",
    "3. Record the mean of each group\n",
    "4. Record the variance among the means of the groups\n",
    "5. Repeat steps 2-4 times\n",
    "\n",
    "The proportions of resamples variances that exceed the observed variance is the p-value\n"
   ]
  },
  {
   "cell_type": "code",
   "execution_count": 61,
   "id": "1da9469f",
   "metadata": {},
   "outputs": [
    {
     "data": {
      "text/html": [
       "<div>\n",
       "<style scoped>\n",
       "    .dataframe tbody tr th:only-of-type {\n",
       "        vertical-align: middle;\n",
       "    }\n",
       "\n",
       "    .dataframe tbody tr th {\n",
       "        vertical-align: top;\n",
       "    }\n",
       "\n",
       "    .dataframe thead th {\n",
       "        text-align: right;\n",
       "    }\n",
       "</style>\n",
       "<table border=\"1\" class=\"dataframe\">\n",
       "  <thead>\n",
       "    <tr style=\"text-align: right;\">\n",
       "      <th></th>\n",
       "      <th>Page</th>\n",
       "      <th>Time</th>\n",
       "    </tr>\n",
       "  </thead>\n",
       "  <tbody>\n",
       "    <tr>\n",
       "      <th>0</th>\n",
       "      <td>Page 1</td>\n",
       "      <td>164</td>\n",
       "    </tr>\n",
       "    <tr>\n",
       "      <th>1</th>\n",
       "      <td>Page 2</td>\n",
       "      <td>178</td>\n",
       "    </tr>\n",
       "    <tr>\n",
       "      <th>2</th>\n",
       "      <td>Page 3</td>\n",
       "      <td>175</td>\n",
       "    </tr>\n",
       "    <tr>\n",
       "      <th>3</th>\n",
       "      <td>Page 4</td>\n",
       "      <td>155</td>\n",
       "    </tr>\n",
       "    <tr>\n",
       "      <th>4</th>\n",
       "      <td>Page 1</td>\n",
       "      <td>172</td>\n",
       "    </tr>\n",
       "    <tr>\n",
       "      <th>5</th>\n",
       "      <td>Page 2</td>\n",
       "      <td>191</td>\n",
       "    </tr>\n",
       "    <tr>\n",
       "      <th>6</th>\n",
       "      <td>Page 3</td>\n",
       "      <td>193</td>\n",
       "    </tr>\n",
       "    <tr>\n",
       "      <th>7</th>\n",
       "      <td>Page 4</td>\n",
       "      <td>166</td>\n",
       "    </tr>\n",
       "    <tr>\n",
       "      <th>8</th>\n",
       "      <td>Page 1</td>\n",
       "      <td>177</td>\n",
       "    </tr>\n",
       "    <tr>\n",
       "      <th>9</th>\n",
       "      <td>Page 2</td>\n",
       "      <td>182</td>\n",
       "    </tr>\n",
       "    <tr>\n",
       "      <th>10</th>\n",
       "      <td>Page 3</td>\n",
       "      <td>171</td>\n",
       "    </tr>\n",
       "    <tr>\n",
       "      <th>11</th>\n",
       "      <td>Page 4</td>\n",
       "      <td>164</td>\n",
       "    </tr>\n",
       "    <tr>\n",
       "      <th>12</th>\n",
       "      <td>Page 1</td>\n",
       "      <td>156</td>\n",
       "    </tr>\n",
       "    <tr>\n",
       "      <th>13</th>\n",
       "      <td>Page 2</td>\n",
       "      <td>185</td>\n",
       "    </tr>\n",
       "    <tr>\n",
       "      <th>14</th>\n",
       "      <td>Page 3</td>\n",
       "      <td>163</td>\n",
       "    </tr>\n",
       "    <tr>\n",
       "      <th>15</th>\n",
       "      <td>Page 4</td>\n",
       "      <td>170</td>\n",
       "    </tr>\n",
       "    <tr>\n",
       "      <th>16</th>\n",
       "      <td>Page 1</td>\n",
       "      <td>195</td>\n",
       "    </tr>\n",
       "    <tr>\n",
       "      <th>17</th>\n",
       "      <td>Page 2</td>\n",
       "      <td>177</td>\n",
       "    </tr>\n",
       "    <tr>\n",
       "      <th>18</th>\n",
       "      <td>Page 3</td>\n",
       "      <td>176</td>\n",
       "    </tr>\n",
       "    <tr>\n",
       "      <th>19</th>\n",
       "      <td>Page 4</td>\n",
       "      <td>168</td>\n",
       "    </tr>\n",
       "  </tbody>\n",
       "</table>\n",
       "</div>"
      ],
      "text/plain": [
       "      Page  Time\n",
       "0   Page 1   164\n",
       "1   Page 2   178\n",
       "2   Page 3   175\n",
       "3   Page 4   155\n",
       "4   Page 1   172\n",
       "5   Page 2   191\n",
       "6   Page 3   193\n",
       "7   Page 4   166\n",
       "8   Page 1   177\n",
       "9   Page 2   182\n",
       "10  Page 3   171\n",
       "11  Page 4   164\n",
       "12  Page 1   156\n",
       "13  Page 2   185\n",
       "14  Page 3   163\n",
       "15  Page 4   170\n",
       "16  Page 1   195\n",
       "17  Page 2   177\n",
       "18  Page 3   176\n",
       "19  Page 4   168"
      ]
     },
     "execution_count": 61,
     "metadata": {},
     "output_type": "execute_result"
    }
   ],
   "source": [
    "four_session = pd.read_csv(\"C:/Users/Administrator/Documents/projects/statistics/CHAPTER 3/four_sessions.csv\")\n",
    "four_session"
   ]
  },
  {
   "cell_type": "code",
   "execution_count": 64,
   "id": "bbbe0fd8",
   "metadata": {},
   "outputs": [
    {
     "name": "stdout",
     "output_type": "stream",
     "text": [
      "observed means: [172.8 182.6 175.6 164.6]\n",
      "Variance: 55.426666666666655\n",
      "Pr(prob) 0.07933333333333334\n"
     ]
    }
   ],
   "source": [
    "observed_variance = four_session.groupby('Page').mean().var()[0]\n",
    "print('observed means:', four_session.groupby('Page').mean().values.ravel())\n",
    "print('Variance:', observed_variance)\n",
    "\n",
    "def perm_test(df):\n",
    "    df = df.copy()\n",
    "    df['Time'] = np.random.permutation(df['Time'].values)\n",
    "    return df.groupby('Page').mean().var()[0]\n",
    "\n",
    "perm_variance = [perm_test(four_session) for _ in range(3000)]\n",
    "print('Pr(prob)', np.mean([var > observed_variance for var in perm_variance]))"
   ]
  },
  {
   "cell_type": "markdown",
   "id": "f9f217f2",
   "metadata": {},
   "source": [
    "https://www.statisticshowto.com/probability-and-statistics/hypothesis-testing/f-test/\n",
    "\n",
    "# F-test\n",
    "\n",
    "Like we have t-testing for the permutation testing, we have the f-statistic for ANOVA testing. The f-statistic is one of the outputs of an ANOVA test. The t-statistic tells us if there is a significant difference between a statistic of two groups  while the f-statistic tells us if a group of variables are significant together. The below code outputs what is called an ANOVA table which has a lot of useful information about the ANOVA test.\n",
    "\n"
   ]
  },
  {
   "cell_type": "code",
   "execution_count": 75,
   "id": "b491a59d",
   "metadata": {},
   "outputs": [
    {
     "name": "stdout",
     "output_type": "stream",
     "text": [
      "            df  sum_sq     mean_sq         F    PR(>F)\n",
      "Page       3.0   831.4  277.133333  2.739825  0.077586\n",
      "Residual  16.0  1618.4  101.150000       NaN       NaN\n",
      "F-statistic: nan\n",
      "P-value: nan\n"
     ]
    },
    {
     "name": "stderr",
     "output_type": "stream",
     "text": [
      "C:\\ProgramData\\Anaconda3\\lib\\site-packages\\scipy\\stats\\stats.py:3621: F_onewayBadInputSizesWarning: at least one input has length 0\n",
      "  warnings.warn(F_onewayBadInputSizesWarning('at least one input '\n"
     ]
    }
   ],
   "source": [
    "import statsmodels.formula.api as smf\n",
    "\n",
    "model = smf.ols('Time ~ Page', data = four_session).fit()\n",
    "\n",
    "aov_table = sm.stats.anova_lm(model)\n",
    "print(aov_table)\n",
    "\n",
    "res = stats.f_oneway(four_session[four_session.Page == 'Page1'].Time,\n",
    "                     four_session[four_session.Page == 'Page2'].Time,\n",
    "                     four_session[four_session.Page == 'Page3'].Time,\n",
    "                     four_session[four_session.Page == 'Page4'].Time)\n",
    "\n",
    "print(f'F-statistic: {res.statistic / 2:.4f}')\n",
    "print(f'P-value: {res.pvalue / 2:.4f}')"
   ]
  },
  {
   "cell_type": "markdown",
   "id": "57476c36",
   "metadata": {},
   "source": [
    "# Chi-Square Test\n",
    "\n",
    "While ANOVA testing determines if the means between two variables are significantly different, chi-squared testing determines if some data fits ann expected distribution. Let's take our webpage example again. The null hypothesis would be something along the line of 'There is no difference in clickthrough rates between websites A,B,C\". Assuming this is true, we would test all three websites on 1000 users a piece and measure the clickthrough counts. Let's say we get 10 click for site A, 50 for site B, 80 for site C, Assuming that out numm hypothesis is true, we expect that the expected clickthrough count for each website will be (10+50+80)/3 = 46.7. We can then calculate the Pearson residual through the formula.\n",
    "\n",
    "## R = (Observer - Expected)/sqrt(Expected)\n",
    "\n",
    "The chi-square statistic is the sum of all the squared residuals. This is considered our Observed chi-squared statistic and we can resample to compare the proportion of sum of squared deviations that exceed the oberved to get out p-value.\n",
    "\n",
    "https://www.statisticshowto.com/residual/\n",
    "\n",
    "We van use the scipy package to compute the p-value using the chi-square distribution as a reference\n"
   ]
  },
  {
   "cell_type": "code",
   "execution_count": 81,
   "id": "82f897ae",
   "metadata": {},
   "outputs": [
    {
     "data": {
      "text/html": [
       "<div>\n",
       "<style scoped>\n",
       "    .dataframe tbody tr th:only-of-type {\n",
       "        vertical-align: middle;\n",
       "    }\n",
       "\n",
       "    .dataframe tbody tr th {\n",
       "        vertical-align: top;\n",
       "    }\n",
       "\n",
       "    .dataframe thead th {\n",
       "        text-align: right;\n",
       "    }\n",
       "</style>\n",
       "<table border=\"1\" class=\"dataframe\">\n",
       "  <thead>\n",
       "    <tr style=\"text-align: right;\">\n",
       "      <th></th>\n",
       "      <th>Headline</th>\n",
       "      <th>Click</th>\n",
       "      <th>Rate</th>\n",
       "    </tr>\n",
       "  </thead>\n",
       "  <tbody>\n",
       "    <tr>\n",
       "      <th>0</th>\n",
       "      <td>Headline A</td>\n",
       "      <td>Click</td>\n",
       "      <td>14</td>\n",
       "    </tr>\n",
       "    <tr>\n",
       "      <th>1</th>\n",
       "      <td>Headline A</td>\n",
       "      <td>No-click</td>\n",
       "      <td>986</td>\n",
       "    </tr>\n",
       "    <tr>\n",
       "      <th>2</th>\n",
       "      <td>Headline B</td>\n",
       "      <td>Click</td>\n",
       "      <td>8</td>\n",
       "    </tr>\n",
       "    <tr>\n",
       "      <th>3</th>\n",
       "      <td>Headline B</td>\n",
       "      <td>No-click</td>\n",
       "      <td>992</td>\n",
       "    </tr>\n",
       "    <tr>\n",
       "      <th>4</th>\n",
       "      <td>Headline C</td>\n",
       "      <td>Click</td>\n",
       "      <td>12</td>\n",
       "    </tr>\n",
       "    <tr>\n",
       "      <th>5</th>\n",
       "      <td>Headline C</td>\n",
       "      <td>No-click</td>\n",
       "      <td>988</td>\n",
       "    </tr>\n",
       "  </tbody>\n",
       "</table>\n",
       "</div>"
      ],
      "text/plain": [
       "     Headline     Click  Rate\n",
       "0  Headline A     Click    14\n",
       "1  Headline A  No-click   986\n",
       "2  Headline B     Click     8\n",
       "3  Headline B  No-click   992\n",
       "4  Headline C     Click    12\n",
       "5  Headline C  No-click   988"
      ]
     },
     "execution_count": 81,
     "metadata": {},
     "output_type": "execute_result"
    }
   ],
   "source": [
    "clicks_data = pd.read_csv(\"C:/Users/Administrator/Documents/projects/statistics/CHAPTER 3/click_rates.csv\")\n",
    "clicks_data"
   ]
  },
  {
   "cell_type": "code",
   "execution_count": 82,
   "id": "cab81b29",
   "metadata": {},
   "outputs": [
    {
     "data": {
      "text/html": [
       "<div>\n",
       "<style scoped>\n",
       "    .dataframe tbody tr th:only-of-type {\n",
       "        vertical-align: middle;\n",
       "    }\n",
       "\n",
       "    .dataframe tbody tr th {\n",
       "        vertical-align: top;\n",
       "    }\n",
       "\n",
       "    .dataframe thead th {\n",
       "        text-align: right;\n",
       "    }\n",
       "</style>\n",
       "<table border=\"1\" class=\"dataframe\">\n",
       "  <thead>\n",
       "    <tr style=\"text-align: right;\">\n",
       "      <th>Headline</th>\n",
       "      <th>Headline A</th>\n",
       "      <th>Headline B</th>\n",
       "      <th>Headline C</th>\n",
       "    </tr>\n",
       "    <tr>\n",
       "      <th>Click</th>\n",
       "      <th></th>\n",
       "      <th></th>\n",
       "      <th></th>\n",
       "    </tr>\n",
       "  </thead>\n",
       "  <tbody>\n",
       "    <tr>\n",
       "      <th>Click</th>\n",
       "      <td>14</td>\n",
       "      <td>8</td>\n",
       "      <td>12</td>\n",
       "    </tr>\n",
       "    <tr>\n",
       "      <th>No-click</th>\n",
       "      <td>986</td>\n",
       "      <td>992</td>\n",
       "      <td>988</td>\n",
       "    </tr>\n",
       "  </tbody>\n",
       "</table>\n",
       "</div>"
      ],
      "text/plain": [
       "Headline  Headline A  Headline B  Headline C\n",
       "Click                                       \n",
       "Click             14           8          12\n",
       "No-click         986         992         988"
      ]
     },
     "execution_count": 82,
     "metadata": {},
     "output_type": "execute_result"
    }
   ],
   "source": [
    "clicks = clicks_data.pivot(index = 'Click', columns = 'Headline', values = 'Rate')\n",
    "clicks"
   ]
  },
  {
   "cell_type": "code",
   "execution_count": 85,
   "id": "eb8abaf9",
   "metadata": {},
   "outputs": [
    {
     "name": "stdout",
     "output_type": "stream",
     "text": [
      "Observed chi2:  1.6659\n",
      "pvalue:  0.4348\n"
     ]
    }
   ],
   "source": [
    "Chisq, pvalue, df, expected = stats.chi2_contingency(clicks)\n",
    "print(f'Observed chi2: {Chisq: .4f}')\n",
    "print(f'pvalue: {pvalue: .4f}')"
   ]
  },
  {
   "cell_type": "markdown",
   "id": "acec4a4e",
   "metadata": {},
   "source": [
    "If you have a very small number of counts then the chi-square test which is an approximation of the resampling procedure won't work as well as Fisher's Exact Test. There aren't any common libraries to perform Fisher's Test on contingency tables greater than 2x2 in size. You can use the **scipy.stats.fisher_exact** method for 2x2 table.\n",
    "\n",
    "Classically, Fisher and Chi-square tests were used to see if an effect is real or more likely a product of chance. In data science we typically use Fisher and Chi square tests to better determine if a feature(column) in a dataset has a significant enough effect to warrant further consideration."
   ]
  },
  {
   "cell_type": "markdown",
   "id": "4a30efb4",
   "metadata": {},
   "source": [
    "# Multi-Arm Bandit Algorithm\n",
    "\n",
    "Although it sounds complicated, a multi-arm bandit algorithm is just supposed to allow us to pick the most effective treatment from a number of treatments while testing other treatments in order to allow more information to better train our algorithm. In short, if you have treatment A,B and C (let's say they are different headlines to a news article), and we know that A is more effective than B, is more effective than C, instead of just showing people A, we show them A at a higher rate than B, at a higher rate than C in order to use the best headline while continuing to collect information in case conditions change or we did not collect enough information to make a judgement early on.\n",
    "\n",
    "https://lilianweng.github.io/lil-log/2018/01/23/the-multi-armed-bandit-problem-and-its-solutions.html\n",
    "\n",
    "https://www.analyticsvidhya.com/blog/2018/09/reinforcement-multi-armed-bandit-scratch-python/"
   ]
  },
  {
   "cell_type": "markdown",
   "id": "032e07c5",
   "metadata": {},
   "source": [
    "# power and sample size\n",
    "\n",
    "Power refers to the probability of detecting a given effect size with a given sample size. An effect size is the minimum size of the effect that we hope to be able to detect in a statistical test, basically how much a new treatment needs toimprove outcomes for us to institute the new treatment.\n",
    "\n",
    "Power is usually used to determine sample sizes. If we want to decide between two ads, and we want to pick Ad B only if there is a 10% greater improvement in it, then we need to determine what sample size will produce results that are signifcant enougn for us to determine this. There are four moving parts we heed to coordinate:\n",
    "\n",
    "1. Sample size\n",
    "2. Effect size we want to detect(also called the Minimum Desired Effect or MDE)\n",
    "3. Significance level(alpha) we are conducting our test at \n",
    "4. Power\n",
    "\n",
    "If we have three, then we can calculate the fourth"
   ]
  },
  {
   "cell_type": "code",
   "execution_count": 86,
   "id": "30700275",
   "metadata": {},
   "outputs": [
    {
     "ename": "NameError",
     "evalue": "name 'analysis' is not defined",
     "output_type": "error",
     "traceback": [
      "\u001b[1;31m---------------------------------------------------------------------------\u001b[0m",
      "\u001b[1;31mNameError\u001b[0m                                 Traceback (most recent call last)",
      "\u001b[1;32mC:\\Users\\ADMINI~1\\AppData\\Local\\Temp/ipykernel_14072/1520193506.py\u001b[0m in \u001b[0;36m<module>\u001b[1;34m\u001b[0m\n\u001b[0;32m      1\u001b[0m \u001b[0meffect_size\u001b[0m \u001b[1;33m=\u001b[0m  \u001b[0msm\u001b[0m\u001b[1;33m.\u001b[0m\u001b[0mstats\u001b[0m\u001b[1;33m.\u001b[0m\u001b[0mproportion_effectsize\u001b[0m\u001b[1;33m(\u001b[0m\u001b[1;36m0.0121\u001b[0m\u001b[1;33m,\u001b[0m \u001b[1;36m0.011\u001b[0m\u001b[1;33m)\u001b[0m\u001b[1;33m\u001b[0m\u001b[1;33m\u001b[0m\u001b[0m\n\u001b[1;32m----> 2\u001b[1;33m \u001b[0manalysis\u001b[0m \u001b[1;33m-\u001b[0m \u001b[0msm\u001b[0m\u001b[1;33m.\u001b[0m\u001b[0mstats\u001b[0m\u001b[1;33m.\u001b[0m\u001b[0mTTestIndPower\u001b[0m\u001b[1;33m(\u001b[0m\u001b[1;33m)\u001b[0m\u001b[1;33m\u001b[0m\u001b[1;33m\u001b[0m\u001b[0m\n\u001b[0m\u001b[0;32m      3\u001b[0m \u001b[0mresult\u001b[0m  \u001b[1;33m=\u001b[0m \u001b[0manalysis\u001b[0m\u001b[1;33m.\u001b[0m\u001b[0msolve_power\u001b[0m\u001b[1;33m(\u001b[0m\u001b[0meffect_size\u001b[0m \u001b[1;33m=\u001b[0m \u001b[0meffect_size\u001b[0m\u001b[1;33m,\u001b[0m \u001b[0malpha\u001b[0m \u001b[1;33m=\u001b[0m \u001b[1;36m0.05\u001b[0m\u001b[1;33m,\u001b[0m \u001b[0mpower\u001b[0m \u001b[1;33m=\u001b[0m \u001b[1;36m0.8\u001b[0m\u001b[1;33m,\u001b[0m \u001b[0malternative\u001b[0m \u001b[1;33m=\u001b[0m \u001b[1;34m'larger'\u001b[0m\u001b[1;33m)\u001b[0m\u001b[1;33m\u001b[0m\u001b[1;33m\u001b[0m\u001b[0m\n\u001b[0;32m      4\u001b[0m \u001b[0mprint\u001b[0m\u001b[1;33m(\u001b[0m\u001b[1;34m'Sample Size: %.3f'\u001b[0m \u001b[1;33m%\u001b[0m \u001b[0mresult\u001b[0m\u001b[1;33m)\u001b[0m\u001b[1;33m\u001b[0m\u001b[1;33m\u001b[0m\u001b[0m\n",
      "\u001b[1;31mNameError\u001b[0m: name 'analysis' is not defined"
     ]
    }
   ],
   "source": [
    "effect_size =  sm.stats.proportion_effectsize(0.0121, 0.011)\n",
    "analysis - sm.stats.TTestIndPower()\n",
    "result  = analysis.solve_power(effect_size = effect_size, alpha = 0.05, power = 0.8, alternative = 'larger')\n",
    "print('Sample Size: %.3f' % result)"
   ]
  },
  {
   "cell_type": "markdown",
   "id": "433e774c",
   "metadata": {},
   "source": [
    "# Power Curve\n",
    "\n",
    "https://machinelearningmastery.com/statistical-power-and-power-analysis-in-python/#:~:text=Statistical%20power%20is%20the%20probability,effect%20size%2C%20and%20statistical%20power.\n",
    "\n",
    "There is better coverage on methods to calculate statistical power in the link above. A typical default value for power is 0.8. We can also create something called a Power Curve which can help us see the diminishing returns in our power as we iterate through sample sizes."
   ]
  },
  {
   "cell_type": "code",
   "execution_count": 90,
   "id": "b2fa1671",
   "metadata": {},
   "outputs": [
    {
     "data": {
      "text/plain": [
       "Text(0, 0.5, 'Power')"
      ]
     },
     "execution_count": 90,
     "metadata": {},
     "output_type": "execute_result"
    },
    {
     "data": {
      "image/png": "[encoded data removed]",
      "text/plain": [
       "<Figure size 432x288 with 1 Axes>"
      ]
     },
     "metadata": {
      "needs_background": "light"
     },
     "output_type": "display_data"
    }
   ],
   "source": [
    "def power_curve(effect_size, current_effect, alpha, power):\n",
    "    effect_size = sm.stats.proportion_effectsize(current_effect + effect_size, current_effect)\n",
    "    analysis = sm.stats.TTestIndPower()\n",
    "    sample_size = analysis.solve_power(effect_size=effect_size, alpha = alpha, power = power, alternative='larger')\n",
    "    \n",
    "    return [effect_size, alpha, power, sample_size]\n",
    "\n",
    "power_curve_results = []\n",
    "\n",
    "for pow in np.arange(0.8,1.0,0.01):\n",
    "    power_curve_results.append(power_curve(0.0035, 0.12, 0.05, pow))\n",
    "    \n",
    "power_curve_dataframe = pd.DataFrame(power_curve_results, columns = ['effect_size', 'alpha', 'power', 'sample_size'])\n",
    "\n",
    "plt.plot(power_curve_dataframe['sample_size'], power_curve_dataframe['power'])\n",
    "plt.xlabel('sample Size')\n",
    "plt.ylabel('Power')"
   ]
  },
  {
   "cell_type": "markdown",
   "id": "31ae4a00",
   "metadata": {},
   "source": [
    "The above code is one method to create a power curve. As we can see, there is a point of diminishing returns after around 210000 samples."
   ]
  },
  {
   "cell_type": "markdown",
   "id": "7a809d6c",
   "metadata": {},
   "source": [
    "# Statistical Rule of Thumb for Sample Size\n",
    "\n",
    "Another method for calculating sample size is a statistical rule of thumb expressed in the kaggle notebook share below\n",
    "\n",
    "https://www.kaggle.com/myzziah/e-commerce-a-b-testing-full-experiment\n"
   ]
  },
  {
   "cell_type": "code",
   "execution_count": 91,
   "id": "1ae38197",
   "metadata": {},
   "outputs": [],
   "source": [
    "def stat_rule_sample_size(current_effect, effect_size):\n",
    "    return 16*(current_effect*(1-current_effect))/effect_size**2"
   ]
  }
 ],
 "metadata": {
  "kernelspec": {
   "display_name": "Python 3 (ipykernel)",
   "language": "python",
   "name": "python3"
  },
  "language_info": {
   "codemirror_mode": {
    "name": "ipython",
    "version": 3
   },
   "file_extension": ".py",
   "mimetype": "text/x-python",
   "name": "python",
   "nbconvert_exporter": "python",
   "pygments_lexer": "ipython3",
   "version": "3.9.7"
  }
 },
 "nbformat": 4,
 "nbformat_minor": 5
}
